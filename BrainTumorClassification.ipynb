{
  "nbformat": 4,
  "nbformat_minor": 0,
  "metadata": {
    "colab": {
      "name": "Copy of BrainTumorClassification.ipynb",
      "provenance": [],
      "collapsed_sections": [],
      "toc_visible": true,
      "machine_shape": "hm",
      "include_colab_link": true
    },
    "kernelspec": {
      "name": "python3",
      "display_name": "Python 3"
    },
    "accelerator": "TPU"
  },
  "cells": [
    {
      "cell_type": "markdown",
      "metadata": {
        "id": "view-in-github",
        "colab_type": "text"
      },
      "source": [
        "<a href=\"https://colab.research.google.com/github/PadmarajBhat/Machine-Learning/blob/master/BrainTumorClassification.ipynb\" target=\"_parent\"><img src=\"https://colab.research.google.com/assets/colab-badge.svg\" alt=\"Open In Colab\"/></a>"
      ]
    },
    {
      "cell_type": "markdown",
      "metadata": {
        "id": "uTCyCln9DwLS",
        "colab_type": "text"
      },
      "source": [
        "# Detection of 3 Brain Tumors (Meningioma, Glioma and Pituitary) in T1-weighted contrast enhanced images\n",
        "\n",
        "### - Revisitng the Udacity Capstone Project in pursuit of better accuracy\n",
        "\n"
      ]
    },
    {
      "cell_type": "markdown",
      "metadata": {
        "id": "ExaNYOAl3nSH",
        "colab_type": "text"
      },
      "source": [
        "# What is the problem statement?\n",
        "  * predict the tumor class given only MRI image\n",
        "  * OR predict the tumor class when both MRI and Tumor region is given !!!\n",
        "      * tumor region is identified and put in input dataset by experts\n",
        "          * can we have Image Segmentation problem ?\n",
        "\n",
        "\n",
        "  * I think this is the order of problem from easy level to difficult level\n",
        "    * Identify the tumor class from raw MRI image (here accuracy may be low)\n",
        "    * Identify the tumor class from raw MRI image + tumor region identified (here accuracy may be better)\n",
        "    * Auto detect the tumor segment in a MRI image and classify the tumor (ideal application for a radiologist)\n",
        "\n",
        "    Let us try all the 3 !!!"
      ]
    },
    {
      "cell_type": "markdown",
      "metadata": {
        "id": "47aIRBi1lPdJ",
        "colab_type": "text"
      },
      "source": [
        "# Import Packages\n",
        "* read the input MRI images (.mat) files through ***h5py***\n",
        "* ***pandas*** for data analysis and preprocessing\n",
        "* ***tensorflow*** for modelling and predicting"
      ]
    },
    {
      "cell_type": "code",
      "metadata": {
        "id": "IzYp6q2F5Doj",
        "colab_type": "code",
        "colab": {}
      },
      "source": [
        "try:\n",
        "  # %tensorflow_version only exists in Colab.\n",
        "  %tensorflow_version 2.x\n",
        "except Exception:\n",
        "  pass"
      ],
      "execution_count": 0,
      "outputs": []
    },
    {
      "cell_type": "code",
      "metadata": {
        "id": "8XamypXiCEdS",
        "colab_type": "code",
        "colab": {}
      },
      "source": [
        "import os\n",
        "import zipfile\n",
        "import h5py\n",
        "import numpy as np\n",
        "\n",
        "import pandas as pd\n",
        "\n",
        "from sklearn.preprocessing import MinMaxScaler\n",
        "\n",
        "from matplotlib import pyplot as plt\n",
        "from bokeh.io import output_notebook, show\n",
        "from bokeh.layouts import row\n",
        "from bokeh.plotting import figure\n",
        "output_notebook()\n",
        "\n",
        "import tensorflow as tf"
      ],
      "execution_count": 0,
      "outputs": []
    },
    {
      "cell_type": "code",
      "metadata": {
        "id": "D8abLHDC4ut4",
        "colab_type": "code",
        "colab": {
          "base_uri": "https://localhost:8080/",
          "height": 34
        },
        "outputId": "fec8912d-7a3d-4be7-c156-3cf2359ee952"
      },
      "source": [
        "tf.__version__"
      ],
      "execution_count": 10,
      "outputs": [
        {
          "output_type": "execute_result",
          "data": {
            "text/plain": [
              "'2.0.0-rc1'"
            ]
          },
          "metadata": {
            "tags": []
          },
          "execution_count": 10
        }
      ]
    },
    {
      "cell_type": "markdown",
      "metadata": {
        "id": "68mR7i5xla0f",
        "colab_type": "text"
      },
      "source": [
        "# Load Data\n",
        "* Mount Google Drive\n",
        "* Unzip it in colab disk\n",
        "* load mat attributes to list of tuples\n",
        "* create a panda dataframe for analysis\n",
        "\n",
        "##### Issues Faced:\n",
        "1. loading to panda with image took half(6GB) of RAM\n",
        "* loading tumor along with mri image (as in mat file) crashed the colab\n",
        "  * Solution: let us load image but save only 5 point summary for both mri image and tumor\n",
        "\n",
        "2. How do we scale/normalize the data?\n",
        "  * would tumor region have 0 in it ?\n",
        "    * only way to know is through the value present in the binary indicator == 1\n",
        "        * implementation through 2 for loops takes forever !!!\n",
        "          * need to implement throuhg np.where\n",
        "        \n",
        "\n",
        "3. Some images are less than 512\n",
        "    * pad the difference with 0s.\n",
        "    \n",
        "4. Should tumor image be scaled between 0 -1? For now, brightness values are relative to that of the whole image to which it belongs to."
      ]
    },
    {
      "cell_type": "code",
      "metadata": {
        "id": "6trYXPZPJ54V",
        "colab_type": "code",
        "colab": {
          "base_uri": "https://localhost:8080/",
          "height": 34
        },
        "outputId": "877e34c8-52b6-407a-fa84-57a9d48b888d"
      },
      "source": [
        "from google.colab import drive\n",
        "drive.mount('/content/drive')"
      ],
      "execution_count": 11,
      "outputs": [
        {
          "output_type": "stream",
          "text": [
            "Drive already mounted at /content/drive; to attempt to forcibly remount, call drive.mount(\"/content/drive\", force_remount=True).\n"
          ],
          "name": "stdout"
        }
      ]
    },
    {
      "cell_type": "code",
      "metadata": {
        "id": "NHDagZs8KQ_K",
        "colab_type": "code",
        "colab": {
          "base_uri": "https://localhost:8080/",
          "height": 67
        },
        "outputId": "52cd138e-2bfd-49eb-d9cd-8fbd7dc6ddbd"
      },
      "source": [
        "!ls /content/drive/'My Drive'/1512427"
      ],
      "execution_count": 12,
      "outputs": [
        {
          "output_type": "stream",
          "text": [
            "brainTumorDataPublic_1533-2298.zip  brainTumorDataPublic_767-1532.zip\n",
            "brainTumorDataPublic_1-766.zip\t    cvind.mat\n",
            "brainTumorDataPublic_2299-3064.zip  README.txt\n"
          ],
          "name": "stdout"
        }
      ]
    },
    {
      "cell_type": "code",
      "metadata": {
        "id": "3ND1wWEFMf4a",
        "colab_type": "code",
        "colab": {
          "base_uri": "https://localhost:8080/",
          "height": 34
        },
        "outputId": "692c3ac8-07ab-497f-b300-787909615c22"
      },
      "source": [
        "!ls /content/drive/'My Drive'/1512427/brainTumorDataPublic_1-766.zip"
      ],
      "execution_count": 13,
      "outputs": [
        {
          "output_type": "stream",
          "text": [
            "'/content/drive/My Drive/1512427/brainTumorDataPublic_1-766.zip'\n"
          ],
          "name": "stdout"
        }
      ]
    },
    {
      "cell_type": "markdown",
      "metadata": {
        "id": "gyh_sPtY7UMy",
        "colab_type": "text"
      },
      "source": [
        "### Load Image Array"
      ]
    },
    {
      "cell_type": "code",
      "metadata": {
        "id": "VoGqScRpu7F5",
        "colab_type": "code",
        "colab": {}
      },
      "source": [
        "def retrieveImage(file_name):\n",
        "  f = h5py.File(file_name,'r')\n",
        "  mri_image = np.array(f['cjdata']['image'],dtype=np.float128)\n",
        "  if mri_image.shape[0] < 512:\n",
        "      print(\"Shape of the image : \", mri_image.shape)\n",
        "      mri_image = np.pad(mri_image,(512 - mri_image.shape[0])//2,'constant',constant_values=0)\n",
        "  return mri_image/mri_image.max()"
      ],
      "execution_count": 0,
      "outputs": []
    },
    {
      "cell_type": "markdown",
      "metadata": {
        "id": "II_gT4oC7bYb",
        "colab_type": "text"
      },
      "source": [
        "### Load Tumor Array"
      ]
    },
    {
      "cell_type": "code",
      "metadata": {
        "id": "KcPw_HqJ7pkX",
        "colab_type": "code",
        "colab": {}
      },
      "source": [
        "def retrieveTumorImage(file_name):\n",
        "  f = h5py.File(file_name,'r')\n",
        "  mri_image = np.array(f['cjdata']['tumorMask'],dtype=np.float128)\n",
        "  if mri_image.shape[0] < 512:\n",
        "      print(\"Shape of the image : \", mri_image.shape)\n",
        "      mri_image = np.pad(mri_image,(512 - mri_image.shape[0])//2,'constant',constant_values=0)\n",
        "  return mri_image/mri_image.max()"
      ],
      "execution_count": 0,
      "outputs": []
    },
    {
      "cell_type": "markdown",
      "metadata": {
        "id": "FF_-ayUh7jlS",
        "colab_type": "text"
      },
      "source": [
        "### Load Image and Tumor Statistics to Panda"
      ]
    },
    {
      "cell_type": "code",
      "metadata": {
        "id": "ZPUvYbhjEzet",
        "colab_type": "code",
        "colab": {}
      },
      "source": [
        "def return_imageInfo_from_mat_file(file_name):\n",
        "    f = h5py.File(file_name,'r')\n",
        "\n",
        "    mri_image = np.array(f['cjdata']['image'],dtype=np.float128)\n",
        "    #scaler = MinMaxScaler(feature_range=(1,2))\n",
        "    #mri_image = scaler.fit(mri_image)\n",
        "    mri_image = mri_image/mri_image.max()\n",
        "\n",
        "    if mri_image.shape[0] < 512:\n",
        "      print(\"Shape of the image : \", mri_image.shape)\n",
        "      mri_image = np.pad(mri_image,(512 - mri_image.shape[0])//2,'constant',constant_values=0)\n",
        "    \n",
        "    temp_mri_image = np.copy(mri_image)\n",
        "    temp_mri_image[temp_mri_image == 0 ] = 2\n",
        "\n",
        "    mri_quartiles = np.percentile(mri_image[mri_image > 0], [25, 50, 75])\n",
        "\n",
        "    tumor_image = np.array(f['cjdata']['tumorMask'], dtype=np.float128)\n",
        "    if tumor_image.shape[0] < 512:\n",
        "      print(\"Shape of the tumor image : \", tumor_image.shape)\n",
        "      tumor_image = np.pad(tumor_image,(512 - tumor_image.shape[0])//2,'constant',constant_values=0)\n",
        "    \n",
        "    tumor_image = temp_mri_image * tumor_image\n",
        "    tumor_image = tumor_image[tumor_image > 0]\n",
        "    tumor_image[tumor_image == 2] = 0\n",
        "\n",
        "    '''tumor_array =[]\n",
        "    for i in range(0,512):\n",
        "      for j in range(0,512):\n",
        "        if tumor_image[i][j]:\n",
        "          tumor_array.append(mri_image[i][j])\n",
        "\n",
        "    tumor_image = np.array(tumor_array, dtype=np.float)'''\n",
        "\n",
        "    tumor_quartiles = np.percentile(tumor_image, [25, 50, 75])\n",
        "\n",
        "    return np.array(f['cjdata']['PID'],dtype=np.int)[0][0] \\\n",
        "            ,mri_image.min() \\\n",
        "            ,mri_image.max() \\\n",
        "            ,mri_quartiles[1] \\\n",
        "            ,mri_quartiles[0] \\\n",
        "            ,mri_quartiles[2] \\\n",
        "            ,tumor_image.min() \\\n",
        "            ,tumor_image.max() \\\n",
        "            ,tumor_quartiles[1] \\\n",
        "            ,tumor_quartiles[0] \\\n",
        "            ,tumor_quartiles[2] \\\n",
        "            ,tumor_image.shape \\\n",
        "            ,file_name\\\n",
        "            ,np.array(f['cjdata']['label'], dtype=np.int)[0][0] "
      ],
      "execution_count": 0,
      "outputs": []
    },
    {
      "cell_type": "code",
      "metadata": {
        "id": "4h9X8MvPNy50",
        "colab_type": "code",
        "colab": {}
      },
      "source": [
        "def loadDf():\n",
        "  patients_details = []\n",
        "  for root, dirs, files in os.walk(\"/content/drive/My Drive/1512427/\", topdown = False):\n",
        "    for f in files:\n",
        "      if \".zip\" in f:\n",
        "          file = zipfile.ZipFile(root+f, \"r\")\n",
        "          for name in file.namelist():\n",
        "            file.extract(name,\".\")\n",
        "            patients_details.append(return_imageInfo_from_mat_file(name))\n",
        "          #break\n",
        "      #break\n",
        "  mri_col_names = [\"mri_min\",\"mri_max\",\"mri_median\",\"mri_1q\", \"mri_3q\"]\n",
        "  tumor_col_names = [\"t_min\",\"t_max\",\"t_median\",\"t_1q\",\"t_3q\",\"tumor_size\"]\n",
        "  col_names = [\"pid\"] + mri_col_names + tumor_col_names+ [\"file_name\",\"label\"]\n",
        "  return pd.DataFrame(patients_details,columns=col_names)\n"
      ],
      "execution_count": 0,
      "outputs": []
    },
    {
      "cell_type": "code",
      "metadata": {
        "id": "_E7e82UO_cLc",
        "colab_type": "code",
        "colab": {}
      },
      "source": [
        "\n",
        "tumor_names = [\"\",\"Meningioma\",\"Glioma\",\"Pituitary\"]"
      ],
      "execution_count": 0,
      "outputs": []
    },
    {
      "cell_type": "code",
      "metadata": {
        "id": "LCSo34a4Vlta",
        "colab_type": "code",
        "colab": {}
      },
      "source": [
        "\n",
        "df = loadDf()\n",
        "df[\"square_shape\"] = df.tumor_size.apply(lambda x: np.sqrt(x[0]))\n",
        "df.sample(20)"
      ],
      "execution_count": 0,
      "outputs": []
    },
    {
      "cell_type": "markdown",
      "metadata": {
        "id": "c0KYEepMovPx",
        "colab_type": "text"
      },
      "source": [
        "# Analysis\n"
      ]
    },
    {
      "cell_type": "markdown",
      "metadata": {
        "id": "2tqRGoUK5APW",
        "colab_type": "text"
      },
      "source": [
        "## Statistical Analysis\n",
        "* Number of patients in the dataset\n",
        "* Patient wise distribution of tumor classes\n",
        "* Comparison of below attributes for the 3 tumor classes\n",
        "  * 1st quantile of MRI image\n",
        "  * Median of the MRI image\n",
        "  * 3rd quantile of the MRI image\n",
        "  * min value distribution of the Tumor\n",
        "  * max value distribution of the Tumor\n",
        "  * 1st quantile of the Tumor\n",
        "  * median of the Tumor\n",
        "  * 3rd quantile of the Tumor\n",
        "    * Analysis: \n",
        "      * All tumors have darkest area which may indicate the tumor itself\n",
        "      * All tumors have uniform distribution of brightness (apart from the dark area)\n",
        "      * MRI images have darker area outside the skull (non scan area)\n",
        "          * will this influence the model ?\n",
        "          * should the color of the tumor and the non important area of the MRI scan be different ?\n",
        "          \n",
        "* 256x256 image size distribution (any bias in there ?)\n",
        "\n",
        "##### Issues Faced:\n",
        "* Bokeh plots are interactive but they consume a lot of space(>100mb) in the notebook \n",
        "  * markdown for now, when interested can be seen by enabling it as code cell"
      ]
    },
    {
      "cell_type": "code",
      "metadata": {
        "id": "aumAqfm3VymM",
        "colab_type": "code",
        "colab": {}
      },
      "source": [
        "df.pid.unique()"
      ],
      "execution_count": 0,
      "outputs": []
    },
    {
      "cell_type": "markdown",
      "metadata": {
        "id": "eXwJqH_jnfor",
        "colab_type": "text"
      },
      "source": [
        "There are only 5 patients info present !!!!"
      ]
    },
    {
      "cell_type": "code",
      "metadata": {
        "id": "CvBti1CInkCG",
        "colab_type": "code",
        "colab": {}
      },
      "source": [
        "df.groupby(\"pid\").agg(\"count\").reset_index()[['pid','mri_min']]"
      ],
      "execution_count": 0,
      "outputs": []
    },
    {
      "cell_type": "code",
      "metadata": {
        "id": "6d-95548oIsq",
        "colab_type": "code",
        "colab": {}
      },
      "source": [
        "df.groupby([\"pid\",\"label\"]).agg(\"count\").reset_index()[['pid','label','mri_min']]"
      ],
      "execution_count": 0,
      "outputs": []
    },
    {
      "cell_type": "code",
      "metadata": {
        "id": "2Z0gzrC-qPjs",
        "colab_type": "code",
        "colab": {}
      },
      "source": [
        "df.groupby(\"label\").agg(\"count\").reset_index()[['label','pid']]"
      ],
      "execution_count": 0,
      "outputs": []
    },
    {
      "cell_type": "code",
      "metadata": {
        "id": "bCCP1RnBrn2n",
        "colab_type": "code",
        "colab": {}
      },
      "source": [
        "def plotStatistics(df, tumor_name):\n",
        "  df = df[[\"mri_1q\",\"mri_median\",\"mri_3q\",\"t_min\",\"t_1q\",\"t_median\",\"t_3q\",\"t_max\"]]\n",
        "  df=(df-df.min())/(df.max()-df.min())\n",
        "  fig, ax = plt.subplots(1, 8,sharex=True,sharey=True,tight_layout=True)\n",
        "  fig.set_figheight(4)\n",
        "  fig.set_figwidth(13)\n",
        "  \n",
        "  fig.suptitle(tumor_name+\" Tumor\")\n",
        "  #plt.subplot(1,8,1)\n",
        "  ax[0].hist(df.mri_1q.tolist())\n",
        "  ax[0].set_title(\"mri_1q\")\n",
        "  #plt.subplot(1,8,2)\n",
        "  ax[1].hist(df.mri_median.tolist())\n",
        "  ax[1].set_title(\"mri_median\")\n",
        "  #plt.subplot(1,8,3)\n",
        "  ax[2].hist(df.mri_3q.tolist())\n",
        "  ax[2].set_title(\"mri_3q\")\n",
        "  #plt.subplot(1,8,4)\n",
        "  ax[3].hist(df.t_min.tolist())\n",
        "  ax[3].set_title(\"t_min\")\n",
        "  #plt.subplot(1,8,5)\n",
        "  ax[4].hist(df.t_1q.tolist())\n",
        "  ax[4].set_title(\"t_1q\")\n",
        "  #plt.subplot(1,8,6)\n",
        "  ax[5].hist(df.t_median.tolist())\n",
        "  ax[5].set_title(\"t_median\")\n",
        "  #plt.subplot(1,8,7)\n",
        "  ax[6].hist(df.t_3q.tolist())\n",
        "  ax[6].set_title(\"t_3q\")\n",
        "  #plt.subplot(1,8,8)\n",
        "  ax[7].hist(df.t_max.tolist())\n",
        "  ax[7].set_title(\"t_max\")\n",
        "  plt.show()\n",
        "\n",
        "plotStatistics(df[df.label ==1], tumor_names[1])\n",
        "plotStatistics(df[df.label ==2], tumor_names[2])\n",
        "plotStatistics(df[df.label ==3], tumor_names[3])\n",
        "plotStatistics(df, \"All\")"
      ],
      "execution_count": 0,
      "outputs": []
    },
    {
      "cell_type": "markdown",
      "metadata": {
        "id": "6NZjperm5HpZ",
        "colab_type": "text"
      },
      "source": [
        "## Visual Analysis"
      ]
    },
    {
      "cell_type": "markdown",
      "metadata": {
        "id": "IYCnbIgH360L",
        "colab_type": "text"
      },
      "source": [
        "### Smallest Tumor Sample"
      ]
    },
    {
      "cell_type": "markdown",
      "metadata": {
        "id": "wH9v4orNwTFk",
        "colab_type": "text"
      },
      "source": [
        "plt.imshow(retrieveImage(list(df[df.tumor_size == df.tumor_size.min()]['file_name'])[0]));\n",
        "plt.imshow(retrieveTumorImage(list(df[df.tumor_size == df.tumor_size.min()]['file_name'])[0]),alpha=0.5);\n",
        "plt.show()\n"
      ]
    },
    {
      "cell_type": "markdown",
      "metadata": {
        "id": "bj_utuj44fUp",
        "colab_type": "text"
      },
      "source": [
        "### Biggest Tumor in the Dataset"
      ]
    },
    {
      "cell_type": "markdown",
      "metadata": {
        "id": "0btsuHfkxfty",
        "colab_type": "text"
      },
      "source": [
        "plt.imshow(retrieveImage(list(df[df.tumor_size == df.tumor_size.max()]['file_name'])[0]));\n",
        "plt.imshow(retrieveTumorImage(list(df[df.tumor_size == df.tumor_size.max()]['file_name'])[0]),alpha=0.5);\n",
        "plt.show()\n"
      ]
    },
    {
      "cell_type": "markdown",
      "metadata": {
        "id": "Q6Jgv6oj30uI",
        "colab_type": "text"
      },
      "source": [
        "### Numpy Resize failed"
      ]
    },
    {
      "cell_type": "markdown",
      "metadata": {
        "id": "8aYJNq38zCRL",
        "colab_type": "text"
      },
      "source": [
        "plt.imshow(np.resize(retrieveImage(list(df[df.tumor_size == df.tumor_size.max()]['file_name'])[0]),(256,256)));\n",
        "plt.show()"
      ]
    },
    {
      "cell_type": "markdown",
      "metadata": {
        "id": "yJy0WXR3A_Td",
        "colab_type": "text"
      },
      "source": [
        "### Bokeh Plot"
      ]
    },
    {
      "cell_type": "markdown",
      "metadata": {
        "id": "vqrwFc48BCh9",
        "colab_type": "text"
      },
      "source": [
        "def bokehPlot(file_name, tumor_label):\n",
        "  tumor_names = [\"\",\"Meningioma\",\"Glioma\",\"Pituitary\"]\n",
        "  im = retrieveImage(file_name)\n",
        "  s1 = figure(width=512, plot_height=512, title=tumor_names[tumor_label]+\" MRI Image\")\n",
        "  s1.image([im],x=[0],y=[0],dw=[512],dh=[512])\n",
        "\n",
        "  im2 = retrieveTumorImage(file_name)\n",
        "\n",
        "  s2 = figure(width=500, plot_height=500, title=tumor_names[tumor_label]+\" MRI Image with Tumor Highlighted\")\n",
        "  s2.image([im2],x=[0],y=[0],dw=[512],dh=[512])\n",
        "  s2.image([im],x=[0],y=[0],dw=[512],dh=[512],global_alpha=0.5)\n",
        "\n",
        "  show(row(s1,s2))\n",
        "\n",
        "bokehPlot(list(df[df.tumor_size == df.tumor_size.max()]['file_name'])[0], list(df[df.tumor_size == df.tumor_size.max()]['label'])[0])"
      ]
    },
    {
      "cell_type": "markdown",
      "metadata": {
        "id": "wQ0e1zAWWE4l",
        "colab_type": "text"
      },
      "source": [
        "#### Meningioma Plots"
      ]
    },
    {
      "cell_type": "markdown",
      "metadata": {
        "id": "-9dliKZMWINQ",
        "colab_type": "text"
      },
      "source": [
        "for fname in list(df[df.label == 1].sample(3)[\"file_name\"]):\n",
        "  bokehPlot(fname,1)"
      ]
    },
    {
      "cell_type": "markdown",
      "metadata": {
        "id": "7pP6euXXWqpU",
        "colab_type": "text"
      },
      "source": [
        "#### Glioma Plots"
      ]
    },
    {
      "cell_type": "markdown",
      "metadata": {
        "id": "22qcn6KiWvMJ",
        "colab_type": "text"
      },
      "source": [
        "for fname in list(df[df.label == 2].sample(3)[\"file_name\"]):\n",
        "  bokehPlot(fname,2)"
      ]
    },
    {
      "cell_type": "markdown",
      "metadata": {
        "id": "d_3qNVQqV9A8",
        "colab_type": "text"
      },
      "source": [
        "#### Pituitary Plots"
      ]
    },
    {
      "cell_type": "markdown",
      "metadata": {
        "id": "b8P5A-cQO79W",
        "colab_type": "text"
      },
      "source": [
        "for fname in list(df[df.label == 3].sample(3)[\"file_name\"]):\n",
        "  bokehPlot(fname,3)"
      ]
    },
    {
      "cell_type": "markdown",
      "metadata": {
        "id": "-RdvYCpyo2vC",
        "colab_type": "text"
      },
      "source": [
        "# Preprocessing\n"
      ]
    },
    {
      "cell_type": "markdown",
      "metadata": {
        "id": "V6QgmzMKv6Hw",
        "colab_type": "text"
      },
      "source": [
        "Preprocessing ideas:\n",
        "\n",
        "1.  Dataset has tumor region indicator which would allow us to get the average brightness of the area.\n",
        "\n",
        "2. It is said that brightest region is skull and skull is not important for the tumor detection. It is only brain position determines the tumor class. If we remove skull remaining image is brain ?\n",
        "\n",
        "3. if we start with a window of image which would maximize the presence of tumor and expand to include some brain region around the tumor then i guess it is the best data for training(and predicting). Because tumor position in brain is THE factor that decides the tumor class.\n",
        "\n",
        "4. what is the optimum batch size for training?\n",
        "\n",
        "5. what is the overall Image augumented training dataset size ?\n",
        "\n"
      ]
    },
    {
      "cell_type": "markdown",
      "metadata": {
        "id": "JGWNu-Zpk04v",
        "colab_type": "text"
      },
      "source": [
        "## Batch Creation"
      ]
    },
    {
      "cell_type": "code",
      "metadata": {
        "id": "bvedxzrclan5",
        "colab_type": "code",
        "colab": {}
      },
      "source": [
        "df.groupby(\"label\").agg(\"count\").reset_index()"
      ],
      "execution_count": 0,
      "outputs": []
    },
    {
      "cell_type": "code",
      "metadata": {
        "id": "d81fcRggmMy5",
        "colab_type": "code",
        "colab": {}
      },
      "source": [
        "def returnBatchIndices(df,batch_size):\n",
        "  label_1 = df[df.label == 1].index.tolist()\n",
        "  label_2 = df[df.label == 2].index.tolist()\n",
        "  label_3 = df[df.label == 3].index.tolist()\n",
        "\n",
        "  label_list = []\n",
        "  #print(len(label_1), len(label_2),len(label_3),list(range(0,max(len(label_1),len(label_2),len(label_3)),batch_size)))\n",
        "  for i in range(0,max(len(label_1),len(label_2),len(label_3)),batch_size):\n",
        "    label_list.append(label_1[i:i+batch_size] + label_2[i:i+batch_size] + label_3[i:i+batch_size])\n",
        "  return label_list\n",
        "\n",
        "#yieldbatch(df,5)\n",
        "for batch in returnBatchIndices(df,5):\n",
        "  print(batch)\n",
        "\n",
        "print(\"Total Number of Batches: \", len(returnBatchIndices(df,5)))"
      ],
      "execution_count": 0,
      "outputs": []
    },
    {
      "cell_type": "code",
      "metadata": {
        "id": "k8BXHX6eGwow",
        "colab_type": "code",
        "colab": {}
      },
      "source": [
        "df[df.index == 648]"
      ],
      "execution_count": 0,
      "outputs": []
    },
    {
      "cell_type": "code",
      "metadata": {
        "id": "VoWFHNR-JqyX",
        "colab_type": "code",
        "colab": {}
      },
      "source": [
        "for i in [1,2,3,4,5]:\n",
        "  print(i)"
      ],
      "execution_count": 0,
      "outputs": []
    },
    {
      "cell_type": "code",
      "metadata": {
        "id": "kexzUUlVk3pi",
        "colab_type": "code",
        "colab": {}
      },
      "source": [
        "def returnABatch(df,batch_size):\n",
        "  #returns a balanced label mri images\n",
        "  index_list = returnBatchIndices(df,batch_size)\n",
        "  #print(\"index list\",len(list(index_list)))\n",
        "  \n",
        "  for j in index_list:\n",
        "    batch_images=[]\n",
        "    batch_labels=[]\n",
        "    print(\"j\",j)\n",
        "    for i in j:\n",
        "      print(\"i\",i)\n",
        "      batch_images.append(retrieveImage(list(df[df.index == i]['file_name'])[0]))\n",
        "      batch_labels.append(df[df.index == i]['label'].tolist()[0])\n",
        "      print(\"Batches :\",len(batch_images),len(batch_labels))\n",
        "    yield batch_images, batch_labels\n",
        "\n",
        "for i in returnABatch(df.reset_index(),2)  :\n",
        "  print(len(i),len(i[1]))\n",
        "  break"
      ],
      "execution_count": 0,
      "outputs": []
    },
    {
      "cell_type": "markdown",
      "metadata": {
        "id": "TFyXNbgckbCt",
        "colab_type": "text"
      },
      "source": [
        "#Model Building\n",
        "* CNN Approach using Tensorflow keras"
      ]
    },
    {
      "cell_type": "code",
      "metadata": {
        "id": "gcguDqrmyuR-",
        "colab_type": "code",
        "colab": {}
      },
      "source": [
        "model = tf.keras.models.Sequential([\n",
        "            tf.keras.layers.Conv2D(64, (3,3), activation=\"relu\", input_shape=(512,512,1))\n",
        "            ,tf.keras.layers.MaxPooling2D(2,2)\n",
        "            ,tf.keras.layers.Conv2D(64, (3,3), activation=\"relu\")\n",
        "            ,tf.keras.layers.MaxPooling2D(2,2)\n",
        "            ,tf.keras.layers.Conv2D(64, (3,3), activation=\"relu\")\n",
        "            ,tf.keras.layers.MaxPooling2D(2,2)\n",
        "            ,tf.keras.layers.Conv2D(64, (3,3), activation=\"relu\")\n",
        "            ,tf.keras.layers.MaxPooling2D(2,2)\n",
        "            ,tf.keras.layers.Conv2D(64, (3,3), activation=\"relu\")\n",
        "            ,tf.keras.layers.MaxPooling2D(2,2)\n",
        "            ,tf.keras.layers.Flatten()\n",
        "            ,tf.keras.layers.Dropout(0.5)\n",
        "            ,tf.keras.layers.Dense(512, activation=\"relu\")\n",
        "            ,tf.keras.layers.Dense(3,activation=\"softmax\")            \n",
        "])\n",
        "\n",
        "model.compile(loss=\"categorical_crossentropy\"\n",
        "              ,optimizer= \"adam\"\n",
        "              ,metrics=[\"accuracy\"])\n",
        "model.summary()"
      ],
      "execution_count": 0,
      "outputs": []
    },
    {
      "cell_type": "code",
      "metadata": {
        "id": "ecS_esHM67zr",
        "colab_type": "code",
        "colab": {}
      },
      "source": [
        "history=model.fit_generator(returnABatch(df,6),)"
      ],
      "execution_count": 0,
      "outputs": []
    },
    {
      "cell_type": "markdown",
      "metadata": {
        "id": "2qfFq4-MXHXs",
        "colab_type": "text"
      },
      "source": [
        "# Model Testing\n",
        "* is the model bias for 256 size images ?\n",
        "* is there any imbalance in 256 size images ?\n",
        "* converting 512x512 to 256x256 size would definitely speed up the process but would it impact the accuracy ?\n",
        "* is the model has better accuracy for any type of tumor class? (as we have imbalanced set ?"
      ]
    },
    {
      "cell_type": "code",
      "metadata": {
        "id": "GRrI8_S4_pkT",
        "colab_type": "code",
        "colab": {}
      },
      "source": [
        ""
      ],
      "execution_count": 0,
      "outputs": []
    }
  ]
}