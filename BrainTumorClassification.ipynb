{
  "nbformat": 4,
  "nbformat_minor": 0,
  "metadata": {
    "colab": {
      "name": "BrainTumorClassification.ipynb",
      "provenance": [],
      "include_colab_link": true
    },
    "kernelspec": {
      "name": "python3",
      "display_name": "Python 3"
    }
  },
  "cells": [
    {
      "cell_type": "markdown",
      "metadata": {
        "id": "view-in-github",
        "colab_type": "text"
      },
      "source": [
        "<a href=\"https://colab.research.google.com/github/PadmarajBhat/Machine-Learning/blob/master/BrainTumorClassification.ipynb\" target=\"_parent\"><img src=\"https://colab.research.google.com/assets/colab-badge.svg\" alt=\"Open In Colab\"/></a>"
      ]
    },
    {
      "cell_type": "markdown",
      "metadata": {
        "id": "uTCyCln9DwLS",
        "colab_type": "text"
      },
      "source": [
        "# Detection of 3 Brain Tumors (Meningioma, Glioma and Pituitary) in T1-weighted contrast enhanced images\n",
        "\n",
        "### - Revisitng the Udacity Capstone Project in pursuit of better accuracy\n",
        "\n"
      ]
    },
    {
      "cell_type": "markdown",
      "metadata": {
        "id": "47aIRBi1lPdJ",
        "colab_type": "text"
      },
      "source": [
        "# Import Packages\n",
        "* read the input MRI images (.mat) files through ***h5py***\n",
        "* ***pandas*** for data analysis and preprocessing\n",
        "* ***tensorflow*** for modelling and predicting"
      ]
    },
    {
      "cell_type": "code",
      "metadata": {
        "id": "8XamypXiCEdS",
        "colab_type": "code",
        "colab": {}
      },
      "source": [
        "import os\n",
        "import zipfile\n",
        "import h5py\n",
        "import numpy as np\n",
        "from matplotlib import pyplot as plt\n",
        "import pandas as pd\n",
        "\n",
        "from sklearn.preprocessing import MinMaxScaler"
      ],
      "execution_count": 0,
      "outputs": []
    },
    {
      "cell_type": "markdown",
      "metadata": {
        "id": "68mR7i5xla0f",
        "colab_type": "text"
      },
      "source": [
        "# Load Data\n",
        "* Mount Google Drive\n",
        "* Unzip it in colab disk\n",
        "* load mat attributes to list of tuples\n",
        "* create a panda dataframe for analysis\n",
        "\n",
        "##### Issues Faced:\n",
        "* loading to panda with image took half(6GB) of RAM\n",
        "* loading tumor along with mri image as in mat file crashed the colab\n",
        "  * Solution: let us load image but save only 5 point summary for both mri image and tumor\n",
        "\n",
        "* How do we scale/normalize the data?\n",
        "  * would tumor region have 0 in it ?\n",
        "    * only way to know is through the value present in the binary indicator == 1"
      ]
    },
    {
      "cell_type": "code",
      "metadata": {
        "id": "6trYXPZPJ54V",
        "colab_type": "code",
        "outputId": "332591b4-2a09-464f-dff1-f9c013a10fba",
        "colab": {
          "base_uri": "https://localhost:8080/",
          "height": 34
        }
      },
      "source": [
        "from google.colab import drive\n",
        "drive.mount('/content/drive')"
      ],
      "execution_count": 42,
      "outputs": [
        {
          "output_type": "stream",
          "text": [
            "Drive already mounted at /content/drive; to attempt to forcibly remount, call drive.mount(\"/content/drive\", force_remount=True).\n"
          ],
          "name": "stdout"
        }
      ]
    },
    {
      "cell_type": "code",
      "metadata": {
        "id": "NHDagZs8KQ_K",
        "colab_type": "code",
        "outputId": "3e630fae-ce46-42b4-fdb3-a8303f8380ac",
        "colab": {
          "base_uri": "https://localhost:8080/",
          "height": 67
        }
      },
      "source": [
        "!ls /content/drive/'My Drive'/1512427"
      ],
      "execution_count": 43,
      "outputs": [
        {
          "output_type": "stream",
          "text": [
            "brainTumorDataPublic_1533-2298.zip  brainTumorDataPublic_767-1532.zip\n",
            "brainTumorDataPublic_1-766.zip\t    cvind.mat\n",
            "brainTumorDataPublic_2299-3064.zip  README.txt\n"
          ],
          "name": "stdout"
        }
      ]
    },
    {
      "cell_type": "code",
      "metadata": {
        "id": "3ND1wWEFMf4a",
        "colab_type": "code",
        "outputId": "9205a9db-d3e7-4977-ce25-6b8c4edf2b87",
        "colab": {
          "base_uri": "https://localhost:8080/",
          "height": 34
        }
      },
      "source": [
        "!ls /content/drive/'My Drive'/1512427/brainTumorDataPublic_1-766.zip"
      ],
      "execution_count": 44,
      "outputs": [
        {
          "output_type": "stream",
          "text": [
            "'/content/drive/My Drive/1512427/brainTumorDataPublic_1-766.zip'\n"
          ],
          "name": "stdout"
        }
      ]
    },
    {
      "cell_type": "code",
      "metadata": {
        "id": "14DVEIiA-hD3",
        "colab_type": "code",
        "colab": {
          "base_uri": "https://localhost:8080/",
          "height": 84
        },
        "outputId": "c9be369a-5834-41ef-c50d-e66041dc52ca"
      },
      "source": [
        "\n",
        "from sklearn.preprocessing import MinMaxScaler\n",
        "data = [[-1, 2], [-0.5, 6], [0, 10], [1, 18]]\n",
        "scaler = MinMaxScaler()\n",
        "scaler.fit(data)\n",
        "scaler.transform(data)"
      ],
      "execution_count": 45,
      "outputs": [
        {
          "output_type": "execute_result",
          "data": {
            "text/plain": [
              "array([[0.  , 0.  ],\n",
              "       [0.25, 0.25],\n",
              "       [0.5 , 0.5 ],\n",
              "       [1.  , 1.  ]])"
            ]
          },
          "metadata": {
            "tags": []
          },
          "execution_count": 45
        }
      ]
    },
    {
      "cell_type": "code",
      "metadata": {
        "id": "ZPUvYbhjEzet",
        "colab_type": "code",
        "colab": {}
      },
      "source": [
        "def return_imageInfo_from_mat_file(file_name):\n",
        "    f = h5py.File(file_name,'r')\n",
        "\n",
        "    mri_image = np.array(f['cjdata']['image'],dtype=np.int)\n",
        "    #scaler = MinMaxScaler(feature_range=(1,2))\n",
        "    #mri_image = scaler.fit(mri_image)\n",
        "    mri_image = mri_image/mri_image.max()\n",
        "\n",
        "    mri_quartiles = np.percentile(mri_image, [25, 50, 75])\n",
        "\n",
        "    tumor_image = np.array(f['cjdata']['tumorMask'], dtype=np.int)\n",
        "    tumor_array =[]\n",
        "    for i in range(0,512):\n",
        "      for j in range(0,512):\n",
        "        if tumor_image[i][j]:\n",
        "          tumor_array.append(mri_image[i][j])\n",
        "\n",
        "    tumor_image = np.array(tumor_array, dtype=np.float)\n",
        "    tumor_quartiles = np.percentile(tumor_image, [25, 50, 75])\n",
        "\n",
        "    return np.array(f['cjdata']['PID'],dtype=np.int)[0][0] \\\n",
        "            ,mri_image.min() \\\n",
        "            ,mri_image.max() \\\n",
        "            ,mri_quartiles[1] \\\n",
        "            ,mri_quartiles[0] \\\n",
        "            ,mri_quartiles[2] \\\n",
        "            ,tumor_image.min() \\\n",
        "            ,tumor_image.max() \\\n",
        "            ,tumor_quartiles[1] \\\n",
        "            ,tumor_quartiles[0] \\\n",
        "            ,tumor_quartiles[2] \\\n",
        "            ,np.array(f['cjdata']['label'], dtype=np.int)[0][0] "
      ],
      "execution_count": 0,
      "outputs": []
    },
    {
      "cell_type": "code",
      "metadata": {
        "id": "4h9X8MvPNy50",
        "colab_type": "code",
        "colab": {}
      },
      "source": [
        "def loadDf():\n",
        "  patients_details = []\n",
        "  for root, dirs, files in os.walk(\"/content/drive/My Drive/1512427/\", topdown = False):\n",
        "    for f in files:\n",
        "      if \".zip\" in f:\n",
        "          file = zipfile.ZipFile(root+f, \"r\")\n",
        "          for name in file.namelist():\n",
        "            file.extract(name,\".\")\n",
        "            patients_details.append(return_imageInfo_from_mat_file(name))\n",
        "          #break\n",
        "      #break\n",
        "  mri_col_names = [\"mri_min\",\"mri_max\",\"mri_median\",\"mri_1q\", \"mri_3q\"]\n",
        "  tumor_col_names = [\"t_min\",\"t_max\",\"t_median\",\"t_1q\",\"t_3q\"]\n",
        "  col_names = [\"pid\"] + mri_col_names + tumor_col_names+ [\"label\"]\n",
        "  return pd.DataFrame(patients_details,columns=col_names)\n"
      ],
      "execution_count": 0,
      "outputs": []
    },
    {
      "cell_type": "code",
      "metadata": {
        "id": "LCSo34a4Vlta",
        "colab_type": "code",
        "outputId": "846d9548-de8d-4a75-9101-745eaca3ce14",
        "colab": {
          "base_uri": "https://localhost:8080/",
          "height": 337
        }
      },
      "source": [
        "tumor_names = [\"\",\"meningioma\",\"glioma\",\"pituitary\"]\n",
        "df = loadDf()\n",
        "df.sample(20)"
      ],
      "execution_count": 48,
      "outputs": [
        {
          "output_type": "error",
          "ename": "IndexError",
          "evalue": "ignored",
          "traceback": [
            "\u001b[0;31m---------------------------------------------------------------------------\u001b[0m",
            "\u001b[0;31mIndexError\u001b[0m                                Traceback (most recent call last)",
            "\u001b[0;32m<ipython-input-48-b6dc2b5930f9>\u001b[0m in \u001b[0;36m<module>\u001b[0;34m()\u001b[0m\n\u001b[1;32m      1\u001b[0m \u001b[0mtumor_names\u001b[0m \u001b[0;34m=\u001b[0m \u001b[0;34m[\u001b[0m\u001b[0;34m\"\"\u001b[0m\u001b[0;34m,\u001b[0m\u001b[0;34m\"meningioma\"\u001b[0m\u001b[0;34m,\u001b[0m\u001b[0;34m\"glioma\"\u001b[0m\u001b[0;34m,\u001b[0m\u001b[0;34m\"pituitary\"\u001b[0m\u001b[0;34m]\u001b[0m\u001b[0;34m\u001b[0m\u001b[0;34m\u001b[0m\u001b[0m\n\u001b[0;32m----> 2\u001b[0;31m \u001b[0mdf\u001b[0m \u001b[0;34m=\u001b[0m \u001b[0mloadDf\u001b[0m\u001b[0;34m(\u001b[0m\u001b[0;34m)\u001b[0m\u001b[0;34m\u001b[0m\u001b[0;34m\u001b[0m\u001b[0m\n\u001b[0m\u001b[1;32m      3\u001b[0m \u001b[0mdf\u001b[0m\u001b[0;34m.\u001b[0m\u001b[0msample\u001b[0m\u001b[0;34m(\u001b[0m\u001b[0;36m20\u001b[0m\u001b[0;34m)\u001b[0m\u001b[0;34m\u001b[0m\u001b[0;34m\u001b[0m\u001b[0m\n",
            "\u001b[0;32m<ipython-input-47-dc6be04a6763>\u001b[0m in \u001b[0;36mloadDf\u001b[0;34m()\u001b[0m\n\u001b[1;32m      7\u001b[0m           \u001b[0;32mfor\u001b[0m \u001b[0mname\u001b[0m \u001b[0;32min\u001b[0m \u001b[0mfile\u001b[0m\u001b[0;34m.\u001b[0m\u001b[0mnamelist\u001b[0m\u001b[0;34m(\u001b[0m\u001b[0;34m)\u001b[0m\u001b[0;34m:\u001b[0m\u001b[0;34m\u001b[0m\u001b[0;34m\u001b[0m\u001b[0m\n\u001b[1;32m      8\u001b[0m             \u001b[0mfile\u001b[0m\u001b[0;34m.\u001b[0m\u001b[0mextract\u001b[0m\u001b[0;34m(\u001b[0m\u001b[0mname\u001b[0m\u001b[0;34m,\u001b[0m\u001b[0;34m\".\"\u001b[0m\u001b[0;34m)\u001b[0m\u001b[0;34m\u001b[0m\u001b[0;34m\u001b[0m\u001b[0m\n\u001b[0;32m----> 9\u001b[0;31m             \u001b[0mpatients_details\u001b[0m\u001b[0;34m.\u001b[0m\u001b[0mappend\u001b[0m\u001b[0;34m(\u001b[0m\u001b[0mreturn_imageInfo_from_mat_file\u001b[0m\u001b[0;34m(\u001b[0m\u001b[0mname\u001b[0m\u001b[0;34m)\u001b[0m\u001b[0;34m)\u001b[0m\u001b[0;34m\u001b[0m\u001b[0;34m\u001b[0m\u001b[0m\n\u001b[0m\u001b[1;32m     10\u001b[0m           \u001b[0;31m#break\u001b[0m\u001b[0;34m\u001b[0m\u001b[0;34m\u001b[0m\u001b[0;34m\u001b[0m\u001b[0m\n\u001b[1;32m     11\u001b[0m       \u001b[0;31m#break\u001b[0m\u001b[0;34m\u001b[0m\u001b[0;34m\u001b[0m\u001b[0;34m\u001b[0m\u001b[0m\n",
            "\u001b[0;32m<ipython-input-46-91af1543cea7>\u001b[0m in \u001b[0;36mreturn_imageInfo_from_mat_file\u001b[0;34m(file_name)\u001b[0m\n\u001b[1;32m     13\u001b[0m     \u001b[0;32mfor\u001b[0m \u001b[0mi\u001b[0m \u001b[0;32min\u001b[0m \u001b[0mrange\u001b[0m\u001b[0;34m(\u001b[0m\u001b[0;36m0\u001b[0m\u001b[0;34m,\u001b[0m\u001b[0;36m512\u001b[0m\u001b[0;34m)\u001b[0m\u001b[0;34m:\u001b[0m\u001b[0;34m\u001b[0m\u001b[0;34m\u001b[0m\u001b[0m\n\u001b[1;32m     14\u001b[0m       \u001b[0;32mfor\u001b[0m \u001b[0mj\u001b[0m \u001b[0;32min\u001b[0m \u001b[0mrange\u001b[0m\u001b[0;34m(\u001b[0m\u001b[0;36m0\u001b[0m\u001b[0;34m,\u001b[0m\u001b[0;36m512\u001b[0m\u001b[0;34m)\u001b[0m\u001b[0;34m:\u001b[0m\u001b[0;34m\u001b[0m\u001b[0;34m\u001b[0m\u001b[0m\n\u001b[0;32m---> 15\u001b[0;31m         \u001b[0;32mif\u001b[0m \u001b[0mtumor_image\u001b[0m\u001b[0;34m[\u001b[0m\u001b[0mi\u001b[0m\u001b[0;34m]\u001b[0m\u001b[0;34m[\u001b[0m\u001b[0mj\u001b[0m\u001b[0;34m]\u001b[0m\u001b[0;34m:\u001b[0m\u001b[0;34m\u001b[0m\u001b[0;34m\u001b[0m\u001b[0m\n\u001b[0m\u001b[1;32m     16\u001b[0m           \u001b[0mtumor_array\u001b[0m\u001b[0;34m.\u001b[0m\u001b[0mappend\u001b[0m\u001b[0;34m(\u001b[0m\u001b[0mmri_image\u001b[0m\u001b[0;34m[\u001b[0m\u001b[0mi\u001b[0m\u001b[0;34m]\u001b[0m\u001b[0;34m[\u001b[0m\u001b[0mj\u001b[0m\u001b[0;34m]\u001b[0m\u001b[0;34m)\u001b[0m\u001b[0;34m\u001b[0m\u001b[0;34m\u001b[0m\u001b[0m\n\u001b[1;32m     17\u001b[0m \u001b[0;34m\u001b[0m\u001b[0m\n",
            "\u001b[0;31mIndexError\u001b[0m: index 256 is out of bounds for axis 0 with size 256"
          ]
        }
      ]
    },
    {
      "cell_type": "markdown",
      "metadata": {
        "id": "c0KYEepMovPx",
        "colab_type": "text"
      },
      "source": [
        "# Analysis\n"
      ]
    },
    {
      "cell_type": "code",
      "metadata": {
        "id": "aumAqfm3VymM",
        "colab_type": "code",
        "colab": {}
      },
      "source": [
        "df.pid.unique()"
      ],
      "execution_count": 0,
      "outputs": []
    },
    {
      "cell_type": "markdown",
      "metadata": {
        "id": "eXwJqH_jnfor",
        "colab_type": "text"
      },
      "source": [
        "There are only 5 patients info present !!!!"
      ]
    },
    {
      "cell_type": "code",
      "metadata": {
        "id": "CvBti1CInkCG",
        "colab_type": "code",
        "colab": {}
      },
      "source": [
        "df.groupby(\"pid\").agg(\"count\").reset_index()[['pid','mri_min']]"
      ],
      "execution_count": 0,
      "outputs": []
    },
    {
      "cell_type": "code",
      "metadata": {
        "id": "6d-95548oIsq",
        "colab_type": "code",
        "colab": {}
      },
      "source": [
        "df.groupby([\"pid\",\"label\"]).agg(\"count\").reset_index()[['pid','label','mri_min']]"
      ],
      "execution_count": 0,
      "outputs": []
    },
    {
      "cell_type": "code",
      "metadata": {
        "id": "2Z0gzrC-qPjs",
        "colab_type": "code",
        "colab": {}
      },
      "source": [
        "df.groupby(\"label\").agg(\"count\").reset_index()[['label','pidb']]"
      ],
      "execution_count": 0,
      "outputs": []
    },
    {
      "cell_type": "code",
      "metadata": {
        "id": "0hb_arZXI2_R",
        "colab_type": "code",
        "colab": {}
      },
      "source": [
        "df.hist(\"mri_median\")"
      ],
      "execution_count": 0,
      "outputs": []
    },
    {
      "cell_type": "code",
      "metadata": {
        "id": "XJUUN3EzJT-J",
        "colab_type": "code",
        "colab": {}
      },
      "source": [
        "df.hist('mri_1q')"
      ],
      "execution_count": 0,
      "outputs": []
    },
    {
      "cell_type": "code",
      "metadata": {
        "id": "c-TyEwkcJz1C",
        "colab_type": "code",
        "colab": {}
      },
      "source": [
        "df.hist('mri_3q')"
      ],
      "execution_count": 0,
      "outputs": []
    },
    {
      "cell_type": "code",
      "metadata": {
        "id": "lfvYBJWBLDto",
        "colab_type": "code",
        "colab": {}
      },
      "source": [
        "df.hist('t_max')"
      ],
      "execution_count": 0,
      "outputs": []
    },
    {
      "cell_type": "code",
      "metadata": {
        "id": "D6i687UbMtGt",
        "colab_type": "code",
        "colab": {}
      },
      "source": [
        "df.hist('t_1q')"
      ],
      "execution_count": 0,
      "outputs": []
    },
    {
      "cell_type": "markdown",
      "metadata": {
        "id": "-RdvYCpyo2vC",
        "colab_type": "text"
      },
      "source": [
        "# Preprocessing\n"
      ]
    },
    {
      "cell_type": "markdown",
      "metadata": {
        "id": "V6QgmzMKv6Hw",
        "colab_type": "text"
      },
      "source": [
        "Preprocessing ideas:\n",
        "\n",
        "1.  Dataset has tumor region indicator which would allow us to get the average brightness of the area.\n",
        "\n",
        "2. It is said that brightest region is skull and skull is not important for the tumor detection. It is only brain position determines the tumor class. If we remove skull remaining image is brain ?\n",
        "\n",
        "3. if we start with a window of image which would maximize the presence of tumor and expand to include some brain region around the tumor then i guess it is the best data for training(and predicting). Because tumor position in brain is THE factor that decides the tumor class."
      ]
    },
    {
      "cell_type": "code",
      "metadata": {
        "id": "jpSmR5eShoWF",
        "colab_type": "code",
        "colab": {
          "base_uri": "https://localhost:8080/",
          "height": 118
        },
        "outputId": "207d90f4-2201-4594-c95d-ff4cfdbfa74b"
      },
      "source": [
        "a = [[1, 2], [3, 4]]\n",
        "np.pad(a, 2, 'constant', constant_values=0)\n"
      ],
      "execution_count": 67,
      "outputs": [
        {
          "output_type": "execute_result",
          "data": {
            "text/plain": [
              "array([[0, 0, 0, 0, 0, 0],\n",
              "       [0, 0, 0, 0, 0, 0],\n",
              "       [0, 0, 1, 2, 0, 0],\n",
              "       [0, 0, 3, 4, 0, 0],\n",
              "       [0, 0, 0, 0, 0, 0],\n",
              "       [0, 0, 0, 0, 0, 0]])"
            ]
          },
          "metadata": {
            "tags": []
          },
          "execution_count": 67
        }
      ]
    }
  ]
}