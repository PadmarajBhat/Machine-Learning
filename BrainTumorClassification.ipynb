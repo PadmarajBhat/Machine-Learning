{
  "nbformat": 4,
  "nbformat_minor": 0,
  "metadata": {
    "colab": {
      "name": "Copy of BrainTumorClassification.ipynb",
      "provenance": [],
      "collapsed_sections": [],
      "toc_visible": true,
      "machine_shape": "hm",
      "include_colab_link": true
    },
    "kernelspec": {
      "name": "python3",
      "display_name": "Python 3"
    },
    "accelerator": "TPU"
  },
  "cells": [
    {
      "cell_type": "markdown",
      "metadata": {
        "id": "view-in-github",
        "colab_type": "text"
      },
      "source": [
        "<a href=\"https://colab.research.google.com/github/PadmarajBhat/Machine-Learning/blob/master/BrainTumorClassification.ipynb\" target=\"_parent\"><img src=\"https://colab.research.google.com/assets/colab-badge.svg\" alt=\"Open In Colab\"/></a>"
      ]
    },
    {
      "cell_type": "markdown",
      "metadata": {
        "id": "uTCyCln9DwLS",
        "colab_type": "text"
      },
      "source": [
        "# Detection of 3 Brain Tumors (Meningioma, Glioma and Pituitary) in T1-weighted contrast enhanced images\n",
        "\n",
        "### - Revisitng the Udacity Capstone Project in pursuit of better accuracy\n",
        "\n"
      ]
    },
    {
      "cell_type": "markdown",
      "metadata": {
        "id": "ExaNYOAl3nSH",
        "colab_type": "text"
      },
      "source": [
        "# What is the problem statement?\n",
        "  * predict the tumor class given only MRI image\n",
        "  * OR predict the tumor class when both MRI and Tumor region is given !!!\n",
        "      * tumor region is identified and put in input dataset by experts\n",
        "          * can we have Image Segmentation problem ?\n",
        "\n",
        "\n",
        "  * I think this is the order of problem from easy level to difficult level\n",
        "    * Identify the tumor class from raw MRI image (here accuracy may be low)\n",
        "    * Identify the tumor class from raw MRI image + tumor region identified (here accuracy may be better)\n",
        "    * Auto detect the tumor segment in a MRI image and classify the tumor (ideal application for a radiologist)\n",
        "\n",
        "    Let us try all the 3 !!!"
      ]
    },
    {
      "cell_type": "markdown",
      "metadata": {
        "id": "47aIRBi1lPdJ",
        "colab_type": "text"
      },
      "source": [
        "# Import Packages\n",
        "* read the input MRI images (.mat) files through ***h5py***\n",
        "* ***pandas*** for data analysis and preprocessing\n",
        "* ***tensorflow*** for modelling and predicting"
      ]
    },
    {
      "cell_type": "code",
      "metadata": {
        "id": "8XamypXiCEdS",
        "colab_type": "code",
        "colab": {}
      },
      "source": [
        "import os\n",
        "import zipfile\n",
        "import h5py\n",
        "import numpy as np\n",
        "\n",
        "import pandas as pd\n",
        "\n",
        "from sklearn.preprocessing import MinMaxScaler\n",
        "\n",
        "from matplotlib import pyplot as plt\n",
        "from bokeh.io import output_notebook, show\n",
        "from bokeh.layouts import row\n",
        "from bokeh.plotting import figure\n",
        "output_notebook()"
      ],
      "execution_count": 0,
      "outputs": []
    },
    {
      "cell_type": "markdown",
      "metadata": {
        "id": "68mR7i5xla0f",
        "colab_type": "text"
      },
      "source": [
        "# Load Data\n",
        "* Mount Google Drive\n",
        "* Unzip it in colab disk\n",
        "* load mat attributes to list of tuples\n",
        "* create a panda dataframe for analysis\n",
        "\n",
        "##### Issues Faced:\n",
        "1. loading to panda with image took half(6GB) of RAM\n",
        "* loading tumor along with mri image (as in mat file) crashed the colab\n",
        "  * Solution: let us load image but save only 5 point summary for both mri image and tumor\n",
        "\n",
        "2. How do we scale/normalize the data?\n",
        "  * would tumor region have 0 in it ?\n",
        "    * only way to know is through the value present in the binary indicator == 1\n",
        "        * implementation through 2 for loops takes forever !!!\n",
        "          * need to implement throuhg np.where\n",
        "        \n",
        "\n",
        "3. Some images are less than 512\n",
        "    * pad the difference with 0s.\n",
        "    \n",
        "4. Should tumor image be scaled between 0 -1? For now, brightness values are relative to that of the whole image to which it belongs to."
      ]
    },
    {
      "cell_type": "code",
      "metadata": {
        "id": "6trYXPZPJ54V",
        "colab_type": "code",
        "colab": {
          "base_uri": "https://localhost:8080/",
          "height": 121
        },
        "outputId": "14bf9d75-d491-4d25-9da5-affe9abc61b6"
      },
      "source": [
        "from google.colab import drive\n",
        "drive.mount('/content/drive')"
      ],
      "execution_count": 2,
      "outputs": [
        {
          "output_type": "stream",
          "text": [
            "Go to this URL in a browser: https://accounts.google.com/o/oauth2/auth?client_id=947318989803-6bn6qk8qdgf4n4g3pfee6491hc0brc4i.apps.googleusercontent.com&redirect_uri=urn%3Aietf%3Awg%3Aoauth%3A2.0%3Aoob&scope=email%20https%3A%2F%2Fwww.googleapis.com%2Fauth%2Fdocs.test%20https%3A%2F%2Fwww.googleapis.com%2Fauth%2Fdrive%20https%3A%2F%2Fwww.googleapis.com%2Fauth%2Fdrive.photos.readonly%20https%3A%2F%2Fwww.googleapis.com%2Fauth%2Fpeopleapi.readonly&response_type=code\n",
            "\n",
            "Enter your authorization code:\n",
            "··········\n",
            "Mounted at /content/drive\n"
          ],
          "name": "stdout"
        }
      ]
    },
    {
      "cell_type": "code",
      "metadata": {
        "id": "NHDagZs8KQ_K",
        "colab_type": "code",
        "colab": {
          "base_uri": "https://localhost:8080/",
          "height": 67
        },
        "outputId": "45442c78-6b1a-4207-f2c5-832920767679"
      },
      "source": [
        "!ls /content/drive/'My Drive'/1512427"
      ],
      "execution_count": 3,
      "outputs": [
        {
          "output_type": "stream",
          "text": [
            "brainTumorDataPublic_1533-2298.zip  brainTumorDataPublic_767-1532.zip\n",
            "brainTumorDataPublic_1-766.zip\t    cvind.mat\n",
            "brainTumorDataPublic_2299-3064.zip  README.txt\n"
          ],
          "name": "stdout"
        }
      ]
    },
    {
      "cell_type": "code",
      "metadata": {
        "id": "3ND1wWEFMf4a",
        "colab_type": "code",
        "colab": {
          "base_uri": "https://localhost:8080/",
          "height": 34
        },
        "outputId": "d60864d5-27f4-46ee-b1ab-e883beb8de8f"
      },
      "source": [
        "!ls /content/drive/'My Drive'/1512427/brainTumorDataPublic_1-766.zip"
      ],
      "execution_count": 4,
      "outputs": [
        {
          "output_type": "stream",
          "text": [
            "'/content/drive/My Drive/1512427/brainTumorDataPublic_1-766.zip'\n"
          ],
          "name": "stdout"
        }
      ]
    },
    {
      "cell_type": "markdown",
      "metadata": {
        "id": "gyh_sPtY7UMy",
        "colab_type": "text"
      },
      "source": [
        "### Load Image Array"
      ]
    },
    {
      "cell_type": "code",
      "metadata": {
        "id": "VoGqScRpu7F5",
        "colab_type": "code",
        "colab": {}
      },
      "source": [
        "def retrieveImage(file_name):\n",
        "  f = h5py.File(file_name,'r')\n",
        "  mri_image = np.array(f['cjdata']['image'],dtype=np.float128)\n",
        "  if mri_image.shape[0] < 512:\n",
        "      print(\"Shape of the image : \", mri_image.shape)\n",
        "      mri_image = np.pad(mri_image,(512 - mri_image.shape[0])//2,'constant',constant_values=0)\n",
        "  return mri_image/mri_image.max()"
      ],
      "execution_count": 0,
      "outputs": []
    },
    {
      "cell_type": "markdown",
      "metadata": {
        "id": "II_gT4oC7bYb",
        "colab_type": "text"
      },
      "source": [
        "### Load Tumor Array"
      ]
    },
    {
      "cell_type": "code",
      "metadata": {
        "id": "KcPw_HqJ7pkX",
        "colab_type": "code",
        "colab": {}
      },
      "source": [
        "def retrieveTumorImage(file_name):\n",
        "  f = h5py.File(file_name,'r')\n",
        "  mri_image = np.array(f['cjdata']['tumorMask'],dtype=np.float128)\n",
        "  if mri_image.shape[0] < 512:\n",
        "      print(\"Shape of the image : \", mri_image.shape)\n",
        "      mri_image = np.pad(mri_image,(512 - mri_image.shape[0])//2,'constant',constant_values=0)\n",
        "  return mri_image/mri_image.max()"
      ],
      "execution_count": 0,
      "outputs": []
    },
    {
      "cell_type": "markdown",
      "metadata": {
        "id": "FF_-ayUh7jlS",
        "colab_type": "text"
      },
      "source": [
        "### Load Image and Tumor Statistics to Panda"
      ]
    },
    {
      "cell_type": "code",
      "metadata": {
        "id": "ZPUvYbhjEzet",
        "colab_type": "code",
        "colab": {}
      },
      "source": [
        "def return_imageInfo_from_mat_file(file_name):\n",
        "    f = h5py.File(file_name,'r')\n",
        "\n",
        "    mri_image = np.array(f['cjdata']['image'],dtype=np.float128)\n",
        "    #scaler = MinMaxScaler(feature_range=(1,2))\n",
        "    #mri_image = scaler.fit(mri_image)\n",
        "    mri_image = mri_image/mri_image.max()\n",
        "\n",
        "    if mri_image.shape[0] < 512:\n",
        "      print(\"Shape of the image : \", mri_image.shape)\n",
        "      mri_image = np.pad(mri_image,(512 - mri_image.shape[0])//2,'constant',constant_values=0)\n",
        "    \n",
        "    temp_mri_image = np.copy(mri_image)\n",
        "    temp_mri_image[temp_mri_image == 0 ] = 2\n",
        "\n",
        "    mri_quartiles = np.percentile(mri_image[mri_image > 0], [25, 50, 75])\n",
        "\n",
        "    tumor_image = np.array(f['cjdata']['tumorMask'], dtype=np.float128)\n",
        "    if tumor_image.shape[0] < 512:\n",
        "      print(\"Shape of the tumor image : \", tumor_image.shape)\n",
        "      tumor_image = np.pad(tumor_image,(512 - tumor_image.shape[0])//2,'constant',constant_values=0)\n",
        "    \n",
        "    tumor_image = temp_mri_image * tumor_image\n",
        "    tumor_image = tumor_image[tumor_image > 0]\n",
        "    tumor_image[tumor_image == 2] = 0\n",
        "\n",
        "    '''tumor_array =[]\n",
        "    for i in range(0,512):\n",
        "      for j in range(0,512):\n",
        "        if tumor_image[i][j]:\n",
        "          tumor_array.append(mri_image[i][j])\n",
        "\n",
        "    tumor_image = np.array(tumor_array, dtype=np.float)'''\n",
        "\n",
        "    tumor_quartiles = np.percentile(tumor_image, [25, 50, 75])\n",
        "\n",
        "    return np.array(f['cjdata']['PID'],dtype=np.int)[0][0] \\\n",
        "            ,mri_image.min() \\\n",
        "            ,mri_image.max() \\\n",
        "            ,mri_quartiles[1] \\\n",
        "            ,mri_quartiles[0] \\\n",
        "            ,mri_quartiles[2] \\\n",
        "            ,tumor_image.min() \\\n",
        "            ,tumor_image.max() \\\n",
        "            ,tumor_quartiles[1] \\\n",
        "            ,tumor_quartiles[0] \\\n",
        "            ,tumor_quartiles[2] \\\n",
        "            ,tumor_image.shape \\\n",
        "            ,file_name\\\n",
        "            ,np.array(f['cjdata']['label'], dtype=np.int)[0][0] "
      ],
      "execution_count": 0,
      "outputs": []
    },
    {
      "cell_type": "code",
      "metadata": {
        "id": "4h9X8MvPNy50",
        "colab_type": "code",
        "colab": {}
      },
      "source": [
        "def loadDf():\n",
        "  patients_details = []\n",
        "  for root, dirs, files in os.walk(\"/content/drive/My Drive/1512427/\", topdown = False):\n",
        "    for f in files:\n",
        "      if \".zip\" in f:\n",
        "          file = zipfile.ZipFile(root+f, \"r\")\n",
        "          for name in file.namelist():\n",
        "            file.extract(name,\".\")\n",
        "            patients_details.append(return_imageInfo_from_mat_file(name))\n",
        "          #break\n",
        "      #break\n",
        "  mri_col_names = [\"mri_min\",\"mri_max\",\"mri_median\",\"mri_1q\", \"mri_3q\"]\n",
        "  tumor_col_names = [\"t_min\",\"t_max\",\"t_median\",\"t_1q\",\"t_3q\",\"tumor_size\"]\n",
        "  col_names = [\"pid\"] + mri_col_names + tumor_col_names+ [\"file_name\",\"label\"]\n",
        "  return pd.DataFrame(patients_details,columns=col_names)\n"
      ],
      "execution_count": 0,
      "outputs": []
    },
    {
      "cell_type": "code",
      "metadata": {
        "id": "_E7e82UO_cLc",
        "colab_type": "code",
        "colab": {}
      },
      "source": [
        "\n",
        "tumor_names = [\"\",\"Meningioma\",\"Glioma\",\"Pituitary\"]"
      ],
      "execution_count": 0,
      "outputs": []
    },
    {
      "cell_type": "code",
      "metadata": {
        "id": "LCSo34a4Vlta",
        "colab_type": "code",
        "colab": {
          "base_uri": "https://localhost:8080/",
          "height": 1000
        },
        "outputId": "75a5181c-ea36-40b5-c29b-42d41a5832cb"
      },
      "source": [
        "\n",
        "df = loadDf()\n",
        "df[\"square_shape\"] = df.tumor_size.apply(lambda x: np.sqrt(x[0]))\n",
        "df.sample(20)"
      ],
      "execution_count": 10,
      "outputs": [
        {
          "output_type": "stream",
          "text": [
            "Shape of the image :  (256, 256)\n",
            "Shape of the tumor image :  (256, 256)\n",
            "Shape of the image :  (256, 256)\n",
            "Shape of the tumor image :  (256, 256)\n",
            "Shape of the image :  (256, 256)\n",
            "Shape of the tumor image :  (256, 256)\n",
            "Shape of the image :  (256, 256)\n",
            "Shape of the tumor image :  (256, 256)\n",
            "Shape of the image :  (256, 256)\n",
            "Shape of the tumor image :  (256, 256)\n",
            "Shape of the image :  (256, 256)\n",
            "Shape of the tumor image :  (256, 256)\n",
            "Shape of the image :  (256, 256)\n",
            "Shape of the tumor image :  (256, 256)\n",
            "Shape of the image :  (256, 256)\n",
            "Shape of the tumor image :  (256, 256)\n",
            "Shape of the image :  (256, 256)\n",
            "Shape of the tumor image :  (256, 256)\n",
            "Shape of the image :  (256, 256)\n",
            "Shape of the tumor image :  (256, 256)\n",
            "Shape of the image :  (256, 256)\n",
            "Shape of the tumor image :  (256, 256)\n",
            "Shape of the image :  (256, 256)\n",
            "Shape of the tumor image :  (256, 256)\n",
            "Shape of the image :  (256, 256)\n",
            "Shape of the tumor image :  (256, 256)\n",
            "Shape of the image :  (256, 256)\n",
            "Shape of the tumor image :  (256, 256)\n",
            "Shape of the image :  (256, 256)\n",
            "Shape of the tumor image :  (256, 256)\n"
          ],
          "name": "stdout"
        },
        {
          "output_type": "execute_result",
          "data": {
            "text/html": [
              "<div>\n",
              "<style scoped>\n",
              "    .dataframe tbody tr th:only-of-type {\n",
              "        vertical-align: middle;\n",
              "    }\n",
              "\n",
              "    .dataframe tbody tr th {\n",
              "        vertical-align: top;\n",
              "    }\n",
              "\n",
              "    .dataframe thead th {\n",
              "        text-align: right;\n",
              "    }\n",
              "</style>\n",
              "<table border=\"1\" class=\"dataframe\">\n",
              "  <thead>\n",
              "    <tr style=\"text-align: right;\">\n",
              "      <th></th>\n",
              "      <th>pid</th>\n",
              "      <th>mri_min</th>\n",
              "      <th>mri_max</th>\n",
              "      <th>mri_median</th>\n",
              "      <th>mri_1q</th>\n",
              "      <th>mri_3q</th>\n",
              "      <th>t_min</th>\n",
              "      <th>t_max</th>\n",
              "      <th>t_median</th>\n",
              "      <th>t_1q</th>\n",
              "      <th>t_3q</th>\n",
              "      <th>tumor_size</th>\n",
              "      <th>file_name</th>\n",
              "      <th>label</th>\n",
              "      <th>square_shape</th>\n",
              "    </tr>\n",
              "  </thead>\n",
              "  <tbody>\n",
              "    <tr>\n",
              "      <th>1211</th>\n",
              "      <td>77</td>\n",
              "      <td>0.0</td>\n",
              "      <td>1.0</td>\n",
              "      <td>0.114815</td>\n",
              "      <td>0.020044</td>\n",
              "      <td>0.273203</td>\n",
              "      <td>0.087146</td>\n",
              "      <td>0.630937</td>\n",
              "      <td>0.242702</td>\n",
              "      <td>0.205011</td>\n",
              "      <td>0.290795</td>\n",
              "      <td>(6302,)</td>\n",
              "      <td>1978.mat</td>\n",
              "      <td>2</td>\n",
              "      <td>79.385137</td>\n",
              "    </tr>\n",
              "    <tr>\n",
              "      <th>1608</th>\n",
              "      <td>77</td>\n",
              "      <td>0.0</td>\n",
              "      <td>1.0</td>\n",
              "      <td>0.016030</td>\n",
              "      <td>0.007038</td>\n",
              "      <td>0.223120</td>\n",
              "      <td>0.119380</td>\n",
              "      <td>0.392936</td>\n",
              "      <td>0.173791</td>\n",
              "      <td>0.154307</td>\n",
              "      <td>0.198814</td>\n",
              "      <td>(880,)</td>\n",
              "      <td>2375.mat</td>\n",
              "      <td>2</td>\n",
              "      <td>29.664794</td>\n",
              "    </tr>\n",
              "    <tr>\n",
              "      <th>1327</th>\n",
              "      <td>77</td>\n",
              "      <td>0.0</td>\n",
              "      <td>1.0</td>\n",
              "      <td>0.210037</td>\n",
              "      <td>0.011964</td>\n",
              "      <td>0.227650</td>\n",
              "      <td>0.074443</td>\n",
              "      <td>0.458624</td>\n",
              "      <td>0.230974</td>\n",
              "      <td>0.199402</td>\n",
              "      <td>0.256896</td>\n",
              "      <td>(4581,)</td>\n",
              "      <td>2094.mat</td>\n",
              "      <td>2</td>\n",
              "      <td>67.683085</td>\n",
              "    </tr>\n",
              "    <tr>\n",
              "      <th>934</th>\n",
              "      <td>49</td>\n",
              "      <td>0.0</td>\n",
              "      <td>1.0</td>\n",
              "      <td>0.207424</td>\n",
              "      <td>0.093886</td>\n",
              "      <td>0.272926</td>\n",
              "      <td>0.147380</td>\n",
              "      <td>0.538210</td>\n",
              "      <td>0.377729</td>\n",
              "      <td>0.330786</td>\n",
              "      <td>0.421397</td>\n",
              "      <td>(1101,)</td>\n",
              "      <td>1701.mat</td>\n",
              "      <td>3</td>\n",
              "      <td>33.181320</td>\n",
              "    </tr>\n",
              "    <tr>\n",
              "      <th>432</th>\n",
              "      <td>49</td>\n",
              "      <td>0.0</td>\n",
              "      <td>1.0</td>\n",
              "      <td>0.159004</td>\n",
              "      <td>0.017720</td>\n",
              "      <td>0.281130</td>\n",
              "      <td>0.070881</td>\n",
              "      <td>0.442529</td>\n",
              "      <td>0.358477</td>\n",
              "      <td>0.300287</td>\n",
              "      <td>0.398467</td>\n",
              "      <td>(836,)</td>\n",
              "      <td>489.mat</td>\n",
              "      <td>1</td>\n",
              "      <td>28.913665</td>\n",
              "    </tr>\n",
              "    <tr>\n",
              "      <th>1431</th>\n",
              "      <td>77</td>\n",
              "      <td>0.0</td>\n",
              "      <td>1.0</td>\n",
              "      <td>0.195577</td>\n",
              "      <td>0.012182</td>\n",
              "      <td>0.257680</td>\n",
              "      <td>0.100768</td>\n",
              "      <td>0.589645</td>\n",
              "      <td>0.304952</td>\n",
              "      <td>0.257184</td>\n",
              "      <td>0.369273</td>\n",
              "      <td>(8030,)</td>\n",
              "      <td>2198.mat</td>\n",
              "      <td>2</td>\n",
              "      <td>89.610267</td>\n",
              "    </tr>\n",
              "    <tr>\n",
              "      <th>715</th>\n",
              "      <td>49</td>\n",
              "      <td>0.0</td>\n",
              "      <td>1.0</td>\n",
              "      <td>0.223045</td>\n",
              "      <td>0.017180</td>\n",
              "      <td>0.300652</td>\n",
              "      <td>0.071386</td>\n",
              "      <td>0.768069</td>\n",
              "      <td>0.249704</td>\n",
              "      <td>0.220379</td>\n",
              "      <td>0.287915</td>\n",
              "      <td>(19296,)</td>\n",
              "      <td>743.mat</td>\n",
              "      <td>2</td>\n",
              "      <td>138.910043</td>\n",
              "    </tr>\n",
              "    <tr>\n",
              "      <th>302</th>\n",
              "      <td>49</td>\n",
              "      <td>0.0</td>\n",
              "      <td>1.0</td>\n",
              "      <td>0.194702</td>\n",
              "      <td>0.015480</td>\n",
              "      <td>0.314413</td>\n",
              "      <td>0.108703</td>\n",
              "      <td>0.595803</td>\n",
              "      <td>0.469900</td>\n",
              "      <td>0.420709</td>\n",
              "      <td>0.503698</td>\n",
              "      <td>(1764,)</td>\n",
              "      <td>371.mat</td>\n",
              "      <td>1</td>\n",
              "      <td>42.000000</td>\n",
              "    </tr>\n",
              "    <tr>\n",
              "      <th>2776</th>\n",
              "      <td>49</td>\n",
              "      <td>0.0</td>\n",
              "      <td>1.0</td>\n",
              "      <td>0.161667</td>\n",
              "      <td>0.053333</td>\n",
              "      <td>0.286667</td>\n",
              "      <td>0.238333</td>\n",
              "      <td>0.701667</td>\n",
              "      <td>0.486667</td>\n",
              "      <td>0.451667</td>\n",
              "      <td>0.525000</td>\n",
              "      <td>(666,)</td>\n",
              "      <td>1478.mat</td>\n",
              "      <td>3</td>\n",
              "      <td>25.806976</td>\n",
              "    </tr>\n",
              "    <tr>\n",
              "      <th>1338</th>\n",
              "      <td>77</td>\n",
              "      <td>0.0</td>\n",
              "      <td>1.0</td>\n",
              "      <td>0.151738</td>\n",
              "      <td>0.011374</td>\n",
              "      <td>0.254233</td>\n",
              "      <td>0.030891</td>\n",
              "      <td>0.421481</td>\n",
              "      <td>0.159623</td>\n",
              "      <td>0.146051</td>\n",
              "      <td>0.174357</td>\n",
              "      <td>(6371,)</td>\n",
              "      <td>2105.mat</td>\n",
              "      <td>2</td>\n",
              "      <td>79.818544</td>\n",
              "    </tr>\n",
              "    <tr>\n",
              "      <th>1402</th>\n",
              "      <td>77</td>\n",
              "      <td>0.0</td>\n",
              "      <td>1.0</td>\n",
              "      <td>0.103109</td>\n",
              "      <td>0.012174</td>\n",
              "      <td>0.265327</td>\n",
              "      <td>0.107803</td>\n",
              "      <td>0.632884</td>\n",
              "      <td>0.352669</td>\n",
              "      <td>0.264850</td>\n",
              "      <td>0.421458</td>\n",
              "      <td>(1368,)</td>\n",
              "      <td>2169.mat</td>\n",
              "      <td>2</td>\n",
              "      <td>36.986484</td>\n",
              "    </tr>\n",
              "    <tr>\n",
              "      <th>2588</th>\n",
              "      <td>49</td>\n",
              "      <td>0.0</td>\n",
              "      <td>1.0</td>\n",
              "      <td>0.106486</td>\n",
              "      <td>0.030978</td>\n",
              "      <td>0.254598</td>\n",
              "      <td>0.102614</td>\n",
              "      <td>0.634076</td>\n",
              "      <td>0.393998</td>\n",
              "      <td>0.366167</td>\n",
              "      <td>0.425944</td>\n",
              "      <td>(1082,)</td>\n",
              "      <td>1290.mat</td>\n",
              "      <td>3</td>\n",
              "      <td>32.893768</td>\n",
              "    </tr>\n",
              "    <tr>\n",
              "      <th>2104</th>\n",
              "      <td>77</td>\n",
              "      <td>0.0</td>\n",
              "      <td>1.0</td>\n",
              "      <td>0.270896</td>\n",
              "      <td>0.047015</td>\n",
              "      <td>0.348134</td>\n",
              "      <td>0.186567</td>\n",
              "      <td>0.888060</td>\n",
              "      <td>0.370896</td>\n",
              "      <td>0.255597</td>\n",
              "      <td>0.479851</td>\n",
              "      <td>(10413,)</td>\n",
              "      <td>2871.mat</td>\n",
              "      <td>2</td>\n",
              "      <td>102.044108</td>\n",
              "    </tr>\n",
              "    <tr>\n",
              "      <th>846</th>\n",
              "      <td>57</td>\n",
              "      <td>0.0</td>\n",
              "      <td>1.0</td>\n",
              "      <td>0.226375</td>\n",
              "      <td>0.081805</td>\n",
              "      <td>0.311707</td>\n",
              "      <td>0.250000</td>\n",
              "      <td>0.645628</td>\n",
              "      <td>0.432299</td>\n",
              "      <td>0.366714</td>\n",
              "      <td>0.483075</td>\n",
              "      <td>(1969,)</td>\n",
              "      <td>1613.mat</td>\n",
              "      <td>3</td>\n",
              "      <td>44.373415</td>\n",
              "    </tr>\n",
              "    <tr>\n",
              "      <th>1703</th>\n",
              "      <td>77</td>\n",
              "      <td>0.0</td>\n",
              "      <td>1.0</td>\n",
              "      <td>0.176296</td>\n",
              "      <td>0.010895</td>\n",
              "      <td>0.265104</td>\n",
              "      <td>0.194289</td>\n",
              "      <td>0.268736</td>\n",
              "      <td>0.221030</td>\n",
              "      <td>0.214592</td>\n",
              "      <td>0.228623</td>\n",
              "      <td>(1135,)</td>\n",
              "      <td>2470.mat</td>\n",
              "      <td>2</td>\n",
              "      <td>33.689761</td>\n",
              "    </tr>\n",
              "    <tr>\n",
              "      <th>2080</th>\n",
              "      <td>77</td>\n",
              "      <td>0.0</td>\n",
              "      <td>1.0</td>\n",
              "      <td>0.122898</td>\n",
              "      <td>0.010765</td>\n",
              "      <td>0.214174</td>\n",
              "      <td>0.140839</td>\n",
              "      <td>0.531734</td>\n",
              "      <td>0.212379</td>\n",
              "      <td>0.170442</td>\n",
              "      <td>0.259251</td>\n",
              "      <td>(8165,)</td>\n",
              "      <td>2847.mat</td>\n",
              "      <td>2</td>\n",
              "      <td>90.360390</td>\n",
              "    </tr>\n",
              "    <tr>\n",
              "      <th>143</th>\n",
              "      <td>49</td>\n",
              "      <td>0.0</td>\n",
              "      <td>1.0</td>\n",
              "      <td>0.142397</td>\n",
              "      <td>0.023643</td>\n",
              "      <td>0.261687</td>\n",
              "      <td>0.161741</td>\n",
              "      <td>0.701773</td>\n",
              "      <td>0.544331</td>\n",
              "      <td>0.399785</td>\n",
              "      <td>0.608275</td>\n",
              "      <td>(2148,)</td>\n",
              "      <td>228.mat</td>\n",
              "      <td>1</td>\n",
              "      <td>46.346521</td>\n",
              "    </tr>\n",
              "    <tr>\n",
              "      <th>251</th>\n",
              "      <td>49</td>\n",
              "      <td>0.0</td>\n",
              "      <td>1.0</td>\n",
              "      <td>0.200137</td>\n",
              "      <td>0.021627</td>\n",
              "      <td>0.338483</td>\n",
              "      <td>0.203913</td>\n",
              "      <td>0.734638</td>\n",
              "      <td>0.544799</td>\n",
              "      <td>0.480347</td>\n",
              "      <td>0.591143</td>\n",
              "      <td>(2040,)</td>\n",
              "      <td>325.mat</td>\n",
              "      <td>1</td>\n",
              "      <td>45.166359</td>\n",
              "    </tr>\n",
              "    <tr>\n",
              "      <th>1893</th>\n",
              "      <td>77</td>\n",
              "      <td>0.0</td>\n",
              "      <td>1.0</td>\n",
              "      <td>0.136195</td>\n",
              "      <td>0.009993</td>\n",
              "      <td>0.232420</td>\n",
              "      <td>0.110659</td>\n",
              "      <td>0.503701</td>\n",
              "      <td>0.203923</td>\n",
              "      <td>0.172095</td>\n",
              "      <td>0.236862</td>\n",
              "      <td>(7511,)</td>\n",
              "      <td>2660.mat</td>\n",
              "      <td>2</td>\n",
              "      <td>86.666026</td>\n",
              "    </tr>\n",
              "    <tr>\n",
              "      <th>44</th>\n",
              "      <td>49</td>\n",
              "      <td>0.0</td>\n",
              "      <td>1.0</td>\n",
              "      <td>0.025884</td>\n",
              "      <td>0.018417</td>\n",
              "      <td>0.282728</td>\n",
              "      <td>0.270284</td>\n",
              "      <td>0.676456</td>\n",
              "      <td>0.595321</td>\n",
              "      <td>0.550647</td>\n",
              "      <td>0.618716</td>\n",
              "      <td>(2290,)</td>\n",
              "      <td>139.mat</td>\n",
              "      <td>1</td>\n",
              "      <td>47.853944</td>\n",
              "    </tr>\n",
              "  </tbody>\n",
              "</table>\n",
              "</div>"
            ],
            "text/plain": [
              "      pid  mri_min  mri_max  ...  file_name  label  square_shape\n",
              "1211   77      0.0      1.0  ...   1978.mat      2     79.385137\n",
              "1608   77      0.0      1.0  ...   2375.mat      2     29.664794\n",
              "1327   77      0.0      1.0  ...   2094.mat      2     67.683085\n",
              "934    49      0.0      1.0  ...   1701.mat      3     33.181320\n",
              "432    49      0.0      1.0  ...    489.mat      1     28.913665\n",
              "1431   77      0.0      1.0  ...   2198.mat      2     89.610267\n",
              "715    49      0.0      1.0  ...    743.mat      2    138.910043\n",
              "302    49      0.0      1.0  ...    371.mat      1     42.000000\n",
              "2776   49      0.0      1.0  ...   1478.mat      3     25.806976\n",
              "1338   77      0.0      1.0  ...   2105.mat      2     79.818544\n",
              "1402   77      0.0      1.0  ...   2169.mat      2     36.986484\n",
              "2588   49      0.0      1.0  ...   1290.mat      3     32.893768\n",
              "2104   77      0.0      1.0  ...   2871.mat      2    102.044108\n",
              "846    57      0.0      1.0  ...   1613.mat      3     44.373415\n",
              "1703   77      0.0      1.0  ...   2470.mat      2     33.689761\n",
              "2080   77      0.0      1.0  ...   2847.mat      2     90.360390\n",
              "143    49      0.0      1.0  ...    228.mat      1     46.346521\n",
              "251    49      0.0      1.0  ...    325.mat      1     45.166359\n",
              "1893   77      0.0      1.0  ...   2660.mat      2     86.666026\n",
              "44     49      0.0      1.0  ...    139.mat      1     47.853944\n",
              "\n",
              "[20 rows x 15 columns]"
            ]
          },
          "metadata": {
            "tags": []
          },
          "execution_count": 10
        }
      ]
    },
    {
      "cell_type": "markdown",
      "metadata": {
        "id": "c0KYEepMovPx",
        "colab_type": "text"
      },
      "source": [
        "# Analysis\n"
      ]
    },
    {
      "cell_type": "markdown",
      "metadata": {
        "id": "2tqRGoUK5APW",
        "colab_type": "text"
      },
      "source": [
        "## Statistical Analysis\n",
        "* Number of patients in the dataset\n",
        "* Patient wise distribution of tumor classes\n",
        "* Comparison of below attributes for the 3 tumor classes\n",
        "  * 1st quantile of MRI image\n",
        "  * Median of the MRI image\n",
        "  * 3rd quantile of the MRI image\n",
        "  * min value distribution of the Tumor\n",
        "  * max value distribution of the Tumor\n",
        "  * 1st quantile of the Tumor\n",
        "  * median of the Tumor\n",
        "  * 3rd quantile of the Tumor\n",
        "    * Analysis: \n",
        "      * All tumors have darkest area which may indicate the tumor itself\n",
        "      * All tumors have uniform distribution of brightness (apart from the dark area)\n",
        "      * MRI images have darker area outside the skull (non scan area)\n",
        "          * will this influence the model ?\n",
        "          * should the color of the tumor and the non important area of the MRI scan be different ?\n",
        "          \n",
        "* 256x256 image size distribution (any bias in there ?)\n",
        "\n",
        "##### Issues Faced:\n",
        "* Bokeh plots are interactive but they consume a lot of space(>100mb) in the notebook \n",
        "  * markdown for now, when interested can be seen by enabling it as code cell"
      ]
    },
    {
      "cell_type": "code",
      "metadata": {
        "id": "aumAqfm3VymM",
        "colab_type": "code",
        "colab": {
          "base_uri": "https://localhost:8080/",
          "height": 34
        },
        "outputId": "7f94b530-9f54-4f8d-9b46-99757eb4867d"
      },
      "source": [
        "df.pid.unique()"
      ],
      "execution_count": 11,
      "outputs": [
        {
          "output_type": "execute_result",
          "data": {
            "text/plain": [
              "array([49, 57, 53, 77, 56])"
            ]
          },
          "metadata": {
            "tags": []
          },
          "execution_count": 11
        }
      ]
    },
    {
      "cell_type": "markdown",
      "metadata": {
        "id": "eXwJqH_jnfor",
        "colab_type": "text"
      },
      "source": [
        "There are only 5 patients info present !!!!"
      ]
    },
    {
      "cell_type": "code",
      "metadata": {
        "id": "CvBti1CInkCG",
        "colab_type": "code",
        "colab": {
          "base_uri": "https://localhost:8080/",
          "height": 195
        },
        "outputId": "cff841b6-ea1e-47ec-bc55-8215e2c409e7"
      },
      "source": [
        "df.groupby(\"pid\").agg(\"count\").reset_index()[['pid','mri_min']]"
      ],
      "execution_count": 12,
      "outputs": [
        {
          "output_type": "execute_result",
          "data": {
            "text/html": [
              "<div>\n",
              "<style scoped>\n",
              "    .dataframe tbody tr th:only-of-type {\n",
              "        vertical-align: middle;\n",
              "    }\n",
              "\n",
              "    .dataframe tbody tr th {\n",
              "        vertical-align: top;\n",
              "    }\n",
              "\n",
              "    .dataframe thead th {\n",
              "        text-align: right;\n",
              "    }\n",
              "</style>\n",
              "<table border=\"1\" class=\"dataframe\">\n",
              "  <thead>\n",
              "    <tr style=\"text-align: right;\">\n",
              "      <th></th>\n",
              "      <th>pid</th>\n",
              "      <th>mri_min</th>\n",
              "    </tr>\n",
              "  </thead>\n",
              "  <tbody>\n",
              "    <tr>\n",
              "      <th>0</th>\n",
              "      <td>49</td>\n",
              "      <td>1427</td>\n",
              "    </tr>\n",
              "    <tr>\n",
              "      <th>1</th>\n",
              "      <td>53</td>\n",
              "      <td>2</td>\n",
              "    </tr>\n",
              "    <tr>\n",
              "      <th>2</th>\n",
              "      <td>56</td>\n",
              "      <td>13</td>\n",
              "    </tr>\n",
              "    <tr>\n",
              "      <th>3</th>\n",
              "      <td>57</td>\n",
              "      <td>401</td>\n",
              "    </tr>\n",
              "    <tr>\n",
              "      <th>4</th>\n",
              "      <td>77</td>\n",
              "      <td>1221</td>\n",
              "    </tr>\n",
              "  </tbody>\n",
              "</table>\n",
              "</div>"
            ],
            "text/plain": [
              "   pid  mri_min\n",
              "0   49     1427\n",
              "1   53        2\n",
              "2   56       13\n",
              "3   57      401\n",
              "4   77     1221"
            ]
          },
          "metadata": {
            "tags": []
          },
          "execution_count": 12
        }
      ]
    },
    {
      "cell_type": "code",
      "metadata": {
        "id": "6d-95548oIsq",
        "colab_type": "code",
        "colab": {
          "base_uri": "https://localhost:8080/",
          "height": 373
        },
        "outputId": "3c0302cc-32a7-492a-d685-1f3909d0739f"
      },
      "source": [
        "df.groupby([\"pid\",\"label\"]).agg(\"count\").reset_index()[['pid','label','mri_min']]"
      ],
      "execution_count": 13,
      "outputs": [
        {
          "output_type": "execute_result",
          "data": {
            "text/html": [
              "<div>\n",
              "<style scoped>\n",
              "    .dataframe tbody tr th:only-of-type {\n",
              "        vertical-align: middle;\n",
              "    }\n",
              "\n",
              "    .dataframe tbody tr th {\n",
              "        vertical-align: top;\n",
              "    }\n",
              "\n",
              "    .dataframe thead th {\n",
              "        text-align: right;\n",
              "    }\n",
              "</style>\n",
              "<table border=\"1\" class=\"dataframe\">\n",
              "  <thead>\n",
              "    <tr style=\"text-align: right;\">\n",
              "      <th></th>\n",
              "      <th>pid</th>\n",
              "      <th>label</th>\n",
              "      <th>mri_min</th>\n",
              "    </tr>\n",
              "  </thead>\n",
              "  <tbody>\n",
              "    <tr>\n",
              "      <th>0</th>\n",
              "      <td>49</td>\n",
              "      <td>1</td>\n",
              "      <td>584</td>\n",
              "    </tr>\n",
              "    <tr>\n",
              "      <th>1</th>\n",
              "      <td>49</td>\n",
              "      <td>2</td>\n",
              "      <td>126</td>\n",
              "    </tr>\n",
              "    <tr>\n",
              "      <th>2</th>\n",
              "      <td>49</td>\n",
              "      <td>3</td>\n",
              "      <td>717</td>\n",
              "    </tr>\n",
              "    <tr>\n",
              "      <th>3</th>\n",
              "      <td>53</td>\n",
              "      <td>1</td>\n",
              "      <td>1</td>\n",
              "    </tr>\n",
              "    <tr>\n",
              "      <th>4</th>\n",
              "      <td>53</td>\n",
              "      <td>3</td>\n",
              "      <td>1</td>\n",
              "    </tr>\n",
              "    <tr>\n",
              "      <th>5</th>\n",
              "      <td>56</td>\n",
              "      <td>1</td>\n",
              "      <td>1</td>\n",
              "    </tr>\n",
              "    <tr>\n",
              "      <th>6</th>\n",
              "      <td>56</td>\n",
              "      <td>2</td>\n",
              "      <td>12</td>\n",
              "    </tr>\n",
              "    <tr>\n",
              "      <th>7</th>\n",
              "      <td>57</td>\n",
              "      <td>1</td>\n",
              "      <td>122</td>\n",
              "    </tr>\n",
              "    <tr>\n",
              "      <th>8</th>\n",
              "      <td>57</td>\n",
              "      <td>2</td>\n",
              "      <td>67</td>\n",
              "    </tr>\n",
              "    <tr>\n",
              "      <th>9</th>\n",
              "      <td>57</td>\n",
              "      <td>3</td>\n",
              "      <td>212</td>\n",
              "    </tr>\n",
              "    <tr>\n",
              "      <th>10</th>\n",
              "      <td>77</td>\n",
              "      <td>2</td>\n",
              "      <td>1221</td>\n",
              "    </tr>\n",
              "  </tbody>\n",
              "</table>\n",
              "</div>"
            ],
            "text/plain": [
              "    pid  label  mri_min\n",
              "0    49      1      584\n",
              "1    49      2      126\n",
              "2    49      3      717\n",
              "3    53      1        1\n",
              "4    53      3        1\n",
              "5    56      1        1\n",
              "6    56      2       12\n",
              "7    57      1      122\n",
              "8    57      2       67\n",
              "9    57      3      212\n",
              "10   77      2     1221"
            ]
          },
          "metadata": {
            "tags": []
          },
          "execution_count": 13
        }
      ]
    },
    {
      "cell_type": "code",
      "metadata": {
        "id": "2Z0gzrC-qPjs",
        "colab_type": "code",
        "colab": {
          "base_uri": "https://localhost:8080/",
          "height": 136
        },
        "outputId": "0ea0bc70-12ea-47a5-eed8-096c2e897484"
      },
      "source": [
        "df.groupby(\"label\").agg(\"count\").reset_index()[['label','pid']]"
      ],
      "execution_count": 14,
      "outputs": [
        {
          "output_type": "execute_result",
          "data": {
            "text/html": [
              "<div>\n",
              "<style scoped>\n",
              "    .dataframe tbody tr th:only-of-type {\n",
              "        vertical-align: middle;\n",
              "    }\n",
              "\n",
              "    .dataframe tbody tr th {\n",
              "        vertical-align: top;\n",
              "    }\n",
              "\n",
              "    .dataframe thead th {\n",
              "        text-align: right;\n",
              "    }\n",
              "</style>\n",
              "<table border=\"1\" class=\"dataframe\">\n",
              "  <thead>\n",
              "    <tr style=\"text-align: right;\">\n",
              "      <th></th>\n",
              "      <th>label</th>\n",
              "      <th>pid</th>\n",
              "    </tr>\n",
              "  </thead>\n",
              "  <tbody>\n",
              "    <tr>\n",
              "      <th>0</th>\n",
              "      <td>1</td>\n",
              "      <td>708</td>\n",
              "    </tr>\n",
              "    <tr>\n",
              "      <th>1</th>\n",
              "      <td>2</td>\n",
              "      <td>1426</td>\n",
              "    </tr>\n",
              "    <tr>\n",
              "      <th>2</th>\n",
              "      <td>3</td>\n",
              "      <td>930</td>\n",
              "    </tr>\n",
              "  </tbody>\n",
              "</table>\n",
              "</div>"
            ],
            "text/plain": [
              "   label   pid\n",
              "0      1   708\n",
              "1      2  1426\n",
              "2      3   930"
            ]
          },
          "metadata": {
            "tags": []
          },
          "execution_count": 14
        }
      ]
    },
    {
      "cell_type": "code",
      "metadata": {
        "id": "bCCP1RnBrn2n",
        "colab_type": "code",
        "colab": {
          "base_uri": "https://localhost:8080/",
          "height": 1000
        },
        "outputId": "4a0894eb-5137-4a26-8f04-b28e910e3372"
      },
      "source": [
        "def plotStatistics(df, tumor_name):\n",
        "  df = df[[\"mri_1q\",\"mri_median\",\"mri_3q\",\"t_min\",\"t_1q\",\"t_median\",\"t_3q\",\"t_max\"]]\n",
        "  df=(df-df.min())/(df.max()-df.min())\n",
        "  fig, ax = plt.subplots(1, 8,sharex=True,sharey=True,tight_layout=True)\n",
        "  fig.set_figheight(4)\n",
        "  fig.set_figwidth(13)\n",
        "  \n",
        "  fig.suptitle(tumor_name+\" Tumor\")\n",
        "  #plt.subplot(1,8,1)\n",
        "  ax[0].hist(df.mri_1q.tolist())\n",
        "  ax[0].set_title(\"mri_1q\")\n",
        "  #plt.subplot(1,8,2)\n",
        "  ax[1].hist(df.mri_median.tolist())\n",
        "  ax[1].set_title(\"mri_median\")\n",
        "  #plt.subplot(1,8,3)\n",
        "  ax[2].hist(df.mri_3q.tolist())\n",
        "  ax[2].set_title(\"mri_3q\")\n",
        "  #plt.subplot(1,8,4)\n",
        "  ax[3].hist(df.t_min.tolist())\n",
        "  ax[3].set_title(\"t_min\")\n",
        "  #plt.subplot(1,8,5)\n",
        "  ax[4].hist(df.t_1q.tolist())\n",
        "  ax[4].set_title(\"t_1q\")\n",
        "  #plt.subplot(1,8,6)\n",
        "  ax[5].hist(df.t_median.tolist())\n",
        "  ax[5].set_title(\"t_median\")\n",
        "  #plt.subplot(1,8,7)\n",
        "  ax[6].hist(df.t_3q.tolist())\n",
        "  ax[6].set_title(\"t_3q\")\n",
        "  #plt.subplot(1,8,8)\n",
        "  ax[7].hist(df.t_max.tolist())\n",
        "  ax[7].set_title(\"t_max\")\n",
        "  plt.show()\n",
        "\n",
        "plotStatistics(df[df.label ==1], tumor_names[1])\n",
        "plotStatistics(df[df.label ==2], tumor_names[2])\n",
        "plotStatistics(df[df.label ==3], tumor_names[3])\n",
        "plotStatistics(df, \"All\")"
      ],
      "execution_count": 15,
      "outputs": [
        {
          "output_type": "stream",
          "text": [
            "/usr/local/lib/python3.6/dist-packages/matplotlib/figure.py:2369: UserWarning: This figure includes Axes that are not compatible with tight_layout, so results might be incorrect.\n",
            "  warnings.warn(\"This figure includes Axes that are not compatible \"\n"
          ],
          "name": "stderr"
        },
        {
          "output_type": "display_data",
          "data": {
            "image/png": "[encoded data removed]",
            "text/plain": [
              "<Figure size 936x288 with 8 Axes>"
            ]
          },
          "metadata": {
            "tags": []
          }
        },
        {
          "output_type": "display_data",
          "data": {
            "image/png": "[encoded data removed]",
            "text/plain": [
              "<Figure size 936x288 with 8 Axes>"
            ]
          },
          "metadata": {
            "tags": []
          }
        },
        {
          "output_type": "display_data",
          "data": {
            "image/png": "[encoded data removed]",
            "text/plain": [
              "<Figure size 936x288 with 8 Axes>"
            ]
          },
          "metadata": {
            "tags": []
          }
        },
        {
          "output_type": "display_data",
          "data": {
            "image/png": "[encoded data removed]",
            "text/plain": [
              "<Figure size 936x288 with 8 Axes>"
            ]
          },
          "metadata": {
            "tags": []
          }
        }
      ]
    },
    {
      "cell_type": "markdown",
      "metadata": {
        "id": "6NZjperm5HpZ",
        "colab_type": "text"
      },
      "source": [
        "## Visual Analysis"
      ]
    },
    {
      "cell_type": "markdown",
      "metadata": {
        "id": "IYCnbIgH360L",
        "colab_type": "text"
      },
      "source": [
        "### Smallest Tumor Sample"
      ]
    },
    {
      "cell_type": "markdown",
      "metadata": {
        "id": "wH9v4orNwTFk",
        "colab_type": "text"
      },
      "source": [
        "plt.imshow(retrieveImage(list(df[df.tumor_size == df.tumor_size.min()]['file_name'])[0]));\n",
        "plt.imshow(retrieveTumorImage(list(df[df.tumor_size == df.tumor_size.min()]['file_name'])[0]),alpha=0.5);\n",
        "plt.show()\n"
      ]
    },
    {
      "cell_type": "markdown",
      "metadata": {
        "id": "bj_utuj44fUp",
        "colab_type": "text"
      },
      "source": [
        "### Biggest Tumor in the Dataset"
      ]
    },
    {
      "cell_type": "markdown",
      "metadata": {
        "id": "0btsuHfkxfty",
        "colab_type": "text"
      },
      "source": [
        "plt.imshow(retrieveImage(list(df[df.tumor_size == df.tumor_size.max()]['file_name'])[0]));\n",
        "plt.imshow(retrieveTumorImage(list(df[df.tumor_size == df.tumor_size.max()]['file_name'])[0]),alpha=0.5);\n",
        "plt.show()\n"
      ]
    },
    {
      "cell_type": "markdown",
      "metadata": {
        "id": "Q6Jgv6oj30uI",
        "colab_type": "text"
      },
      "source": [
        "### Numpy Resize failed"
      ]
    },
    {
      "cell_type": "markdown",
      "metadata": {
        "id": "8aYJNq38zCRL",
        "colab_type": "text"
      },
      "source": [
        "plt.imshow(np.resize(retrieveImage(list(df[df.tumor_size == df.tumor_size.max()]['file_name'])[0]),(256,256)));\n",
        "plt.show()"
      ]
    },
    {
      "cell_type": "markdown",
      "metadata": {
        "id": "yJy0WXR3A_Td",
        "colab_type": "text"
      },
      "source": [
        "### Bokeh Plot"
      ]
    },
    {
      "cell_type": "markdown",
      "metadata": {
        "id": "vqrwFc48BCh9",
        "colab_type": "text"
      },
      "source": [
        "def bokehPlot(file_name, tumor_label):\n",
        "  tumor_names = [\"\",\"Meningioma\",\"Glioma\",\"Pituitary\"]\n",
        "  im = retrieveImage(file_name)\n",
        "  s1 = figure(width=512, plot_height=512, title=tumor_names[tumor_label]+\" MRI Image\")\n",
        "  s1.image([im],x=[0],y=[0],dw=[512],dh=[512])\n",
        "\n",
        "  im2 = retrieveTumorImage(file_name)\n",
        "\n",
        "  s2 = figure(width=500, plot_height=500, title=tumor_names[tumor_label]+\" MRI Image with Tumor Highlighted\")\n",
        "  s2.image([im2],x=[0],y=[0],dw=[512],dh=[512])\n",
        "  s2.image([im],x=[0],y=[0],dw=[512],dh=[512],global_alpha=0.5)\n",
        "\n",
        "  show(row(s1,s2))\n",
        "\n",
        "bokehPlot(list(df[df.tumor_size == df.tumor_size.max()]['file_name'])[0], list(df[df.tumor_size == df.tumor_size.max()]['label'])[0])"
      ]
    },
    {
      "cell_type": "markdown",
      "metadata": {
        "id": "wQ0e1zAWWE4l",
        "colab_type": "text"
      },
      "source": [
        "#### Meningioma Plots"
      ]
    },
    {
      "cell_type": "markdown",
      "metadata": {
        "id": "-9dliKZMWINQ",
        "colab_type": "text"
      },
      "source": [
        "for fname in list(df[df.label == 1].sample(3)[\"file_name\"]):\n",
        "  bokehPlot(fname,1)"
      ]
    },
    {
      "cell_type": "markdown",
      "metadata": {
        "id": "7pP6euXXWqpU",
        "colab_type": "text"
      },
      "source": [
        "#### Glioma Plots"
      ]
    },
    {
      "cell_type": "markdown",
      "metadata": {
        "id": "22qcn6KiWvMJ",
        "colab_type": "text"
      },
      "source": [
        "for fname in list(df[df.label == 2].sample(3)[\"file_name\"]):\n",
        "  bokehPlot(fname,2)"
      ]
    },
    {
      "cell_type": "markdown",
      "metadata": {
        "id": "d_3qNVQqV9A8",
        "colab_type": "text"
      },
      "source": [
        "#### Pituitary Plots"
      ]
    },
    {
      "cell_type": "markdown",
      "metadata": {
        "id": "b8P5A-cQO79W",
        "colab_type": "text"
      },
      "source": [
        "for fname in list(df[df.label == 3].sample(3)[\"file_name\"]):\n",
        "  bokehPlot(fname,3)"
      ]
    },
    {
      "cell_type": "markdown",
      "metadata": {
        "id": "-RdvYCpyo2vC",
        "colab_type": "text"
      },
      "source": [
        "# Preprocessing\n"
      ]
    },
    {
      "cell_type": "markdown",
      "metadata": {
        "id": "V6QgmzMKv6Hw",
        "colab_type": "text"
      },
      "source": [
        "Preprocessing ideas:\n",
        "\n",
        "1.  Dataset has tumor region indicator which would allow us to get the average brightness of the area.\n",
        "\n",
        "2. It is said that brightest region is skull and skull is not important for the tumor detection. It is only brain position determines the tumor class. If we remove skull remaining image is brain ?\n",
        "\n",
        "3. if we start with a window of image which would maximize the presence of tumor and expand to include some brain region around the tumor then i guess it is the best data for training(and predicting). Because tumor position in brain is THE factor that decides the tumor class.\n",
        "\n",
        "4. what is the optimum batch size for training?\n",
        "\n",
        "5. what is the overall Image augumented training dataset size ?\n",
        "\n"
      ]
    },
    {
      "cell_type": "markdown",
      "metadata": {
        "id": "JGWNu-Zpk04v",
        "colab_type": "text"
      },
      "source": [
        "## Batch Creation"
      ]
    },
    {
      "cell_type": "code",
      "metadata": {
        "id": "bvedxzrclan5",
        "colab_type": "code",
        "colab": {
          "base_uri": "https://localhost:8080/",
          "height": 136
        },
        "outputId": "71afe9fb-5981-443f-85df-d69857428979"
      },
      "source": [
        "df.groupby(\"label\").agg(\"count\").reset_index()"
      ],
      "execution_count": 16,
      "outputs": [
        {
          "output_type": "execute_result",
          "data": {
            "text/html": [
              "<div>\n",
              "<style scoped>\n",
              "    .dataframe tbody tr th:only-of-type {\n",
              "        vertical-align: middle;\n",
              "    }\n",
              "\n",
              "    .dataframe tbody tr th {\n",
              "        vertical-align: top;\n",
              "    }\n",
              "\n",
              "    .dataframe thead th {\n",
              "        text-align: right;\n",
              "    }\n",
              "</style>\n",
              "<table border=\"1\" class=\"dataframe\">\n",
              "  <thead>\n",
              "    <tr style=\"text-align: right;\">\n",
              "      <th></th>\n",
              "      <th>label</th>\n",
              "      <th>pid</th>\n",
              "      <th>mri_min</th>\n",
              "      <th>mri_max</th>\n",
              "      <th>mri_median</th>\n",
              "      <th>mri_1q</th>\n",
              "      <th>mri_3q</th>\n",
              "      <th>t_min</th>\n",
              "      <th>t_max</th>\n",
              "      <th>t_median</th>\n",
              "      <th>t_1q</th>\n",
              "      <th>t_3q</th>\n",
              "      <th>tumor_size</th>\n",
              "      <th>file_name</th>\n",
              "      <th>square_shape</th>\n",
              "    </tr>\n",
              "  </thead>\n",
              "  <tbody>\n",
              "    <tr>\n",
              "      <th>0</th>\n",
              "      <td>1</td>\n",
              "      <td>708</td>\n",
              "      <td>708</td>\n",
              "      <td>708</td>\n",
              "      <td>708</td>\n",
              "      <td>708</td>\n",
              "      <td>708</td>\n",
              "      <td>708</td>\n",
              "      <td>708</td>\n",
              "      <td>708</td>\n",
              "      <td>708</td>\n",
              "      <td>708</td>\n",
              "      <td>708</td>\n",
              "      <td>708</td>\n",
              "      <td>708</td>\n",
              "    </tr>\n",
              "    <tr>\n",
              "      <th>1</th>\n",
              "      <td>2</td>\n",
              "      <td>1426</td>\n",
              "      <td>1426</td>\n",
              "      <td>1426</td>\n",
              "      <td>1426</td>\n",
              "      <td>1426</td>\n",
              "      <td>1426</td>\n",
              "      <td>1426</td>\n",
              "      <td>1426</td>\n",
              "      <td>1426</td>\n",
              "      <td>1426</td>\n",
              "      <td>1426</td>\n",
              "      <td>1426</td>\n",
              "      <td>1426</td>\n",
              "      <td>1426</td>\n",
              "    </tr>\n",
              "    <tr>\n",
              "      <th>2</th>\n",
              "      <td>3</td>\n",
              "      <td>930</td>\n",
              "      <td>930</td>\n",
              "      <td>930</td>\n",
              "      <td>930</td>\n",
              "      <td>930</td>\n",
              "      <td>930</td>\n",
              "      <td>930</td>\n",
              "      <td>930</td>\n",
              "      <td>930</td>\n",
              "      <td>930</td>\n",
              "      <td>930</td>\n",
              "      <td>930</td>\n",
              "      <td>930</td>\n",
              "      <td>930</td>\n",
              "    </tr>\n",
              "  </tbody>\n",
              "</table>\n",
              "</div>"
            ],
            "text/plain": [
              "   label   pid  mri_min  mri_max  ...  t_3q  tumor_size  file_name  square_shape\n",
              "0      1   708      708      708  ...   708         708        708           708\n",
              "1      2  1426     1426     1426  ...  1426        1426       1426          1426\n",
              "2      3   930      930      930  ...   930         930        930           930\n",
              "\n",
              "[3 rows x 15 columns]"
            ]
          },
          "metadata": {
            "tags": []
          },
          "execution_count": 16
        }
      ]
    },
    {
      "cell_type": "code",
      "metadata": {
        "id": "d81fcRggmMy5",
        "colab_type": "code",
        "colab": {
          "base_uri": "https://localhost:8080/",
          "height": 1000
        },
        "outputId": "c06004ec-4dc9-4a8c-db3b-989eb9fa17c6"
      },
      "source": [
        "def returnBatchIndices(df,batch_size):\n",
        "  label_1 = df[df.label == 1].index.tolist()\n",
        "  label_2 = df[df.label == 2].index.tolist()\n",
        "  label_3 = df[df.label == 3].index.tolist()\n",
        "\n",
        "  label_list = []\n",
        "  #print(len(label_1), len(label_2),len(label_3),list(range(0,max(len(label_1),len(label_2),len(label_3)),batch_size)))\n",
        "  for i in range(0,max(len(label_1),len(label_2),len(label_3)),batch_size):\n",
        "    label_list.append(label_1[i:i+batch_size] + label_2[i:i+batch_size] + label_3[i:i+batch_size])\n",
        "  return label_list\n",
        "\n",
        "#yieldbatch(df,5)\n",
        "for batch in returnBatchIndices(df,5):\n",
        "  print(batch)\n"
      ],
      "execution_count": 18,
      "outputs": [
        {
          "output_type": "stream",
          "text": [
            "[0, 1, 2, 3, 4, 122, 124, 684, 685, 686, 544, 677, 679, 680, 681]\n",
            "[5, 6, 7, 8, 9, 687, 688, 690, 691, 692, 682, 683, 766, 767, 768]\n",
            "[10, 11, 12, 13, 14, 693, 694, 695, 696, 697, 769, 770, 771, 772, 773]\n",
            "[15, 16, 17, 18, 19, 698, 699, 701, 702, 703, 774, 775, 776, 777, 778]\n",
            "[20, 21, 22, 23, 24, 704, 705, 706, 707, 708, 779, 780, 781, 782, 783]\n",
            "[25, 26, 27, 28, 29, 709, 710, 712, 713, 714, 784, 785, 786, 787, 788]\n",
            "[30, 31, 32, 33, 34, 715, 716, 717, 718, 719, 789, 790, 791, 792, 793]\n",
            "[35, 36, 37, 38, 39, 720, 721, 723, 724, 725, 794, 795, 796, 797, 798]\n",
            "[40, 41, 42, 43, 44, 726, 727, 728, 729, 730, 799, 800, 801, 802, 803]\n",
            "[45, 46, 47, 48, 49, 731, 732, 734, 735, 736, 804, 805, 806, 807, 808]\n",
            "[50, 51, 52, 53, 54, 737, 738, 739, 740, 1074, 809, 810, 811, 812, 813]\n",
            "[55, 56, 57, 58, 59, 1075, 1076, 1077, 1078, 1079, 814, 815, 816, 817, 818]\n",
            "[60, 61, 62, 63, 64, 1080, 1081, 1082, 1083, 1084, 819, 820, 821, 822, 823]\n",
            "[65, 66, 67, 68, 69, 1085, 1086, 1087, 1088, 1089, 824, 825, 826, 827, 828]\n",
            "[70, 71, 72, 73, 74, 1090, 1091, 1092, 1093, 1094, 829, 830, 831, 832, 833]\n",
            "[75, 76, 77, 78, 79, 1095, 1096, 1097, 1098, 1099, 834, 835, 836, 837, 838]\n",
            "[80, 81, 82, 83, 84, 1100, 1101, 1102, 1103, 1104, 839, 840, 841, 842, 843]\n",
            "[85, 86, 87, 88, 89, 1105, 1106, 1107, 1108, 1109, 844, 845, 846, 847, 848]\n",
            "[90, 91, 92, 93, 94, 1110, 1111, 1112, 1113, 1114, 849, 850, 851, 852, 853]\n",
            "[95, 96, 97, 98, 99, 1115, 1116, 1117, 1118, 1119, 854, 855, 856, 857, 858]\n",
            "[100, 101, 102, 103, 104, 1120, 1121, 1122, 1123, 1124, 859, 860, 861, 862, 863]\n",
            "[105, 106, 107, 108, 109, 1125, 1126, 1127, 1128, 1129, 864, 865, 866, 867, 868]\n",
            "[110, 111, 112, 113, 114, 1130, 1131, 1132, 1133, 1134, 869, 870, 871, 872, 873]\n",
            "[115, 116, 117, 118, 119, 1135, 1136, 1137, 1138, 1139, 874, 875, 876, 877, 878]\n",
            "[120, 121, 123, 125, 126, 1140, 1141, 1142, 1143, 1144, 879, 880, 881, 882, 883]\n",
            "[127, 128, 129, 130, 131, 1145, 1146, 1147, 1148, 1149, 884, 885, 886, 887, 888]\n",
            "[132, 133, 134, 135, 136, 1150, 1151, 1152, 1153, 1154, 889, 890, 891, 892, 893]\n",
            "[137, 138, 139, 140, 141, 1155, 1156, 1157, 1158, 1159, 894, 895, 896, 897, 898]\n",
            "[142, 143, 144, 145, 146, 1160, 1161, 1162, 1163, 1164, 899, 900, 901, 902, 903]\n",
            "[147, 148, 149, 150, 151, 1165, 1166, 1167, 1168, 1169, 904, 905, 906, 907, 908]\n",
            "[152, 153, 154, 155, 156, 1170, 1171, 1172, 1173, 1174, 909, 910, 911, 912, 913]\n",
            "[157, 158, 159, 160, 161, 1175, 1176, 1177, 1178, 1179, 914, 915, 916, 917, 918]\n",
            "[162, 163, 164, 165, 166, 1180, 1181, 1182, 1183, 1184, 919, 920, 921, 922, 923]\n",
            "[167, 168, 169, 170, 171, 1185, 1186, 1187, 1188, 1189, 924, 925, 926, 927, 928]\n",
            "[172, 173, 174, 175, 176, 1190, 1191, 1192, 1193, 1194, 929, 930, 931, 932, 933]\n",
            "[177, 178, 179, 180, 181, 1195, 1196, 1197, 1198, 1199, 934, 935, 936, 937, 938]\n",
            "[182, 183, 184, 185, 186, 1200, 1201, 1202, 1203, 1204, 939, 940, 941, 942, 943]\n",
            "[187, 188, 189, 190, 191, 1205, 1206, 1207, 1208, 1209, 944, 945, 946, 947, 948]\n",
            "[192, 193, 194, 195, 196, 1210, 1211, 1212, 1213, 1214, 949, 950, 951, 952, 953]\n",
            "[197, 198, 199, 200, 201, 1215, 1216, 1217, 1218, 1219, 954, 955, 956, 957, 958]\n",
            "[202, 203, 204, 205, 206, 1220, 1221, 1222, 1223, 1224, 959, 960, 961, 962, 963]\n",
            "[207, 208, 209, 210, 211, 1225, 1226, 1227, 1228, 1229, 964, 965, 966, 967, 968]\n",
            "[212, 213, 214, 215, 216, 1230, 1231, 1232, 1233, 1234, 969, 970, 971, 972, 973]\n",
            "[217, 218, 219, 220, 221, 1235, 1236, 1237, 1238, 1239, 974, 975, 976, 977, 978]\n",
            "[222, 223, 224, 225, 226, 1240, 1241, 1242, 1243, 1244, 979, 980, 981, 982, 983]\n",
            "[227, 228, 229, 230, 231, 1245, 1246, 1247, 1248, 1249, 984, 985, 986, 987, 988]\n",
            "[232, 233, 234, 235, 236, 1250, 1251, 1252, 1253, 1254, 989, 990, 991, 992, 993]\n",
            "[237, 238, 239, 240, 241, 1255, 1256, 1257, 1258, 1259, 994, 995, 996, 997, 998]\n",
            "[242, 243, 244, 245, 246, 1260, 1261, 1262, 1263, 1264, 999, 1000, 1001, 1002, 1003]\n",
            "[247, 248, 249, 250, 251, 1265, 1266, 1267, 1268, 1269, 1004, 1005, 1006, 1007, 1008]\n",
            "[252, 253, 254, 255, 256, 1270, 1271, 1272, 1273, 1274, 1009, 1010, 1011, 1012, 1013]\n",
            "[257, 258, 259, 260, 261, 1275, 1276, 1277, 1278, 1279, 1014, 1015, 1016, 1017, 1018]\n",
            "[262, 263, 264, 265, 266, 1280, 1281, 1282, 1283, 1284, 1019, 1020, 1021, 1022, 1023]\n",
            "[267, 268, 269, 270, 271, 1285, 1286, 1287, 1288, 1289, 1024, 1025, 1026, 1027, 1028]\n",
            "[272, 273, 274, 275, 276, 1290, 1291, 1292, 1293, 1294, 1029, 1030, 1031, 1032, 1033]\n",
            "[277, 278, 279, 280, 281, 1295, 1296, 1297, 1298, 1299, 1034, 1035, 1036, 1037, 1038]\n",
            "[282, 283, 284, 285, 286, 1300, 1301, 1302, 1303, 1304, 1039, 1040, 1041, 1042, 1043]\n",
            "[287, 288, 289, 290, 291, 1305, 1306, 1307, 1308, 1309, 1044, 1045, 1046, 1047, 1048]\n",
            "[292, 293, 294, 295, 296, 1310, 1311, 1312, 1313, 1314, 1049, 1050, 1051, 1052, 1053]\n",
            "[297, 298, 299, 300, 301, 1315, 1316, 1317, 1318, 1319, 1054, 1055, 1056, 1057, 1058]\n",
            "[302, 303, 304, 305, 306, 1320, 1321, 1322, 1323, 1324, 1059, 1060, 1061, 1062, 1063]\n",
            "[307, 308, 309, 310, 311, 1325, 1326, 1327, 1328, 1329, 1064, 1065, 1066, 1067, 1068]\n",
            "[312, 313, 314, 315, 316, 1330, 1331, 1332, 1333, 1334, 1069, 1070, 1071, 1072, 1073]\n",
            "[317, 318, 319, 320, 321, 1335, 1336, 1337, 1338, 1339, 2298, 2299, 2300, 2301, 2302]\n",
            "[322, 323, 324, 325, 326, 1340, 1341, 1342, 1343, 1344, 2303, 2304, 2305, 2306, 2307]\n",
            "[327, 328, 329, 330, 331, 1345, 1346, 1347, 1348, 1349, 2308, 2309, 2310, 2311, 2312]\n",
            "[332, 333, 334, 335, 336, 1350, 1351, 1352, 1353, 1354, 2313, 2314, 2315, 2316, 2317]\n",
            "[337, 338, 339, 340, 341, 1355, 1356, 1357, 1358, 1359, 2318, 2319, 2320, 2321, 2322]\n",
            "[342, 343, 344, 345, 346, 1360, 1361, 1362, 1363, 1364, 2323, 2324, 2325, 2326, 2327]\n",
            "[347, 348, 349, 350, 351, 1365, 1366, 1367, 1368, 1369, 2328, 2329, 2330, 2331, 2332]\n",
            "[352, 353, 354, 355, 356, 1370, 1371, 1372, 1373, 1374, 2333, 2334, 2335, 2336, 2337]\n",
            "[357, 358, 359, 360, 361, 1375, 1376, 1377, 1378, 1379, 2338, 2339, 2340, 2341, 2342]\n",
            "[362, 363, 364, 365, 366, 1380, 1381, 1382, 1383, 1384, 2343, 2344, 2345, 2346, 2347]\n",
            "[367, 368, 369, 370, 371, 1385, 1386, 1387, 1388, 1389, 2348, 2349, 2350, 2351, 2352]\n",
            "[372, 373, 374, 375, 376, 1390, 1391, 1392, 1393, 1394, 2353, 2354, 2355, 2356, 2357]\n",
            "[377, 378, 379, 380, 381, 1395, 1396, 1397, 1398, 1399, 2358, 2359, 2360, 2361, 2362]\n",
            "[382, 383, 384, 385, 386, 1400, 1401, 1402, 1403, 1404, 2363, 2364, 2365, 2366, 2367]\n",
            "[387, 388, 389, 390, 391, 1405, 1406, 1407, 1408, 1409, 2368, 2369, 2370, 2371, 2372]\n",
            "[392, 393, 394, 395, 396, 1410, 1411, 1412, 1413, 1414, 2373, 2374, 2375, 2376, 2377]\n",
            "[397, 398, 399, 400, 401, 1415, 1416, 1417, 1418, 1419, 2378, 2379, 2380, 2381, 2382]\n",
            "[402, 403, 404, 405, 406, 1420, 1421, 1422, 1423, 1424, 2383, 2384, 2385, 2386, 2387]\n",
            "[407, 408, 409, 410, 411, 1425, 1426, 1427, 1428, 1429, 2388, 2389, 2390, 2391, 2392]\n",
            "[412, 413, 414, 415, 416, 1430, 1431, 1432, 1433, 1434, 2393, 2394, 2395, 2396, 2397]\n",
            "[417, 418, 419, 420, 421, 1435, 1436, 1437, 1438, 1439, 2398, 2399, 2400, 2401, 2402]\n",
            "[422, 423, 424, 425, 426, 1440, 1441, 1442, 1443, 1444, 2403, 2404, 2405, 2406, 2407]\n",
            "[427, 428, 429, 430, 431, 1445, 1446, 1447, 1448, 1449, 2408, 2409, 2410, 2411, 2412]\n",
            "[432, 433, 434, 435, 436, 1450, 1451, 1452, 1453, 1454, 2413, 2414, 2415, 2416, 2417]\n",
            "[437, 438, 439, 440, 441, 1455, 1456, 1457, 1458, 1459, 2418, 2419, 2420, 2421, 2422]\n",
            "[442, 443, 444, 445, 446, 1460, 1461, 1462, 1463, 1464, 2423, 2424, 2425, 2426, 2427]\n",
            "[447, 448, 449, 450, 451, 1465, 1466, 1467, 1468, 1469, 2428, 2429, 2430, 2431, 2432]\n",
            "[452, 453, 454, 455, 456, 1470, 1471, 1472, 1473, 1474, 2433, 2434, 2435, 2436, 2437]\n",
            "[457, 458, 459, 460, 461, 1475, 1476, 1477, 1478, 1479, 2438, 2439, 2440, 2441, 2442]\n",
            "[462, 463, 464, 465, 466, 1480, 1481, 1482, 1483, 1484, 2443, 2444, 2445, 2446, 2447]\n",
            "[467, 468, 469, 470, 471, 1485, 1486, 1487, 1488, 1489, 2448, 2449, 2450, 2451, 2452]\n",
            "[472, 473, 474, 475, 476, 1490, 1491, 1492, 1493, 1494, 2453, 2454, 2455, 2456, 2457]\n",
            "[477, 478, 479, 480, 481, 1495, 1496, 1497, 1498, 1499, 2458, 2459, 2460, 2461, 2462]\n",
            "[482, 483, 484, 485, 486, 1500, 1501, 1502, 1503, 1504, 2463, 2464, 2465, 2466, 2467]\n",
            "[487, 488, 489, 490, 491, 1505, 1506, 1507, 1508, 1509, 2468, 2469, 2470, 2471, 2472]\n",
            "[492, 493, 494, 495, 496, 1510, 1511, 1512, 1513, 1514, 2473, 2474, 2475, 2476, 2477]\n",
            "[497, 498, 499, 500, 501, 1515, 1516, 1517, 1518, 1519, 2478, 2479, 2480, 2481, 2482]\n",
            "[502, 503, 504, 505, 506, 1520, 1521, 1522, 1523, 1524, 2483, 2484, 2485, 2486, 2487]\n",
            "[507, 508, 509, 510, 511, 1525, 1526, 1527, 1528, 1529, 2488, 2489, 2490, 2491, 2492]\n",
            "[512, 513, 514, 515, 516, 1530, 1531, 1532, 1533, 1534, 2493, 2494, 2495, 2496, 2497]\n",
            "[517, 518, 519, 520, 521, 1535, 1536, 1537, 1538, 1539, 2498, 2499, 2500, 2501, 2502]\n",
            "[522, 523, 524, 525, 526, 1540, 1541, 1542, 1543, 1544, 2503, 2504, 2505, 2506, 2507]\n",
            "[527, 528, 529, 530, 531, 1545, 1546, 1547, 1548, 1549, 2508, 2509, 2510, 2511, 2512]\n",
            "[532, 533, 534, 535, 536, 1550, 1551, 1552, 1553, 1554, 2513, 2514, 2515, 2516, 2517]\n",
            "[537, 538, 539, 540, 541, 1555, 1556, 1557, 1558, 1559, 2518, 2519, 2520, 2521, 2522]\n",
            "[542, 543, 545, 546, 547, 1560, 1561, 1562, 1563, 1564, 2523, 2524, 2525, 2526, 2527]\n",
            "[548, 549, 550, 551, 552, 1565, 1566, 1567, 1568, 1569, 2528, 2529, 2530, 2531, 2532]\n",
            "[553, 554, 555, 556, 557, 1570, 1571, 1572, 1573, 1574, 2533, 2534, 2535, 2536, 2537]\n",
            "[558, 559, 560, 561, 562, 1575, 1576, 1577, 1578, 1579, 2538, 2539, 2540, 2541, 2542]\n",
            "[563, 564, 565, 566, 567, 1580, 1581, 1582, 1583, 1584, 2543, 2544, 2545, 2546, 2547]\n",
            "[568, 569, 570, 571, 572, 1585, 1586, 1587, 1588, 1589, 2548, 2549, 2550, 2551, 2552]\n",
            "[573, 574, 575, 576, 577, 1590, 1591, 1592, 1593, 1594, 2553, 2554, 2555, 2556, 2557]\n",
            "[578, 579, 580, 581, 582, 1595, 1596, 1597, 1598, 1599, 2558, 2559, 2560, 2561, 2562]\n",
            "[583, 584, 585, 586, 587, 1600, 1601, 1602, 1603, 1604, 2563, 2564, 2565, 2566, 2567]\n",
            "[588, 589, 590, 591, 592, 1605, 1606, 1607, 1608, 1609, 2568, 2569, 2570, 2571, 2572]\n",
            "[593, 594, 595, 596, 597, 1610, 1611, 1612, 1613, 1614, 2573, 2574, 2575, 2576, 2577]\n",
            "[598, 599, 600, 601, 602, 1615, 1616, 1617, 1618, 1619, 2578, 2579, 2580, 2581, 2582]\n",
            "[603, 604, 605, 606, 607, 1620, 1621, 1622, 1623, 1624, 2583, 2584, 2585, 2586, 2587]\n",
            "[608, 609, 610, 611, 612, 1625, 1626, 1627, 1628, 1629, 2588, 2589, 2590, 2591, 2592]\n",
            "[613, 614, 615, 616, 617, 1630, 1631, 1632, 1633, 1634, 2593, 2594, 2595, 2596, 2597]\n",
            "[618, 619, 620, 621, 622, 1635, 1636, 1637, 1638, 1639, 2598, 2599, 2600, 2601, 2602]\n",
            "[623, 624, 625, 626, 627, 1640, 1641, 1642, 1643, 1644, 2603, 2604, 2605, 2606, 2607]\n",
            "[628, 629, 630, 631, 632, 1645, 1646, 1647, 1648, 1649, 2608, 2609, 2610, 2611, 2612]\n",
            "[633, 634, 635, 636, 637, 1650, 1651, 1652, 1653, 1654, 2613, 2614, 2615, 2616, 2617]\n",
            "[638, 639, 640, 641, 642, 1655, 1656, 1657, 1658, 1659, 2618, 2619, 2620, 2621, 2622]\n",
            "[643, 644, 645, 646, 647, 1660, 1661, 1662, 1663, 1664, 2623, 2624, 2625, 2626, 2627]\n",
            "[648, 649, 650, 651, 652, 1665, 1666, 1667, 1668, 1669, 2628, 2629, 2630, 2631, 2632]\n",
            "[653, 654, 655, 656, 657, 1670, 1671, 1672, 1673, 1674, 2633, 2634, 2635, 2636, 2637]\n",
            "[658, 659, 660, 661, 662, 1675, 1676, 1677, 1678, 1679, 2638, 2639, 2640, 2641, 2642]\n",
            "[663, 664, 665, 666, 667, 1680, 1681, 1682, 1683, 1684, 2643, 2644, 2645, 2646, 2647]\n",
            "[668, 669, 670, 671, 672, 1685, 1686, 1687, 1688, 1689, 2648, 2649, 2650, 2651, 2652]\n",
            "[673, 674, 675, 676, 678, 1690, 1691, 1692, 1693, 1694, 2653, 2654, 2655, 2656, 2657]\n",
            "[689, 700, 711, 722, 733, 1695, 1696, 1697, 1698, 1699, 2658, 2659, 2660, 2661, 2662]\n",
            "[741, 742, 743, 744, 745, 1700, 1701, 1702, 1703, 1704, 2663, 2664, 2665, 2666, 2667]\n",
            "[746, 747, 748, 749, 750, 1705, 1706, 1707, 1708, 1709, 2668, 2669, 2670, 2671, 2672]\n",
            "[751, 752, 753, 754, 755, 1710, 1711, 1712, 1713, 1714, 2673, 2674, 2675, 2676, 2677]\n",
            "[756, 757, 758, 759, 760, 1715, 1716, 1717, 1718, 1719, 2678, 2679, 2680, 2681, 2682]\n",
            "[761, 762, 763, 764, 765, 1720, 1721, 1722, 1723, 1724, 2683, 2684, 2685, 2686, 2687]\n",
            "[2263, 2296, 2297, 1725, 1726, 1727, 1728, 1729, 2688, 2689, 2690, 2691, 2692]\n",
            "[1730, 1731, 1732, 1733, 1734, 2693, 2694, 2695, 2696, 2697]\n",
            "[1735, 1736, 1737, 1738, 1739, 2698, 2699, 2700, 2701, 2702]\n",
            "[1740, 1741, 1742, 1743, 1744, 2703, 2704, 2705, 2706, 2707]\n",
            "[1745, 1746, 1747, 1748, 1749, 2708, 2709, 2710, 2711, 2712]\n",
            "[1750, 1751, 1752, 1753, 1754, 2713, 2714, 2715, 2716, 2717]\n",
            "[1755, 1756, 1757, 1758, 1759, 2718, 2719, 2720, 2721, 2722]\n",
            "[1760, 1761, 1762, 1763, 1764, 2723, 2724, 2725, 2726, 2727]\n",
            "[1765, 1766, 1767, 1768, 1769, 2728, 2729, 2730, 2731, 2732]\n",
            "[1770, 1771, 1772, 1773, 1774, 2733, 2734, 2735, 2736, 2737]\n",
            "[1775, 1776, 1777, 1778, 1779, 2738, 2739, 2740, 2741, 2742]\n",
            "[1780, 1781, 1782, 1783, 1784, 2743, 2744, 2745, 2746, 2747]\n",
            "[1785, 1786, 1787, 1788, 1789, 2748, 2749, 2750, 2751, 2752]\n",
            "[1790, 1791, 1792, 1793, 1794, 2753, 2754, 2755, 2756, 2757]\n",
            "[1795, 1796, 1797, 1798, 1799, 2758, 2759, 2760, 2761, 2762]\n",
            "[1800, 1801, 1802, 1803, 1804, 2763, 2764, 2765, 2766, 2767]\n",
            "[1805, 1806, 1807, 1808, 1809, 2768, 2769, 2770, 2771, 2772]\n",
            "[1810, 1811, 1812, 1813, 1814, 2773, 2774, 2775, 2776, 2777]\n",
            "[1815, 1816, 1817, 1818, 1819, 2778, 2779, 2780, 2781, 2782]\n",
            "[1820, 1821, 1822, 1823, 1824, 2783, 2784, 2785, 2786, 2787]\n",
            "[1825, 1826, 1827, 1828, 1829, 2788, 2789, 2790, 2791, 2792]\n",
            "[1830, 1831, 1832, 1833, 1834, 2793, 2794, 2795, 2796, 2797]\n",
            "[1835, 1836, 1837, 1838, 1839, 2798, 2799, 2800, 2801, 2802]\n",
            "[1840, 1841, 1842, 1843, 1844, 2803, 2804, 2805, 2806, 2807]\n",
            "[1845, 1846, 1847, 1848, 1849, 2808, 2809, 2810, 2811, 2812]\n",
            "[1850, 1851, 1852, 1853, 1854, 2813, 2814, 2815, 2816, 2817]\n",
            "[1855, 1856, 1857, 1858, 1859, 2818, 2819, 2820, 2821, 2822]\n",
            "[1860, 1861, 1862, 1863, 1864, 2823, 2824, 2825, 2826, 2827]\n",
            "[1865, 1866, 1867, 1868, 1869, 2828, 2829, 2830, 2982, 2983]\n",
            "[1870, 1871, 1872, 1873, 1874, 2984, 2985, 2986, 2987, 2988]\n",
            "[1875, 1876, 1877, 1878, 1879, 2989, 2990, 2991, 2992, 2993]\n",
            "[1880, 1881, 1882, 1883, 1884, 2994, 2995, 2996, 2997, 2998]\n",
            "[1885, 1886, 1887, 1888, 1889, 2999, 3000, 3001, 3002, 3003]\n",
            "[1890, 1891, 1892, 1893, 1894, 3004, 3005, 3006, 3007, 3008]\n",
            "[1895, 1896, 1897, 1898, 1899, 3009, 3010, 3011, 3012, 3013]\n",
            "[1900, 1901, 1902, 1903, 1904, 3014, 3015, 3016, 3017, 3018]\n",
            "[1905, 1906, 1907, 1908, 1909, 3019, 3020, 3021, 3022, 3023]\n",
            "[1910, 1911, 1912, 1913, 1914, 3024, 3025, 3026, 3027, 3028]\n",
            "[1915, 1916, 1917, 1918, 1919, 3029, 3030, 3031, 3032, 3033]\n",
            "[1920, 1921, 1922, 1923, 1924, 3034, 3035, 3036, 3037, 3038]\n",
            "[1925, 1926, 1927, 1928, 1929, 3039, 3040, 3041, 3042, 3043]\n",
            "[1930, 1931, 1932, 1933, 1934, 3044, 3045, 3046, 3047, 3048]\n",
            "[1935, 1936, 1937, 1938, 1939, 3049, 3050, 3051, 3052, 3053]\n",
            "[1940, 1941, 1942, 1943, 1944, 3054, 3055, 3056, 3057, 3058]\n",
            "[1945, 1946, 1947, 1948, 1949, 3059, 3060, 3061, 3062, 3063]\n",
            "[1950, 1951, 1952, 1953, 1954]\n",
            "[1955, 1956, 1957, 1958, 1959]\n",
            "[1960, 1961, 1962, 1963, 1964]\n",
            "[1965, 1966, 1967, 1968, 1969]\n",
            "[1970, 1971, 1972, 1973, 1974]\n",
            "[1975, 1976, 1977, 1978, 1979]\n",
            "[1980, 1981, 1982, 1983, 1984]\n",
            "[1985, 1986, 1987, 1988, 1989]\n",
            "[1990, 1991, 1992, 1993, 1994]\n",
            "[1995, 1996, 1997, 1998, 1999]\n",
            "[2000, 2001, 2002, 2003, 2004]\n",
            "[2005, 2006, 2007, 2008, 2009]\n",
            "[2010, 2011, 2012, 2013, 2014]\n",
            "[2015, 2016, 2017, 2018, 2019]\n",
            "[2020, 2021, 2022, 2023, 2024]\n",
            "[2025, 2026, 2027, 2028, 2029]\n",
            "[2030, 2031, 2032, 2033, 2034]\n",
            "[2035, 2036, 2037, 2038, 2039]\n",
            "[2040, 2041, 2042, 2043, 2044]\n",
            "[2045, 2046, 2047, 2048, 2049]\n",
            "[2050, 2051, 2052, 2053, 2054]\n",
            "[2055, 2056, 2057, 2058, 2059]\n",
            "[2060, 2061, 2062, 2063, 2064]\n",
            "[2065, 2066, 2067, 2068, 2069]\n",
            "[2070, 2071, 2072, 2073, 2074]\n",
            "[2075, 2076, 2077, 2078, 2079]\n",
            "[2080, 2081, 2082, 2083, 2084]\n",
            "[2085, 2086, 2087, 2088, 2089]\n",
            "[2090, 2091, 2092, 2093, 2094]\n",
            "[2095, 2096, 2097, 2098, 2099]\n",
            "[2100, 2101, 2102, 2103, 2104]\n",
            "[2105, 2106, 2107, 2108, 2109]\n",
            "[2110, 2111, 2112, 2113, 2114]\n",
            "[2115, 2116, 2117, 2118, 2119]\n",
            "[2120, 2121, 2122, 2123, 2124]\n",
            "[2125, 2126, 2127, 2128, 2129]\n",
            "[2130, 2131, 2132, 2133, 2134]\n",
            "[2135, 2136, 2137, 2138, 2139]\n",
            "[2140, 2141, 2142, 2143, 2144]\n",
            "[2145, 2146, 2147, 2148, 2149]\n",
            "[2150, 2151, 2152, 2153, 2154]\n",
            "[2155, 2156, 2157, 2158, 2159]\n",
            "[2160, 2161, 2162, 2163, 2164]\n",
            "[2165, 2166, 2167, 2168, 2169]\n",
            "[2170, 2171, 2172, 2173, 2174]\n",
            "[2175, 2176, 2177, 2178, 2179]\n",
            "[2180, 2181, 2182, 2183, 2184]\n",
            "[2185, 2186, 2187, 2188, 2189]\n",
            "[2190, 2191, 2192, 2193, 2194]\n",
            "[2195, 2196, 2197, 2198, 2199]\n",
            "[2200, 2201, 2202, 2203, 2204]\n",
            "[2205, 2206, 2207, 2208, 2209]\n",
            "[2210, 2211, 2212, 2213, 2214]\n",
            "[2215, 2216, 2217, 2218, 2219]\n",
            "[2220, 2221, 2222, 2223, 2224]\n",
            "[2225, 2226, 2227, 2228, 2229]\n",
            "[2230, 2231, 2232, 2233, 2234]\n",
            "[2235, 2236, 2237, 2238, 2239]\n",
            "[2240, 2241, 2242, 2243, 2244]\n",
            "[2245, 2246, 2247, 2248, 2249]\n",
            "[2250, 2251, 2252, 2253, 2254]\n",
            "[2255, 2256, 2257, 2258, 2259]\n",
            "[2260, 2261, 2262, 2264, 2265]\n",
            "[2266, 2267, 2268, 2269, 2270]\n",
            "[2271, 2272, 2273, 2274, 2275]\n",
            "[2276, 2277, 2278, 2279, 2280]\n",
            "[2281, 2282, 2283, 2284, 2285]\n",
            "[2286, 2287, 2288, 2289, 2290]\n",
            "[2291, 2292, 2293, 2294, 2295]\n",
            "[2831, 2832, 2833, 2834, 2835]\n",
            "[2836, 2837, 2838, 2839, 2840]\n",
            "[2841, 2842, 2843, 2844, 2845]\n",
            "[2846, 2847, 2848, 2849, 2850]\n",
            "[2851, 2852, 2853, 2854, 2855]\n",
            "[2856, 2857, 2858, 2859, 2860]\n",
            "[2861, 2862, 2863, 2864, 2865]\n",
            "[2866, 2867, 2868, 2869, 2870]\n",
            "[2871, 2872, 2873, 2874, 2875]\n",
            "[2876, 2877, 2878, 2879, 2880]\n",
            "[2881, 2882, 2883, 2884, 2885]\n",
            "[2886, 2887, 2888, 2889, 2890]\n",
            "[2891, 2892, 2893, 2894, 2895]\n",
            "[2896, 2897, 2898, 2899, 2900]\n",
            "[2901, 2902, 2903, 2904, 2905]\n",
            "[2906, 2907, 2908, 2909, 2910]\n",
            "[2911, 2912, 2913, 2914, 2915]\n",
            "[2916, 2917, 2918, 2919, 2920]\n",
            "[2921, 2922, 2923, 2924, 2925]\n",
            "[2926, 2927, 2928, 2929, 2930]\n",
            "[2931, 2932, 2933, 2934, 2935]\n",
            "[2936, 2937, 2938, 2939, 2940]\n",
            "[2941, 2942, 2943, 2944, 2945]\n",
            "[2946, 2947, 2948, 2949, 2950]\n",
            "[2951, 2952, 2953, 2954, 2955]\n",
            "[2956, 2957, 2958, 2959, 2960]\n",
            "[2961, 2962, 2963, 2964, 2965]\n",
            "[2966, 2967, 2968, 2969, 2970]\n",
            "[2971, 2972, 2973, 2974, 2975]\n",
            "[2976, 2977, 2978, 2979, 2980]\n",
            "[2981]\n"
          ],
          "name": "stdout"
        }
      ]
    },
    {
      "cell_type": "code",
      "metadata": {
        "id": "k8BXHX6eGwow",
        "colab_type": "code",
        "colab": {
          "base_uri": "https://localhost:8080/",
          "height": 97
        },
        "outputId": "67f5c0d5-10b9-4668-c323-c300ecbb135d"
      },
      "source": [
        "df[df.index == 648]"
      ],
      "execution_count": 19,
      "outputs": [
        {
          "output_type": "execute_result",
          "data": {
            "text/html": [
              "<div>\n",
              "<style scoped>\n",
              "    .dataframe tbody tr th:only-of-type {\n",
              "        vertical-align: middle;\n",
              "    }\n",
              "\n",
              "    .dataframe tbody tr th {\n",
              "        vertical-align: top;\n",
              "    }\n",
              "\n",
              "    .dataframe thead th {\n",
              "        text-align: right;\n",
              "    }\n",
              "</style>\n",
              "<table border=\"1\" class=\"dataframe\">\n",
              "  <thead>\n",
              "    <tr style=\"text-align: right;\">\n",
              "      <th></th>\n",
              "      <th>pid</th>\n",
              "      <th>mri_min</th>\n",
              "      <th>mri_max</th>\n",
              "      <th>mri_median</th>\n",
              "      <th>mri_1q</th>\n",
              "      <th>mri_3q</th>\n",
              "      <th>t_min</th>\n",
              "      <th>t_max</th>\n",
              "      <th>t_median</th>\n",
              "      <th>t_1q</th>\n",
              "      <th>t_3q</th>\n",
              "      <th>tumor_size</th>\n",
              "      <th>file_name</th>\n",
              "      <th>label</th>\n",
              "      <th>square_shape</th>\n",
              "    </tr>\n",
              "  </thead>\n",
              "  <tbody>\n",
              "    <tr>\n",
              "      <th>648</th>\n",
              "      <td>57</td>\n",
              "      <td>0.0</td>\n",
              "      <td>1.0</td>\n",
              "      <td>0.235238</td>\n",
              "      <td>0.022857</td>\n",
              "      <td>0.318095</td>\n",
              "      <td>0.04</td>\n",
              "      <td>0.527143</td>\n",
              "      <td>0.388571</td>\n",
              "      <td>0.350952</td>\n",
              "      <td>0.424286</td>\n",
              "      <td>(10774,)</td>\n",
              "      <td>683.mat</td>\n",
              "      <td>1</td>\n",
              "      <td>103.797881</td>\n",
              "    </tr>\n",
              "  </tbody>\n",
              "</table>\n",
              "</div>"
            ],
            "text/plain": [
              "     pid  mri_min  mri_max  ...  file_name  label  square_shape\n",
              "648   57      0.0      1.0  ...    683.mat      1    103.797881\n",
              "\n",
              "[1 rows x 15 columns]"
            ]
          },
          "metadata": {
            "tags": []
          },
          "execution_count": 19
        }
      ]
    },
    {
      "cell_type": "code",
      "metadata": {
        "id": "VoWFHNR-JqyX",
        "colab_type": "code",
        "colab": {
          "base_uri": "https://localhost:8080/",
          "height": 101
        },
        "outputId": "b47c9f52-bd84-4308-b15a-9b478cb6bd2d"
      },
      "source": [
        "for i in [1,2,3,4,5]:\n",
        "  print(i)"
      ],
      "execution_count": 20,
      "outputs": [
        {
          "output_type": "stream",
          "text": [
            "1\n",
            "2\n",
            "3\n",
            "4\n",
            "5\n"
          ],
          "name": "stdout"
        }
      ]
    },
    {
      "cell_type": "code",
      "metadata": {
        "id": "kexzUUlVk3pi",
        "colab_type": "code",
        "colab": {
          "base_uri": "https://localhost:8080/",
          "height": 252
        },
        "outputId": "3bf19375-b77f-498f-9764-ab41e724dadb"
      },
      "source": [
        "def returnABatch(df,batch_size):\n",
        "  #returns a balanced label mri images\n",
        "  index_list = returnBatchIndices(df,batch_size)\n",
        "  #print(\"index list\",len(list(index_list)))\n",
        "  \n",
        "  for j in index_list:\n",
        "    batch_images=[]\n",
        "    batch_labels=[]\n",
        "    print(\"j\",j)\n",
        "    for i in j:\n",
        "      print(\"i\",i)\n",
        "      batch_images.append(retrieveImage(list(df[df.index == i]['file_name'])[0]))\n",
        "      batch_labels.append(df[df.index == i]['label'].tolist()[0])\n",
        "      print(\"Batches :\",len(batch_images),len(batch_labels))\n",
        "    yield batch_images, batch_labels\n",
        "\n",
        "for i in returnABatch(df.reset_index(),2)  :\n",
        "  print(len(i),len(i[1]))\n",
        "  break"
      ],
      "execution_count": 30,
      "outputs": [
        {
          "output_type": "stream",
          "text": [
            "j [0, 1, 122, 124, 544, 677]\n",
            "i 0\n",
            "Batches : 1 1\n",
            "i 1\n",
            "Batches : 2 2\n",
            "i 122\n",
            "Batches : 3 3\n",
            "i 124\n",
            "Batches : 4 4\n",
            "i 544\n",
            "Batches : 5 5\n",
            "i 677\n",
            "Batches : 6 6\n",
            "2 6\n"
          ],
          "name": "stdout"
        }
      ]
    },
    {
      "cell_type": "markdown",
      "metadata": {
        "id": "TFyXNbgckbCt",
        "colab_type": "text"
      },
      "source": [
        "#Model Building\n",
        "* CNN Approach using Tensorflow keras"
      ]
    },
    {
      "cell_type": "markdown",
      "metadata": {
        "id": "2qfFq4-MXHXs",
        "colab_type": "text"
      },
      "source": [
        "# Model Testing\n",
        "* is the model bias for 256 size images ?\n",
        "* is there any imbalance in 256 size images ?\n",
        "* converting 512x512 to 256x256 size would definitely speed up the process but would it impact the accuracy ?\n",
        "* is the model has better accuracy for any type of tumor class? (as we have imbalanced set ?"
      ]
    },
    {
      "cell_type": "code",
      "metadata": {
        "id": "GRrI8_S4_pkT",
        "colab_type": "code",
        "colab": {}
      },
      "source": [
        ""
      ],
      "execution_count": 0,
      "outputs": []
    }
  ]
}