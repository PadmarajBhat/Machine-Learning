{
  "nbformat": 4,
  "nbformat_minor": 0,
  "metadata": {
    "colab": {
      "name": "BrainTumorClassification.ipynb",
      "provenance": [],
      "toc_visible": true,
      "include_colab_link": true
    },
    "kernelspec": {
      "name": "python3",
      "display_name": "Python 3"
    }
  },
  "cells": [
    {
      "cell_type": "markdown",
      "metadata": {
        "id": "view-in-github",
        "colab_type": "text"
      },
      "source": [
        "<a href=\"https://colab.research.google.com/github/PadmarajBhat/Machine-Learning/blob/master/BrainTumorClassification.ipynb\" target=\"_parent\"><img src=\"https://colab.research.google.com/assets/colab-badge.svg\" alt=\"Open In Colab\"/></a>"
      ]
    },
    {
      "cell_type": "markdown",
      "metadata": {
        "id": "uTCyCln9DwLS",
        "colab_type": "text"
      },
      "source": [
        "# Detection of 3 Brain Tumors (Meningioma, Glioma and Pituitary) in T1-weighted contrast enhanced images\n",
        "\n",
        "### - Revisitng the Udacity Capstone Project in pursuit of better accuracy\n",
        "\n"
      ]
    },
    {
      "cell_type": "markdown",
      "metadata": {
        "id": "ExaNYOAl3nSH",
        "colab_type": "text"
      },
      "source": [
        "# What is the problem statement?\n",
        "  * predict the tumor class given only MRI image\n",
        "  * OR predict the tumor class when both MRI and Tumor region is given !!!\n",
        "      * tumor region is identified and put in input dataset by experts\n",
        "          * can we have Image Segmentation problem ?\n",
        "\n",
        "\n",
        "  * I think this is the order of problem from easy level to difficult level\n",
        "    * Identify the tumor class from raw MRI image (here accuracy may be low)\n",
        "    * Identify the tumor class from raw MRI image + tumor region identified (here accuracy may be better)\n",
        "    * Auto detect the tumor segment in a MRI image and classify the tumor (ideal application for a radiologist)\n",
        "\n",
        "    Let us try all the 3 !!!"
      ]
    },
    {
      "cell_type": "markdown",
      "metadata": {
        "id": "47aIRBi1lPdJ",
        "colab_type": "text"
      },
      "source": [
        "# Import Packages\n",
        "* read the input MRI images (.mat) files through ***h5py***\n",
        "* ***pandas*** for data analysis and preprocessing\n",
        "* ***tensorflow*** for modelling and predicting"
      ]
    },
    {
      "cell_type": "code",
      "metadata": {
        "id": "8XamypXiCEdS",
        "colab_type": "code",
        "colab": {}
      },
      "source": [
        "import os\n",
        "import zipfile\n",
        "import h5py\n",
        "import numpy as np\n",
        "from matplotlib import pyplot as plt\n",
        "import pandas as pd\n",
        "\n",
        "from sklearn.preprocessing import MinMaxScaler"
      ],
      "execution_count": 0,
      "outputs": []
    },
    {
      "cell_type": "markdown",
      "metadata": {
        "id": "68mR7i5xla0f",
        "colab_type": "text"
      },
      "source": [
        "# Load Data\n",
        "* Mount Google Drive\n",
        "* Unzip it in colab disk\n",
        "* load mat attributes to list of tuples\n",
        "* create a panda dataframe for analysis\n",
        "\n",
        "##### Issues Faced:\n",
        "1. loading to panda with image took half(6GB) of RAM\n",
        "* loading tumor along with mri image as in mat file crashed the colab\n",
        "  * Solution: let us load image but save only 5 point summary for both mri image and tumor\n",
        "\n",
        "2. How do we scale/normalize the data?\n",
        "  * would tumor region have 0 in it ?\n",
        "    * only way to know is through the value present in the binary indicator == 1\n",
        "        * implementation through 2 for loops takes forever !!!\n",
        "          * need to implement throuhg np.where\n",
        "        \n",
        "\n",
        "3. Some images are less than 512\n",
        "    * pad the difference with 0s.\n",
        "    \n",
        "4. Should tumor image be scaled between 0 -1? For now, brightness values are relative to that of the whole image to which it belongs to."
      ]
    },
    {
      "cell_type": "code",
      "metadata": {
        "id": "6trYXPZPJ54V",
        "colab_type": "code",
        "outputId": "44ea544c-5b9a-4080-c818-288f273840be",
        "colab": {
          "base_uri": "https://localhost:8080/",
          "height": 34
        }
      },
      "source": [
        "from google.colab import drive\n",
        "drive.mount('/content/drive')"
      ],
      "execution_count": 0,
      "outputs": [
        {
          "output_type": "stream",
          "text": [
            "Drive already mounted at /content/drive; to attempt to forcibly remount, call drive.mount(\"/content/drive\", force_remount=True).\n"
          ],
          "name": "stdout"
        }
      ]
    },
    {
      "cell_type": "code",
      "metadata": {
        "id": "NHDagZs8KQ_K",
        "colab_type": "code",
        "outputId": "4f46d4b8-231c-4e35-91e9-fcabf8608cdd",
        "colab": {
          "base_uri": "https://localhost:8080/",
          "height": 67
        }
      },
      "source": [
        "!ls /content/drive/'My Drive'/1512427"
      ],
      "execution_count": 0,
      "outputs": [
        {
          "output_type": "stream",
          "text": [
            "brainTumorDataPublic_1533-2298.zip  brainTumorDataPublic_767-1532.zip\n",
            "brainTumorDataPublic_1-766.zip\t    cvind.mat\n",
            "brainTumorDataPublic_2299-3064.zip  README.txt\n"
          ],
          "name": "stdout"
        }
      ]
    },
    {
      "cell_type": "code",
      "metadata": {
        "id": "3ND1wWEFMf4a",
        "colab_type": "code",
        "outputId": "b72100df-ef35-4f1c-fa6a-4876b4a3d42d",
        "colab": {
          "base_uri": "https://localhost:8080/",
          "height": 34
        }
      },
      "source": [
        "!ls /content/drive/'My Drive'/1512427/brainTumorDataPublic_1-766.zip"
      ],
      "execution_count": 0,
      "outputs": [
        {
          "output_type": "stream",
          "text": [
            "'/content/drive/My Drive/1512427/brainTumorDataPublic_1-766.zip'\n"
          ],
          "name": "stdout"
        }
      ]
    },
    {
      "cell_type": "code",
      "metadata": {
        "id": "VoGqScRpu7F5",
        "colab_type": "code",
        "colab": {}
      },
      "source": [
        "def retrieveImage(file_name):\n",
        "  f = h5py.File(file_name,'r')\n",
        "  mri_image = np.array(f['cjdata']['image'],dtype=np.float128)\n",
        "  if mri_image.shape[0] < 512:\n",
        "      print(\"Shape of the image : \", mri_image.shape)\n",
        "      mri_image = np.pad(mri_image,(512 - mri_image.shape[0])//2,'constant',constant_values=0)\n",
        "  return mri_image/mri_image.max()"
      ],
      "execution_count": 0,
      "outputs": []
    },
    {
      "cell_type": "code",
      "metadata": {
        "id": "ZPUvYbhjEzet",
        "colab_type": "code",
        "colab": {}
      },
      "source": [
        "def return_imageInfo_from_mat_file(file_name):\n",
        "    f = h5py.File(file_name,'r')\n",
        "\n",
        "    mri_image = np.array(f['cjdata']['image'],dtype=np.float128)\n",
        "    #scaler = MinMaxScaler(feature_range=(1,2))\n",
        "    #mri_image = scaler.fit(mri_image)\n",
        "    mri_image = mri_image/mri_image.max()\n",
        "\n",
        "    if mri_image.shape[0] < 512:\n",
        "      print(\"Shape of the image : \", mri_image.shape)\n",
        "      mri_image = np.pad(mri_image,(512 - mri_image.shape[0])//2,'constant',constant_values=0)\n",
        "    \n",
        "    temp_mri_image = np.copy(mri_image)\n",
        "    temp_mri_image[temp_mri_image == 0 ] = 2\n",
        "\n",
        "    mri_quartiles = np.percentile(mri_image[mri_image > 0], [25, 50, 75])\n",
        "\n",
        "    tumor_image = np.array(f['cjdata']['tumorMask'], dtype=np.float128)\n",
        "    if tumor_image.shape[0] < 512:\n",
        "      print(\"Shape of the tumor image : \", tumor_image.shape)\n",
        "      tumor_image = np.pad(tumor_image,(512 - tumor_image.shape[0])//2,'constant',constant_values=0)\n",
        "    \n",
        "    tumor_image = temp_mri_image * tumor_image\n",
        "    tumor_image = tumor_image[tumor_image > 0]\n",
        "    tumor_image[tumor_image == 2] = 0\n",
        "\n",
        "    '''tumor_array =[]\n",
        "    for i in range(0,512):\n",
        "      for j in range(0,512):\n",
        "        if tumor_image[i][j]:\n",
        "          tumor_array.append(mri_image[i][j])\n",
        "\n",
        "    tumor_image = np.array(tumor_array, dtype=np.float)'''\n",
        "\n",
        "    tumor_quartiles = np.percentile(tumor_image, [25, 50, 75])\n",
        "\n",
        "    return np.array(f['cjdata']['PID'],dtype=np.int)[0][0] \\\n",
        "            ,mri_image.min() \\\n",
        "            ,mri_image.max() \\\n",
        "            ,mri_quartiles[1] \\\n",
        "            ,mri_quartiles[0] \\\n",
        "            ,mri_quartiles[2] \\\n",
        "            ,tumor_image.min() \\\n",
        "            ,tumor_image.max() \\\n",
        "            ,tumor_quartiles[1] \\\n",
        "            ,tumor_quartiles[0] \\\n",
        "            ,tumor_quartiles[2] \\\n",
        "            ,tumor_image.shape \\\n",
        "            ,file_name\\\n",
        "            ,np.array(f['cjdata']['label'], dtype=np.int)[0][0] "
      ],
      "execution_count": 0,
      "outputs": []
    },
    {
      "cell_type": "code",
      "metadata": {
        "id": "4h9X8MvPNy50",
        "colab_type": "code",
        "colab": {}
      },
      "source": [
        "def loadDf():\n",
        "  patients_details = []\n",
        "  for root, dirs, files in os.walk(\"/content/drive/My Drive/1512427/\", topdown = False):\n",
        "    for f in files:\n",
        "      if \".zip\" in f:\n",
        "          file = zipfile.ZipFile(root+f, \"r\")\n",
        "          for name in file.namelist():\n",
        "            file.extract(name,\".\")\n",
        "            patients_details.append(return_imageInfo_from_mat_file(name))\n",
        "          #break\n",
        "      #break\n",
        "  mri_col_names = [\"mri_min\",\"mri_max\",\"mri_median\",\"mri_1q\", \"mri_3q\"]\n",
        "  tumor_col_names = [\"t_min\",\"t_max\",\"t_median\",\"t_1q\",\"t_3q\",\"tumor_size\"]\n",
        "  col_names = [\"pid\"] + mri_col_names + tumor_col_names+ [\"file_name\",\"label\"]\n",
        "  return pd.DataFrame(patients_details,columns=col_names)\n"
      ],
      "execution_count": 0,
      "outputs": []
    },
    {
      "cell_type": "code",
      "metadata": {
        "id": "LCSo34a4Vlta",
        "colab_type": "code",
        "outputId": "0b6f41be-8e7b-4cec-9684-7b765ed1769f",
        "colab": {
          "base_uri": "https://localhost:8080/",
          "height": 1000
        }
      },
      "source": [
        "tumor_names = [\"\",\"meningioma\",\"glioma\",\"pituitary\"]\n",
        "df = loadDf()\n",
        "df[\"square_shape\"] = df.tumor_size.apply(lambda x: np.sqrt(x[0]))\n",
        "df.sample(20)"
      ],
      "execution_count": 0,
      "outputs": [
        {
          "output_type": "stream",
          "text": [
            "Shape of the image :  (256, 256)\n",
            "Shape of the tumor image :  (256, 256)\n",
            "Shape of the image :  (256, 256)\n",
            "Shape of the tumor image :  (256, 256)\n",
            "Shape of the image :  (256, 256)\n",
            "Shape of the tumor image :  (256, 256)\n",
            "Shape of the image :  (256, 256)\n",
            "Shape of the tumor image :  (256, 256)\n",
            "Shape of the image :  (256, 256)\n",
            "Shape of the tumor image :  (256, 256)\n",
            "Shape of the image :  (256, 256)\n",
            "Shape of the tumor image :  (256, 256)\n",
            "Shape of the image :  (256, 256)\n",
            "Shape of the tumor image :  (256, 256)\n",
            "Shape of the image :  (256, 256)\n",
            "Shape of the tumor image :  (256, 256)\n",
            "Shape of the image :  (256, 256)\n",
            "Shape of the tumor image :  (256, 256)\n",
            "Shape of the image :  (256, 256)\n",
            "Shape of the tumor image :  (256, 256)\n",
            "Shape of the image :  (256, 256)\n",
            "Shape of the tumor image :  (256, 256)\n",
            "Shape of the image :  (256, 256)\n",
            "Shape of the tumor image :  (256, 256)\n",
            "Shape of the image :  (256, 256)\n",
            "Shape of the tumor image :  (256, 256)\n",
            "Shape of the image :  (256, 256)\n",
            "Shape of the tumor image :  (256, 256)\n",
            "Shape of the image :  (256, 256)\n",
            "Shape of the tumor image :  (256, 256)\n"
          ],
          "name": "stdout"
        },
        {
          "output_type": "execute_result",
          "data": {
            "text/html": [
              "<div>\n",
              "<style scoped>\n",
              "    .dataframe tbody tr th:only-of-type {\n",
              "        vertical-align: middle;\n",
              "    }\n",
              "\n",
              "    .dataframe tbody tr th {\n",
              "        vertical-align: top;\n",
              "    }\n",
              "\n",
              "    .dataframe thead th {\n",
              "        text-align: right;\n",
              "    }\n",
              "</style>\n",
              "<table border=\"1\" class=\"dataframe\">\n",
              "  <thead>\n",
              "    <tr style=\"text-align: right;\">\n",
              "      <th></th>\n",
              "      <th>pid</th>\n",
              "      <th>mri_min</th>\n",
              "      <th>mri_max</th>\n",
              "      <th>mri_median</th>\n",
              "      <th>mri_1q</th>\n",
              "      <th>mri_3q</th>\n",
              "      <th>t_min</th>\n",
              "      <th>t_max</th>\n",
              "      <th>t_median</th>\n",
              "      <th>t_1q</th>\n",
              "      <th>t_3q</th>\n",
              "      <th>tumor_size</th>\n",
              "      <th>file_name</th>\n",
              "      <th>label</th>\n",
              "      <th>square_shape</th>\n",
              "    </tr>\n",
              "  </thead>\n",
              "  <tbody>\n",
              "    <tr>\n",
              "      <th>2808</th>\n",
              "      <td>49</td>\n",
              "      <td>0.0</td>\n",
              "      <td>1.0</td>\n",
              "      <td>0.268384</td>\n",
              "      <td>0.041545</td>\n",
              "      <td>0.364769</td>\n",
              "      <td>0.184877</td>\n",
              "      <td>0.997923</td>\n",
              "      <td>0.491899</td>\n",
              "      <td>0.433527</td>\n",
              "      <td>0.547154</td>\n",
              "      <td>(2235,)</td>\n",
              "      <td>1510.mat</td>\n",
              "      <td>3</td>\n",
              "      <td>47.275787</td>\n",
              "    </tr>\n",
              "    <tr>\n",
              "      <th>949</th>\n",
              "      <td>49</td>\n",
              "      <td>0.0</td>\n",
              "      <td>1.0</td>\n",
              "      <td>0.207055</td>\n",
              "      <td>0.053681</td>\n",
              "      <td>0.299080</td>\n",
              "      <td>0.093558</td>\n",
              "      <td>0.578221</td>\n",
              "      <td>0.329755</td>\n",
              "      <td>0.280675</td>\n",
              "      <td>0.374233</td>\n",
              "      <td>(1833,)</td>\n",
              "      <td>1716.mat</td>\n",
              "      <td>3</td>\n",
              "      <td>42.813549</td>\n",
              "    </tr>\n",
              "    <tr>\n",
              "      <th>1113</th>\n",
              "      <td>77</td>\n",
              "      <td>0.0</td>\n",
              "      <td>1.0</td>\n",
              "      <td>0.253026</td>\n",
              "      <td>0.014601</td>\n",
              "      <td>0.297983</td>\n",
              "      <td>0.239577</td>\n",
              "      <td>0.566955</td>\n",
              "      <td>0.357157</td>\n",
              "      <td>0.314121</td>\n",
              "      <td>0.402882</td>\n",
              "      <td>(1073,)</td>\n",
              "      <td>1880.mat</td>\n",
              "      <td>2</td>\n",
              "      <td>32.756679</td>\n",
              "    </tr>\n",
              "    <tr>\n",
              "      <th>2354</th>\n",
              "      <td>49</td>\n",
              "      <td>0.0</td>\n",
              "      <td>1.0</td>\n",
              "      <td>0.241641</td>\n",
              "      <td>0.034954</td>\n",
              "      <td>0.340426</td>\n",
              "      <td>0.025836</td>\n",
              "      <td>0.735562</td>\n",
              "      <td>0.396657</td>\n",
              "      <td>0.281155</td>\n",
              "      <td>0.512158</td>\n",
              "      <td>(5154,)</td>\n",
              "      <td>1056.mat</td>\n",
              "      <td>3</td>\n",
              "      <td>71.791364</td>\n",
              "    </tr>\n",
              "    <tr>\n",
              "      <th>1072</th>\n",
              "      <td>57</td>\n",
              "      <td>0.0</td>\n",
              "      <td>1.0</td>\n",
              "      <td>0.254386</td>\n",
              "      <td>0.054625</td>\n",
              "      <td>0.325758</td>\n",
              "      <td>0.188596</td>\n",
              "      <td>0.652711</td>\n",
              "      <td>0.460526</td>\n",
              "      <td>0.427033</td>\n",
              "      <td>0.490829</td>\n",
              "      <td>(2289,)</td>\n",
              "      <td>1839.mat</td>\n",
              "      <td>3</td>\n",
              "      <td>47.843495</td>\n",
              "    </tr>\n",
              "    <tr>\n",
              "      <th>738</th>\n",
              "      <td>49</td>\n",
              "      <td>0.0</td>\n",
              "      <td>1.0</td>\n",
              "      <td>0.171114</td>\n",
              "      <td>0.016518</td>\n",
              "      <td>0.321898</td>\n",
              "      <td>0.149513</td>\n",
              "      <td>0.625582</td>\n",
              "      <td>0.331639</td>\n",
              "      <td>0.283778</td>\n",
              "      <td>0.402372</td>\n",
              "      <td>(3682,)</td>\n",
              "      <td>764.mat</td>\n",
              "      <td>2</td>\n",
              "      <td>60.679486</td>\n",
              "    </tr>\n",
              "    <tr>\n",
              "      <th>1150</th>\n",
              "      <td>77</td>\n",
              "      <td>0.0</td>\n",
              "      <td>1.0</td>\n",
              "      <td>0.187725</td>\n",
              "      <td>0.009415</td>\n",
              "      <td>0.219342</td>\n",
              "      <td>0.150878</td>\n",
              "      <td>0.370452</td>\n",
              "      <td>0.228990</td>\n",
              "      <td>0.208299</td>\n",
              "      <td>0.249332</td>\n",
              "      <td>(6827,)</td>\n",
              "      <td>1917.mat</td>\n",
              "      <td>2</td>\n",
              "      <td>82.625662</td>\n",
              "    </tr>\n",
              "    <tr>\n",
              "      <th>1465</th>\n",
              "      <td>77</td>\n",
              "      <td>0.0</td>\n",
              "      <td>1.0</td>\n",
              "      <td>0.186025</td>\n",
              "      <td>0.014731</td>\n",
              "      <td>0.218697</td>\n",
              "      <td>0.110104</td>\n",
              "      <td>0.588669</td>\n",
              "      <td>0.218130</td>\n",
              "      <td>0.180548</td>\n",
              "      <td>0.313881</td>\n",
              "      <td>(7653,)</td>\n",
              "      <td>2232.mat</td>\n",
              "      <td>2</td>\n",
              "      <td>87.481427</td>\n",
              "    </tr>\n",
              "    <tr>\n",
              "      <th>1104</th>\n",
              "      <td>77</td>\n",
              "      <td>0.0</td>\n",
              "      <td>1.0</td>\n",
              "      <td>0.193288</td>\n",
              "      <td>0.013281</td>\n",
              "      <td>0.293252</td>\n",
              "      <td>0.148062</td>\n",
              "      <td>0.738335</td>\n",
              "      <td>0.209978</td>\n",
              "      <td>0.199569</td>\n",
              "      <td>0.317570</td>\n",
              "      <td>(7419,)</td>\n",
              "      <td>1871.mat</td>\n",
              "      <td>2</td>\n",
              "      <td>86.133617</td>\n",
              "    </tr>\n",
              "    <tr>\n",
              "      <th>3016</th>\n",
              "      <td>49</td>\n",
              "      <td>0.0</td>\n",
              "      <td>1.0</td>\n",
              "      <td>0.151163</td>\n",
              "      <td>0.022287</td>\n",
              "      <td>0.240310</td>\n",
              "      <td>0.019380</td>\n",
              "      <td>0.505814</td>\n",
              "      <td>0.222868</td>\n",
              "      <td>0.171512</td>\n",
              "      <td>0.323643</td>\n",
              "      <td>(1472,)</td>\n",
              "      <td>952.mat</td>\n",
              "      <td>3</td>\n",
              "      <td>38.366652</td>\n",
              "    </tr>\n",
              "    <tr>\n",
              "      <th>1364</th>\n",
              "      <td>77</td>\n",
              "      <td>0.0</td>\n",
              "      <td>1.0</td>\n",
              "      <td>0.150643</td>\n",
              "      <td>0.008636</td>\n",
              "      <td>0.209845</td>\n",
              "      <td>0.066878</td>\n",
              "      <td>0.393782</td>\n",
              "      <td>0.124160</td>\n",
              "      <td>0.117060</td>\n",
              "      <td>0.134139</td>\n",
              "      <td>(8938,)</td>\n",
              "      <td>2131.mat</td>\n",
              "      <td>2</td>\n",
              "      <td>94.540996</td>\n",
              "    </tr>\n",
              "    <tr>\n",
              "      <th>2483</th>\n",
              "      <td>49</td>\n",
              "      <td>0.0</td>\n",
              "      <td>1.0</td>\n",
              "      <td>0.237819</td>\n",
              "      <td>0.043362</td>\n",
              "      <td>0.317389</td>\n",
              "      <td>0.051408</td>\n",
              "      <td>0.643272</td>\n",
              "      <td>0.432275</td>\n",
              "      <td>0.385226</td>\n",
              "      <td>0.476531</td>\n",
              "      <td>(5228,)</td>\n",
              "      <td>1185.mat</td>\n",
              "      <td>3</td>\n",
              "      <td>72.304910</td>\n",
              "    </tr>\n",
              "    <tr>\n",
              "      <th>1821</th>\n",
              "      <td>77</td>\n",
              "      <td>0.0</td>\n",
              "      <td>1.0</td>\n",
              "      <td>0.191140</td>\n",
              "      <td>0.025348</td>\n",
              "      <td>0.271066</td>\n",
              "      <td>0.115323</td>\n",
              "      <td>0.373145</td>\n",
              "      <td>0.210322</td>\n",
              "      <td>0.192510</td>\n",
              "      <td>0.244348</td>\n",
              "      <td>(1601,)</td>\n",
              "      <td>2588.mat</td>\n",
              "      <td>2</td>\n",
              "      <td>40.012498</td>\n",
              "    </tr>\n",
              "    <tr>\n",
              "      <th>839</th>\n",
              "      <td>57</td>\n",
              "      <td>0.0</td>\n",
              "      <td>1.0</td>\n",
              "      <td>0.210790</td>\n",
              "      <td>0.043915</td>\n",
              "      <td>0.313676</td>\n",
              "      <td>0.033877</td>\n",
              "      <td>0.721455</td>\n",
              "      <td>0.425345</td>\n",
              "      <td>0.390213</td>\n",
              "      <td>0.579674</td>\n",
              "      <td>(795,)</td>\n",
              "      <td>1606.mat</td>\n",
              "      <td>3</td>\n",
              "      <td>28.195744</td>\n",
              "    </tr>\n",
              "    <tr>\n",
              "      <th>2736</th>\n",
              "      <td>57</td>\n",
              "      <td>0.0</td>\n",
              "      <td>1.0</td>\n",
              "      <td>0.250195</td>\n",
              "      <td>0.017425</td>\n",
              "      <td>0.314954</td>\n",
              "      <td>0.150325</td>\n",
              "      <td>0.742523</td>\n",
              "      <td>0.515085</td>\n",
              "      <td>0.441873</td>\n",
              "      <td>0.554486</td>\n",
              "      <td>(2860,)</td>\n",
              "      <td>1438.mat</td>\n",
              "      <td>3</td>\n",
              "      <td>53.478968</td>\n",
              "    </tr>\n",
              "    <tr>\n",
              "      <th>82</th>\n",
              "      <td>49</td>\n",
              "      <td>0.0</td>\n",
              "      <td>1.0</td>\n",
              "      <td>0.016138</td>\n",
              "      <td>0.009798</td>\n",
              "      <td>0.335159</td>\n",
              "      <td>0.185303</td>\n",
              "      <td>0.623919</td>\n",
              "      <td>0.415562</td>\n",
              "      <td>0.387320</td>\n",
              "      <td>0.475504</td>\n",
              "      <td>(7649,)</td>\n",
              "      <td>173.mat</td>\n",
              "      <td>1</td>\n",
              "      <td>87.458562</td>\n",
              "    </tr>\n",
              "    <tr>\n",
              "      <th>3019</th>\n",
              "      <td>49</td>\n",
              "      <td>0.0</td>\n",
              "      <td>1.0</td>\n",
              "      <td>0.208333</td>\n",
              "      <td>0.056818</td>\n",
              "      <td>0.261364</td>\n",
              "      <td>0.018939</td>\n",
              "      <td>0.560606</td>\n",
              "      <td>0.378788</td>\n",
              "      <td>0.340909</td>\n",
              "      <td>0.420455</td>\n",
              "      <td>(274,)</td>\n",
              "      <td>955.mat</td>\n",
              "      <td>3</td>\n",
              "      <td>16.552945</td>\n",
              "    </tr>\n",
              "    <tr>\n",
              "      <th>2732</th>\n",
              "      <td>57</td>\n",
              "      <td>0.0</td>\n",
              "      <td>1.0</td>\n",
              "      <td>0.233312</td>\n",
              "      <td>0.015122</td>\n",
              "      <td>0.308490</td>\n",
              "      <td>0.187946</td>\n",
              "      <td>0.467488</td>\n",
              "      <td>0.369626</td>\n",
              "      <td>0.314755</td>\n",
              "      <td>0.402463</td>\n",
              "      <td>(833,)</td>\n",
              "      <td>1434.mat</td>\n",
              "      <td>3</td>\n",
              "      <td>28.861739</td>\n",
              "    </tr>\n",
              "    <tr>\n",
              "      <th>2208</th>\n",
              "      <td>77</td>\n",
              "      <td>0.0</td>\n",
              "      <td>1.0</td>\n",
              "      <td>0.133637</td>\n",
              "      <td>0.018211</td>\n",
              "      <td>0.238350</td>\n",
              "      <td>0.139529</td>\n",
              "      <td>0.565345</td>\n",
              "      <td>0.307981</td>\n",
              "      <td>0.195635</td>\n",
              "      <td>0.390064</td>\n",
              "      <td>(791,)</td>\n",
              "      <td>2975.mat</td>\n",
              "      <td>2</td>\n",
              "      <td>28.124722</td>\n",
              "    </tr>\n",
              "    <tr>\n",
              "      <th>1077</th>\n",
              "      <td>77</td>\n",
              "      <td>0.0</td>\n",
              "      <td>1.0</td>\n",
              "      <td>0.201699</td>\n",
              "      <td>0.012676</td>\n",
              "      <td>0.236105</td>\n",
              "      <td>0.139852</td>\n",
              "      <td>0.688536</td>\n",
              "      <td>0.354576</td>\n",
              "      <td>0.288167</td>\n",
              "      <td>0.445605</td>\n",
              "      <td>(2732,)</td>\n",
              "      <td>1844.mat</td>\n",
              "      <td>2</td>\n",
              "      <td>52.268537</td>\n",
              "    </tr>\n",
              "  </tbody>\n",
              "</table>\n",
              "</div>"
            ],
            "text/plain": [
              "      pid  mri_min  mri_max  ...  file_name  label  square_shape\n",
              "2808   49      0.0      1.0  ...   1510.mat      3     47.275787\n",
              "949    49      0.0      1.0  ...   1716.mat      3     42.813549\n",
              "1113   77      0.0      1.0  ...   1880.mat      2     32.756679\n",
              "2354   49      0.0      1.0  ...   1056.mat      3     71.791364\n",
              "1072   57      0.0      1.0  ...   1839.mat      3     47.843495\n",
              "738    49      0.0      1.0  ...    764.mat      2     60.679486\n",
              "1150   77      0.0      1.0  ...   1917.mat      2     82.625662\n",
              "1465   77      0.0      1.0  ...   2232.mat      2     87.481427\n",
              "1104   77      0.0      1.0  ...   1871.mat      2     86.133617\n",
              "3016   49      0.0      1.0  ...    952.mat      3     38.366652\n",
              "1364   77      0.0      1.0  ...   2131.mat      2     94.540996\n",
              "2483   49      0.0      1.0  ...   1185.mat      3     72.304910\n",
              "1821   77      0.0      1.0  ...   2588.mat      2     40.012498\n",
              "839    57      0.0      1.0  ...   1606.mat      3     28.195744\n",
              "2736   57      0.0      1.0  ...   1438.mat      3     53.478968\n",
              "82     49      0.0      1.0  ...    173.mat      1     87.458562\n",
              "3019   49      0.0      1.0  ...    955.mat      3     16.552945\n",
              "2732   57      0.0      1.0  ...   1434.mat      3     28.861739\n",
              "2208   77      0.0      1.0  ...   2975.mat      2     28.124722\n",
              "1077   77      0.0      1.0  ...   1844.mat      2     52.268537\n",
              "\n",
              "[20 rows x 15 columns]"
            ]
          },
          "metadata": {
            "tags": []
          },
          "execution_count": 39
        }
      ]
    },
    {
      "cell_type": "markdown",
      "metadata": {
        "id": "c0KYEepMovPx",
        "colab_type": "text"
      },
      "source": [
        "# Analysis\n"
      ]
    },
    {
      "cell_type": "markdown",
      "metadata": {
        "id": "2tqRGoUK5APW",
        "colab_type": "text"
      },
      "source": [
        "## Statistical Analysis"
      ]
    },
    {
      "cell_type": "markdown",
      "metadata": {
        "id": "vrE_Vh1O5ZdQ",
        "colab_type": "text"
      },
      "source": [
        "### MRI Image Analysis"
      ]
    },
    {
      "cell_type": "code",
      "metadata": {
        "id": "aumAqfm3VymM",
        "colab_type": "code",
        "outputId": "148665da-b63c-4848-ecd5-56ec0afc33ee",
        "colab": {
          "base_uri": "https://localhost:8080/",
          "height": 34
        }
      },
      "source": [
        "df.pid.unique()"
      ],
      "execution_count": 0,
      "outputs": [
        {
          "output_type": "execute_result",
          "data": {
            "text/plain": [
              "array([49, 57, 53, 77, 56])"
            ]
          },
          "metadata": {
            "tags": []
          },
          "execution_count": 40
        }
      ]
    },
    {
      "cell_type": "markdown",
      "metadata": {
        "id": "eXwJqH_jnfor",
        "colab_type": "text"
      },
      "source": [
        "There are only 5 patients info present !!!!"
      ]
    },
    {
      "cell_type": "code",
      "metadata": {
        "id": "CvBti1CInkCG",
        "colab_type": "code",
        "outputId": "89de7894-9709-4de0-9637-79b7264c61bc",
        "colab": {
          "base_uri": "https://localhost:8080/",
          "height": 195
        }
      },
      "source": [
        "df.groupby(\"pid\").agg(\"count\").reset_index()[['pid','mri_min']]"
      ],
      "execution_count": 0,
      "outputs": [
        {
          "output_type": "execute_result",
          "data": {
            "text/html": [
              "<div>\n",
              "<style scoped>\n",
              "    .dataframe tbody tr th:only-of-type {\n",
              "        vertical-align: middle;\n",
              "    }\n",
              "\n",
              "    .dataframe tbody tr th {\n",
              "        vertical-align: top;\n",
              "    }\n",
              "\n",
              "    .dataframe thead th {\n",
              "        text-align: right;\n",
              "    }\n",
              "</style>\n",
              "<table border=\"1\" class=\"dataframe\">\n",
              "  <thead>\n",
              "    <tr style=\"text-align: right;\">\n",
              "      <th></th>\n",
              "      <th>pid</th>\n",
              "      <th>mri_min</th>\n",
              "    </tr>\n",
              "  </thead>\n",
              "  <tbody>\n",
              "    <tr>\n",
              "      <th>0</th>\n",
              "      <td>49</td>\n",
              "      <td>1427</td>\n",
              "    </tr>\n",
              "    <tr>\n",
              "      <th>1</th>\n",
              "      <td>53</td>\n",
              "      <td>2</td>\n",
              "    </tr>\n",
              "    <tr>\n",
              "      <th>2</th>\n",
              "      <td>56</td>\n",
              "      <td>13</td>\n",
              "    </tr>\n",
              "    <tr>\n",
              "      <th>3</th>\n",
              "      <td>57</td>\n",
              "      <td>401</td>\n",
              "    </tr>\n",
              "    <tr>\n",
              "      <th>4</th>\n",
              "      <td>77</td>\n",
              "      <td>1221</td>\n",
              "    </tr>\n",
              "  </tbody>\n",
              "</table>\n",
              "</div>"
            ],
            "text/plain": [
              "   pid  mri_min\n",
              "0   49     1427\n",
              "1   53        2\n",
              "2   56       13\n",
              "3   57      401\n",
              "4   77     1221"
            ]
          },
          "metadata": {
            "tags": []
          },
          "execution_count": 41
        }
      ]
    },
    {
      "cell_type": "code",
      "metadata": {
        "id": "6d-95548oIsq",
        "colab_type": "code",
        "outputId": "82712a0a-1c34-4662-b3f6-81518632e33c",
        "colab": {
          "base_uri": "https://localhost:8080/",
          "height": 373
        }
      },
      "source": [
        "df.groupby([\"pid\",\"label\"]).agg(\"count\").reset_index()[['pid','label','mri_min']]"
      ],
      "execution_count": 0,
      "outputs": [
        {
          "output_type": "execute_result",
          "data": {
            "text/html": [
              "<div>\n",
              "<style scoped>\n",
              "    .dataframe tbody tr th:only-of-type {\n",
              "        vertical-align: middle;\n",
              "    }\n",
              "\n",
              "    .dataframe tbody tr th {\n",
              "        vertical-align: top;\n",
              "    }\n",
              "\n",
              "    .dataframe thead th {\n",
              "        text-align: right;\n",
              "    }\n",
              "</style>\n",
              "<table border=\"1\" class=\"dataframe\">\n",
              "  <thead>\n",
              "    <tr style=\"text-align: right;\">\n",
              "      <th></th>\n",
              "      <th>pid</th>\n",
              "      <th>label</th>\n",
              "      <th>mri_min</th>\n",
              "    </tr>\n",
              "  </thead>\n",
              "  <tbody>\n",
              "    <tr>\n",
              "      <th>0</th>\n",
              "      <td>49</td>\n",
              "      <td>1</td>\n",
              "      <td>584</td>\n",
              "    </tr>\n",
              "    <tr>\n",
              "      <th>1</th>\n",
              "      <td>49</td>\n",
              "      <td>2</td>\n",
              "      <td>126</td>\n",
              "    </tr>\n",
              "    <tr>\n",
              "      <th>2</th>\n",
              "      <td>49</td>\n",
              "      <td>3</td>\n",
              "      <td>717</td>\n",
              "    </tr>\n",
              "    <tr>\n",
              "      <th>3</th>\n",
              "      <td>53</td>\n",
              "      <td>1</td>\n",
              "      <td>1</td>\n",
              "    </tr>\n",
              "    <tr>\n",
              "      <th>4</th>\n",
              "      <td>53</td>\n",
              "      <td>3</td>\n",
              "      <td>1</td>\n",
              "    </tr>\n",
              "    <tr>\n",
              "      <th>5</th>\n",
              "      <td>56</td>\n",
              "      <td>1</td>\n",
              "      <td>1</td>\n",
              "    </tr>\n",
              "    <tr>\n",
              "      <th>6</th>\n",
              "      <td>56</td>\n",
              "      <td>2</td>\n",
              "      <td>12</td>\n",
              "    </tr>\n",
              "    <tr>\n",
              "      <th>7</th>\n",
              "      <td>57</td>\n",
              "      <td>1</td>\n",
              "      <td>122</td>\n",
              "    </tr>\n",
              "    <tr>\n",
              "      <th>8</th>\n",
              "      <td>57</td>\n",
              "      <td>2</td>\n",
              "      <td>67</td>\n",
              "    </tr>\n",
              "    <tr>\n",
              "      <th>9</th>\n",
              "      <td>57</td>\n",
              "      <td>3</td>\n",
              "      <td>212</td>\n",
              "    </tr>\n",
              "    <tr>\n",
              "      <th>10</th>\n",
              "      <td>77</td>\n",
              "      <td>2</td>\n",
              "      <td>1221</td>\n",
              "    </tr>\n",
              "  </tbody>\n",
              "</table>\n",
              "</div>"
            ],
            "text/plain": [
              "    pid  label  mri_min\n",
              "0    49      1      584\n",
              "1    49      2      126\n",
              "2    49      3      717\n",
              "3    53      1        1\n",
              "4    53      3        1\n",
              "5    56      1        1\n",
              "6    56      2       12\n",
              "7    57      1      122\n",
              "8    57      2       67\n",
              "9    57      3      212\n",
              "10   77      2     1221"
            ]
          },
          "metadata": {
            "tags": []
          },
          "execution_count": 42
        }
      ]
    },
    {
      "cell_type": "code",
      "metadata": {
        "id": "2Z0gzrC-qPjs",
        "colab_type": "code",
        "outputId": "77a9776b-cc0c-459f-f0e2-12891f22e371",
        "colab": {
          "base_uri": "https://localhost:8080/",
          "height": 136
        }
      },
      "source": [
        "df.groupby(\"label\").agg(\"count\").reset_index()[['label','pid']]"
      ],
      "execution_count": 0,
      "outputs": [
        {
          "output_type": "execute_result",
          "data": {
            "text/html": [
              "<div>\n",
              "<style scoped>\n",
              "    .dataframe tbody tr th:only-of-type {\n",
              "        vertical-align: middle;\n",
              "    }\n",
              "\n",
              "    .dataframe tbody tr th {\n",
              "        vertical-align: top;\n",
              "    }\n",
              "\n",
              "    .dataframe thead th {\n",
              "        text-align: right;\n",
              "    }\n",
              "</style>\n",
              "<table border=\"1\" class=\"dataframe\">\n",
              "  <thead>\n",
              "    <tr style=\"text-align: right;\">\n",
              "      <th></th>\n",
              "      <th>label</th>\n",
              "      <th>pid</th>\n",
              "    </tr>\n",
              "  </thead>\n",
              "  <tbody>\n",
              "    <tr>\n",
              "      <th>0</th>\n",
              "      <td>1</td>\n",
              "      <td>708</td>\n",
              "    </tr>\n",
              "    <tr>\n",
              "      <th>1</th>\n",
              "      <td>2</td>\n",
              "      <td>1426</td>\n",
              "    </tr>\n",
              "    <tr>\n",
              "      <th>2</th>\n",
              "      <td>3</td>\n",
              "      <td>930</td>\n",
              "    </tr>\n",
              "  </tbody>\n",
              "</table>\n",
              "</div>"
            ],
            "text/plain": [
              "   label   pid\n",
              "0      1   708\n",
              "1      2  1426\n",
              "2      3   930"
            ]
          },
          "metadata": {
            "tags": []
          },
          "execution_count": 43
        }
      ]
    },
    {
      "cell_type": "code",
      "metadata": {
        "id": "0hb_arZXI2_R",
        "colab_type": "code",
        "outputId": "bda543c9-5191-475f-984a-5345ba1f7013",
        "colab": {
          "base_uri": "https://localhost:8080/",
          "height": 314
        }
      },
      "source": [
        "df.hist(\"mri_median\")"
      ],
      "execution_count": 0,
      "outputs": [
        {
          "output_type": "execute_result",
          "data": {
            "text/plain": [
              "array([[<matplotlib.axes._subplots.AxesSubplot object at 0x7f7a30a4dba8>]],\n",
              "      dtype=object)"
            ]
          },
          "metadata": {
            "tags": []
          },
          "execution_count": 44
        },
        {
          "output_type": "display_data",
          "data": {
            "image/png": "[encoded data removed]",
            "text/plain": [
              "<Figure size 432x288 with 1 Axes>"
            ]
          },
          "metadata": {
            "tags": []
          }
        }
      ]
    },
    {
      "cell_type": "code",
      "metadata": {
        "id": "XJUUN3EzJT-J",
        "colab_type": "code",
        "outputId": "5dec3be3-e602-4a24-8938-b1651a66b92a",
        "colab": {
          "base_uri": "https://localhost:8080/",
          "height": 314
        }
      },
      "source": [
        "df.hist('mri_1q')"
      ],
      "execution_count": 0,
      "outputs": [
        {
          "output_type": "execute_result",
          "data": {
            "text/plain": [
              "array([[<matplotlib.axes._subplots.AxesSubplot object at 0x7f7a30bfbf28>]],\n",
              "      dtype=object)"
            ]
          },
          "metadata": {
            "tags": []
          },
          "execution_count": 45
        },
        {
          "output_type": "display_data",
          "data": {
            "image/png": "[encoded data removed]",
            "text/plain": [
              "<Figure size 432x288 with 1 Axes>"
            ]
          },
          "metadata": {
            "tags": []
          }
        }
      ]
    },
    {
      "cell_type": "code",
      "metadata": {
        "id": "c-TyEwkcJz1C",
        "colab_type": "code",
        "outputId": "f3029ecf-ed6d-4322-ffb0-2f215479c111",
        "colab": {
          "base_uri": "https://localhost:8080/",
          "height": 314
        }
      },
      "source": [
        "df.hist('mri_3q')"
      ],
      "execution_count": 0,
      "outputs": [
        {
          "output_type": "execute_result",
          "data": {
            "text/plain": [
              "array([[<matplotlib.axes._subplots.AxesSubplot object at 0x7f7a30a097b8>]],\n",
              "      dtype=object)"
            ]
          },
          "metadata": {
            "tags": []
          },
          "execution_count": 46
        },
        {
          "output_type": "display_data",
          "data": {
            "image/png": "[encoded data removed]",
            "text/plain": [
              "<Figure size 432x288 with 1 Axes>"
            ]
          },
          "metadata": {
            "tags": []
          }
        }
      ]
    },
    {
      "cell_type": "markdown",
      "metadata": {
        "id": "V3Cmc4id4mto",
        "colab_type": "text"
      },
      "source": [
        "### Tumor Region Analysis"
      ]
    },
    {
      "cell_type": "code",
      "metadata": {
        "id": "lfvYBJWBLDto",
        "colab_type": "code",
        "outputId": "5da21ec3-8944-4771-c19d-42f022625c85",
        "colab": {
          "base_uri": "https://localhost:8080/",
          "height": 314
        }
      },
      "source": [
        "df.hist('t_max')"
      ],
      "execution_count": 0,
      "outputs": [
        {
          "output_type": "execute_result",
          "data": {
            "text/plain": [
              "array([[<matplotlib.axes._subplots.AxesSubplot object at 0x7f7a30a129b0>]],\n",
              "      dtype=object)"
            ]
          },
          "metadata": {
            "tags": []
          },
          "execution_count": 47
        },
        {
          "output_type": "display_data",
          "data": {
            "image/png": "[encoded data removed]",
            "text/plain": [
              "<Figure size 432x288 with 1 Axes>"
            ]
          },
          "metadata": {
            "tags": []
          }
        }
      ]
    },
    {
      "cell_type": "code",
      "metadata": {
        "id": "D6i687UbMtGt",
        "colab_type": "code",
        "outputId": "17d68fdf-7979-48b8-c021-d7a10970adf4",
        "colab": {
          "base_uri": "https://localhost:8080/",
          "height": 314
        }
      },
      "source": [
        "df.hist('t_1q')"
      ],
      "execution_count": 0,
      "outputs": [
        {
          "output_type": "execute_result",
          "data": {
            "text/plain": [
              "array([[<matplotlib.axes._subplots.AxesSubplot object at 0x7f7a30acefd0>]],\n",
              "      dtype=object)"
            ]
          },
          "metadata": {
            "tags": []
          },
          "execution_count": 48
        },
        {
          "output_type": "display_data",
          "data": {
            "image/png": "[encoded data removed]",
            "text/plain": [
              "<Figure size 432x288 with 1 Axes>"
            ]
          },
          "metadata": {
            "tags": []
          }
        }
      ]
    },
    {
      "cell_type": "code",
      "metadata": {
        "id": "zonjHlab0ZcB",
        "colab_type": "code",
        "outputId": "14699add-9eb5-4b9d-95f7-f85fd9ddc838",
        "colab": {
          "base_uri": "https://localhost:8080/",
          "height": 314
        }
      },
      "source": [
        "\n",
        "df.hist('t_min')"
      ],
      "execution_count": 0,
      "outputs": [
        {
          "output_type": "execute_result",
          "data": {
            "text/plain": [
              "array([[<matplotlib.axes._subplots.AxesSubplot object at 0x7f7a307fe0b8>]],\n",
              "      dtype=object)"
            ]
          },
          "metadata": {
            "tags": []
          },
          "execution_count": 49
        },
        {
          "output_type": "display_data",
          "data": {
            "image/png": "[encoded data removed]",
            "text/plain": [
              "<Figure size 432x288 with 1 Axes>"
            ]
          },
          "metadata": {
            "tags": []
          }
        }
      ]
    },
    {
      "cell_type": "code",
      "metadata": {
        "id": "Nqnw_vcD0g78",
        "colab_type": "code",
        "outputId": "fbd30464-d910-4682-8da8-f9dc626784ee",
        "colab": {
          "base_uri": "https://localhost:8080/",
          "height": 314
        }
      },
      "source": [
        "df.hist('t_3q')"
      ],
      "execution_count": 0,
      "outputs": [
        {
          "output_type": "execute_result",
          "data": {
            "text/plain": [
              "array([[<matplotlib.axes._subplots.AxesSubplot object at 0x7f7a30b0a160>]],\n",
              "      dtype=object)"
            ]
          },
          "metadata": {
            "tags": []
          },
          "execution_count": 50
        },
        {
          "output_type": "display_data",
          "data": {
            "image/png": "[encoded data removed]",
            "text/plain": [
              "<Figure size 432x288 with 1 Axes>"
            ]
          },
          "metadata": {
            "tags": []
          }
        }
      ]
    },
    {
      "cell_type": "code",
      "metadata": {
        "id": "a_vtE1YHd9s7",
        "colab_type": "code",
        "outputId": "cdd3e01e-b2c4-4d91-d220-40dd1a4d1b52",
        "colab": {
          "base_uri": "https://localhost:8080/",
          "height": 286
        }
      },
      "source": [
        "df.square_shape.hist()"
      ],
      "execution_count": 0,
      "outputs": [
        {
          "output_type": "execute_result",
          "data": {
            "text/plain": [
              "<matplotlib.axes._subplots.AxesSubplot at 0x7f7a30a12940>"
            ]
          },
          "metadata": {
            "tags": []
          },
          "execution_count": 51
        },
        {
          "output_type": "display_data",
          "data": {
            "image/png": "[encoded data removed]",
            "text/plain": [
              "<Figure size 432x288 with 1 Axes>"
            ]
          },
          "metadata": {
            "tags": []
          }
        }
      ]
    },
    {
      "cell_type": "markdown",
      "metadata": {
        "id": "6NZjperm5HpZ",
        "colab_type": "text"
      },
      "source": [
        "## Visual Analysis"
      ]
    },
    {
      "cell_type": "markdown",
      "metadata": {
        "id": "IYCnbIgH360L",
        "colab_type": "text"
      },
      "source": [
        "### Smallest Tumor Sample"
      ]
    },
    {
      "cell_type": "code",
      "metadata": {
        "id": "wH9v4orNwTFk",
        "colab_type": "code",
        "outputId": "bfe8c694-46cd-469d-8483-d0ad1648f301",
        "colab": {
          "base_uri": "https://localhost:8080/",
          "height": 319
        }
      },
      "source": [
        "plt.imshow(retrieveImage(list(df[df.tumor_size == df.tumor_size.min()]['file_name'])[0]));\n",
        "plt.show()\n"
      ],
      "execution_count": 0,
      "outputs": [
        {
          "output_type": "stream",
          "text": [
            "Shape of the image :  (256, 256)\n"
          ],
          "name": "stdout"
        },
        {
          "output_type": "stream",
          "text": [
            "/usr/local/lib/python3.6/dist-packages/matplotlib/image.py:369: UserWarning: Casting input data from 'float128' to 'float64'for imshow\n",
            "  \"for imshow\".format(A.dtype))\n"
          ],
          "name": "stderr"
        },
        {
          "output_type": "display_data",
          "data": {
            "image/png": "[encoded data removed]",
            "text/plain": [
              "<Figure size 432x288 with 1 Axes>"
            ]
          },
          "metadata": {
            "tags": []
          }
        }
      ]
    },
    {
      "cell_type": "markdown",
      "metadata": {
        "id": "bj_utuj44fUp",
        "colab_type": "text"
      },
      "source": [
        "### Biggest Tumor in the Dataset"
      ]
    },
    {
      "cell_type": "code",
      "metadata": {
        "id": "0btsuHfkxfty",
        "colab_type": "code",
        "outputId": "6d8c1557-0469-4597-b2ba-8e194190a2c2",
        "colab": {
          "base_uri": "https://localhost:8080/",
          "height": 302
        }
      },
      "source": [
        "plt.imshow(retrieveImage(list(df[df.tumor_size == df.tumor_size.max()]['file_name'])[0]));\n",
        "plt.show()\n"
      ],
      "execution_count": 0,
      "outputs": [
        {
          "output_type": "stream",
          "text": [
            "/usr/local/lib/python3.6/dist-packages/matplotlib/image.py:369: UserWarning: Casting input data from 'float128' to 'float64'for imshow\n",
            "  \"for imshow\".format(A.dtype))\n"
          ],
          "name": "stderr"
        },
        {
          "output_type": "display_data",
          "data": {
            "image/png": "[encoded data removed]",
            "text/plain": [
              "<Figure size 432x288 with 1 Axes>"
            ]
          },
          "metadata": {
            "tags": []
          }
        }
      ]
    },
    {
      "cell_type": "markdown",
      "metadata": {
        "id": "Q6Jgv6oj30uI",
        "colab_type": "text"
      },
      "source": [
        "### Numpy Resize failed"
      ]
    },
    {
      "cell_type": "code",
      "metadata": {
        "id": "8aYJNq38zCRL",
        "colab_type": "code",
        "outputId": "fa2ccb8e-034c-46b2-fbd8-1c5c79043ae3",
        "colab": {
          "base_uri": "https://localhost:8080/",
          "height": 302
        }
      },
      "source": [
        "plt.imshow(np.resize(retrieveImage(list(df[df.tumor_size == df.tumor_size.max()]['file_name'])[0]),(256,256)));\n",
        "plt.show()"
      ],
      "execution_count": 0,
      "outputs": [
        {
          "output_type": "stream",
          "text": [
            "/usr/local/lib/python3.6/dist-packages/matplotlib/image.py:369: UserWarning: Casting input data from 'float128' to 'float64'for imshow\n",
            "  \"for imshow\".format(A.dtype))\n"
          ],
          "name": "stderr"
        },
        {
          "output_type": "display_data",
          "data": {
            "image/png": "[encoded data removed]",
            "text/plain": [
              "<Figure size 432x288 with 1 Axes>"
            ]
          },
          "metadata": {
            "tags": []
          }
        }
      ]
    },
    {
      "cell_type": "markdown",
      "metadata": {
        "id": "-RdvYCpyo2vC",
        "colab_type": "text"
      },
      "source": [
        "# Preprocessing\n"
      ]
    },
    {
      "cell_type": "markdown",
      "metadata": {
        "id": "V6QgmzMKv6Hw",
        "colab_type": "text"
      },
      "source": [
        "Preprocessing ideas:\n",
        "\n",
        "1.  Dataset has tumor region indicator which would allow us to get the average brightness of the area.\n",
        "\n",
        "2. It is said that brightest region is skull and skull is not important for the tumor detection. It is only brain position determines the tumor class. If we remove skull remaining image is brain ?\n",
        "\n",
        "3. if we start with a window of image which would maximize the presence of tumor and expand to include some brain region around the tumor then i guess it is the best data for training(and predicting). Because tumor position in brain is THE factor that decides the tumor class.\n",
        "\n",
        "4. \n",
        "\n"
      ]
    },
    {
      "cell_type": "code",
      "metadata": {
        "id": "Iuw9KQ19zz9p",
        "colab_type": "code",
        "outputId": "4485106e-5b5a-48e2-d290-8b9b7e4c252e",
        "colab": {
          "base_uri": "https://localhost:8080/",
          "height": 34
        }
      },
      "source": [
        "np.int(2.2)"
      ],
      "execution_count": 0,
      "outputs": [
        {
          "output_type": "execute_result",
          "data": {
            "text/plain": [
              "2"
            ]
          },
          "metadata": {
            "tags": []
          },
          "execution_count": 63
        }
      ]
    }
  ]
}