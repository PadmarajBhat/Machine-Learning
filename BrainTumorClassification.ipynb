{
  "nbformat": 4,
  "nbformat_minor": 0,
  "metadata": {
    "colab": {
      "name": "BrainTumorClassification.ipynb",
      "provenance": [],
      "toc_visible": true,
      "include_colab_link": true
    },
    "kernelspec": {
      "name": "python3",
      "display_name": "Python 3"
    }
  },
  "cells": [
    {
      "cell_type": "markdown",
      "metadata": {
        "id": "view-in-github",
        "colab_type": "text"
      },
      "source": [
        "<a href=\"https://colab.research.google.com/github/PadmarajBhat/Machine-Learning/blob/master/BrainTumorClassification.ipynb\" target=\"_parent\"><img src=\"https://colab.research.google.com/assets/colab-badge.svg\" alt=\"Open In Colab\"/></a>"
      ]
    },
    {
      "cell_type": "markdown",
      "metadata": {
        "id": "uTCyCln9DwLS",
        "colab_type": "text"
      },
      "source": [
        "# Detection of 3 Brain Tumors (Meningioma, Glioma and Pituitary) in T1-weighted contrast enhanced images\n",
        "\n",
        "### - Revisitng the Udacity Capstone Project in pursuit of better accuracy\n",
        "\n"
      ]
    },
    {
      "cell_type": "markdown",
      "metadata": {
        "id": "ExaNYOAl3nSH",
        "colab_type": "text"
      },
      "source": [
        "# What is the problem statement?\n",
        "  * predict the tumor class given only MRI image\n",
        "  * OR predict the tumor class when both MRI and Tumor region is given !!!\n",
        "      * tumor region is identified and put in input dataset by experts\n",
        "          * can we have Image Segmentation problem ?\n",
        "\n",
        "\n",
        "  * I think this is the order of problem from easy level to difficult level\n",
        "    * Identify the tumor class from raw MRI image (here accuracy may be low)\n",
        "    * Identify the tumor class from raw MRI image + tumor region identified (here accuracy may be better)\n",
        "    * Auto detect the tumor segment in a MRI image and classify the tumor (ideal application for a radiologist)\n",
        "\n",
        "    Let us try all the 3 !!!"
      ]
    },
    {
      "cell_type": "markdown",
      "metadata": {
        "id": "47aIRBi1lPdJ",
        "colab_type": "text"
      },
      "source": [
        "# Import Packages\n",
        "* read the input MRI images (.mat) files through ***h5py***\n",
        "* ***pandas*** for data analysis and preprocessing\n",
        "* ***tensorflow*** for modelling and predicting"
      ]
    },
    {
      "cell_type": "code",
      "metadata": {
        "id": "8XamypXiCEdS",
        "colab_type": "code",
        "colab": {}
      },
      "source": [
        "import os\n",
        "import zipfile\n",
        "import h5py\n",
        "import numpy as np\n",
        "from matplotlib import pyplot as plt\n",
        "import pandas as pd\n",
        "\n",
        "from sklearn.preprocessing import MinMaxScaler"
      ],
      "execution_count": 0,
      "outputs": []
    },
    {
      "cell_type": "markdown",
      "metadata": {
        "id": "68mR7i5xla0f",
        "colab_type": "text"
      },
      "source": [
        "# Load Data\n",
        "* Mount Google Drive\n",
        "* Unzip it in colab disk\n",
        "* load mat attributes to list of tuples\n",
        "* create a panda dataframe for analysis\n",
        "\n",
        "##### Issues Faced:\n",
        "1. loading to panda with image took half(6GB) of RAM\n",
        "* loading tumor along with mri image (as in mat file) crashed the colab\n",
        "  * Solution: let us load image but save only 5 point summary for both mri image and tumor\n",
        "\n",
        "2. How do we scale/normalize the data?\n",
        "  * would tumor region have 0 in it ?\n",
        "    * only way to know is through the value present in the binary indicator == 1\n",
        "        * implementation through 2 for loops takes forever !!!\n",
        "          * need to implement throuhg np.where\n",
        "        \n",
        "\n",
        "3. Some images are less than 512\n",
        "    * pad the difference with 0s.\n",
        "    \n",
        "4. Should tumor image be scaled between 0 -1? For now, brightness values are relative to that of the whole image to which it belongs to."
      ]
    },
    {
      "cell_type": "code",
      "metadata": {
        "id": "6trYXPZPJ54V",
        "colab_type": "code",
        "outputId": "f096fba9-c57b-4fe8-e8ec-bffaf0e30eed",
        "colab": {
          "base_uri": "https://localhost:8080/",
          "height": 121
        }
      },
      "source": [
        "from google.colab import drive\n",
        "drive.mount('/content/drive')"
      ],
      "execution_count": 2,
      "outputs": [
        {
          "output_type": "stream",
          "text": [
            "Go to this URL in a browser: https://accounts.google.com/o/oauth2/auth?client_id=947318989803-6bn6qk8qdgf4n4g3pfee6491hc0brc4i.apps.googleusercontent.com&redirect_uri=urn%3Aietf%3Awg%3Aoauth%3A2.0%3Aoob&scope=email%20https%3A%2F%2Fwww.googleapis.com%2Fauth%2Fdocs.test%20https%3A%2F%2Fwww.googleapis.com%2Fauth%2Fdrive%20https%3A%2F%2Fwww.googleapis.com%2Fauth%2Fdrive.photos.readonly%20https%3A%2F%2Fwww.googleapis.com%2Fauth%2Fpeopleapi.readonly&response_type=code\n",
            "\n",
            "Enter your authorization code:\n",
            "··········\n",
            "Mounted at /content/drive\n"
          ],
          "name": "stdout"
        }
      ]
    },
    {
      "cell_type": "code",
      "metadata": {
        "id": "NHDagZs8KQ_K",
        "colab_type": "code",
        "outputId": "43707e83-7da5-4a16-de7b-4eda3db8ea47",
        "colab": {
          "base_uri": "https://localhost:8080/",
          "height": 67
        }
      },
      "source": [
        "!ls /content/drive/'My Drive'/1512427"
      ],
      "execution_count": 3,
      "outputs": [
        {
          "output_type": "stream",
          "text": [
            "brainTumorDataPublic_1533-2298.zip  brainTumorDataPublic_767-1532.zip\n",
            "brainTumorDataPublic_1-766.zip\t    cvind.mat\n",
            "brainTumorDataPublic_2299-3064.zip  README.txt\n"
          ],
          "name": "stdout"
        }
      ]
    },
    {
      "cell_type": "code",
      "metadata": {
        "id": "3ND1wWEFMf4a",
        "colab_type": "code",
        "outputId": "80fc22bf-19aa-4566-9140-4e4665978e69",
        "colab": {
          "base_uri": "https://localhost:8080/",
          "height": 34
        }
      },
      "source": [
        "!ls /content/drive/'My Drive'/1512427/brainTumorDataPublic_1-766.zip"
      ],
      "execution_count": 4,
      "outputs": [
        {
          "output_type": "stream",
          "text": [
            "'/content/drive/My Drive/1512427/brainTumorDataPublic_1-766.zip'\n"
          ],
          "name": "stdout"
        }
      ]
    },
    {
      "cell_type": "markdown",
      "metadata": {
        "id": "gyh_sPtY7UMy",
        "colab_type": "text"
      },
      "source": [
        "### Load Image Array"
      ]
    },
    {
      "cell_type": "code",
      "metadata": {
        "id": "VoGqScRpu7F5",
        "colab_type": "code",
        "colab": {}
      },
      "source": [
        "def retrieveImage(file_name):\n",
        "  f = h5py.File(file_name,'r')\n",
        "  mri_image = np.array(f['cjdata']['image'],dtype=np.float128)\n",
        "  if mri_image.shape[0] < 512:\n",
        "      print(\"Shape of the image : \", mri_image.shape)\n",
        "      mri_image = np.pad(mri_image,(512 - mri_image.shape[0])//2,'constant',constant_values=0)\n",
        "  return mri_image/mri_image.max()"
      ],
      "execution_count": 0,
      "outputs": []
    },
    {
      "cell_type": "markdown",
      "metadata": {
        "id": "II_gT4oC7bYb",
        "colab_type": "text"
      },
      "source": [
        "### Load Tumor Array"
      ]
    },
    {
      "cell_type": "code",
      "metadata": {
        "id": "KcPw_HqJ7pkX",
        "colab_type": "code",
        "colab": {}
      },
      "source": [
        "def retrieveTumorImage(file_name):\n",
        "  f = h5py.File(file_name,'r')\n",
        "  mri_image = np.array(f['cjdata']['tumorMask'],dtype=np.float128)\n",
        "  if mri_image.shape[0] < 512:\n",
        "      print(\"Shape of the image : \", mri_image.shape)\n",
        "      mri_image = np.pad(mri_image,(512 - mri_image.shape[0])//2,'constant',constant_values=0)\n",
        "  return mri_image/mri_image.max()"
      ],
      "execution_count": 0,
      "outputs": []
    },
    {
      "cell_type": "markdown",
      "metadata": {
        "id": "FF_-ayUh7jlS",
        "colab_type": "text"
      },
      "source": [
        "### Load Image and Tumor Statistics to Panda"
      ]
    },
    {
      "cell_type": "code",
      "metadata": {
        "id": "ZPUvYbhjEzet",
        "colab_type": "code",
        "colab": {}
      },
      "source": [
        "def return_imageInfo_from_mat_file(file_name):\n",
        "    f = h5py.File(file_name,'r')\n",
        "\n",
        "    mri_image = np.array(f['cjdata']['image'],dtype=np.float128)\n",
        "    #scaler = MinMaxScaler(feature_range=(1,2))\n",
        "    #mri_image = scaler.fit(mri_image)\n",
        "    mri_image = mri_image/mri_image.max()\n",
        "\n",
        "    if mri_image.shape[0] < 512:\n",
        "      print(\"Shape of the image : \", mri_image.shape)\n",
        "      mri_image = np.pad(mri_image,(512 - mri_image.shape[0])//2,'constant',constant_values=0)\n",
        "    \n",
        "    temp_mri_image = np.copy(mri_image)\n",
        "    temp_mri_image[temp_mri_image == 0 ] = 2\n",
        "\n",
        "    mri_quartiles = np.percentile(mri_image[mri_image > 0], [25, 50, 75])\n",
        "\n",
        "    tumor_image = np.array(f['cjdata']['tumorMask'], dtype=np.float128)\n",
        "    if tumor_image.shape[0] < 512:\n",
        "      print(\"Shape of the tumor image : \", tumor_image.shape)\n",
        "      tumor_image = np.pad(tumor_image,(512 - tumor_image.shape[0])//2,'constant',constant_values=0)\n",
        "    \n",
        "    tumor_image = temp_mri_image * tumor_image\n",
        "    tumor_image = tumor_image[tumor_image > 0]\n",
        "    tumor_image[tumor_image == 2] = 0\n",
        "\n",
        "    '''tumor_array =[]\n",
        "    for i in range(0,512):\n",
        "      for j in range(0,512):\n",
        "        if tumor_image[i][j]:\n",
        "          tumor_array.append(mri_image[i][j])\n",
        "\n",
        "    tumor_image = np.array(tumor_array, dtype=np.float)'''\n",
        "\n",
        "    tumor_quartiles = np.percentile(tumor_image, [25, 50, 75])\n",
        "\n",
        "    return np.array(f['cjdata']['PID'],dtype=np.int)[0][0] \\\n",
        "            ,mri_image.min() \\\n",
        "            ,mri_image.max() \\\n",
        "            ,mri_quartiles[1] \\\n",
        "            ,mri_quartiles[0] \\\n",
        "            ,mri_quartiles[2] \\\n",
        "            ,tumor_image.min() \\\n",
        "            ,tumor_image.max() \\\n",
        "            ,tumor_quartiles[1] \\\n",
        "            ,tumor_quartiles[0] \\\n",
        "            ,tumor_quartiles[2] \\\n",
        "            ,tumor_image.shape \\\n",
        "            ,file_name\\\n",
        "            ,np.array(f['cjdata']['label'], dtype=np.int)[0][0] "
      ],
      "execution_count": 0,
      "outputs": []
    },
    {
      "cell_type": "code",
      "metadata": {
        "id": "4h9X8MvPNy50",
        "colab_type": "code",
        "colab": {}
      },
      "source": [
        "def loadDf():\n",
        "  patients_details = []\n",
        "  for root, dirs, files in os.walk(\"/content/drive/My Drive/1512427/\", topdown = False):\n",
        "    for f in files:\n",
        "      if \".zip\" in f:\n",
        "          file = zipfile.ZipFile(root+f, \"r\")\n",
        "          for name in file.namelist():\n",
        "            file.extract(name,\".\")\n",
        "            patients_details.append(return_imageInfo_from_mat_file(name))\n",
        "          #break\n",
        "      #break\n",
        "  mri_col_names = [\"mri_min\",\"mri_max\",\"mri_median\",\"mri_1q\", \"mri_3q\"]\n",
        "  tumor_col_names = [\"t_min\",\"t_max\",\"t_median\",\"t_1q\",\"t_3q\",\"tumor_size\"]\n",
        "  col_names = [\"pid\"] + mri_col_names + tumor_col_names+ [\"file_name\",\"label\"]\n",
        "  return pd.DataFrame(patients_details,columns=col_names)\n"
      ],
      "execution_count": 0,
      "outputs": []
    },
    {
      "cell_type": "code",
      "metadata": {
        "id": "LCSo34a4Vlta",
        "colab_type": "code",
        "outputId": "f0e9b68d-64d7-4f23-b1a1-9a63c154dbbd",
        "colab": {
          "base_uri": "https://localhost:8080/",
          "height": 1000
        }
      },
      "source": [
        "tumor_names = [\"\",\"meningioma\",\"glioma\",\"pituitary\"]\n",
        "df = loadDf()\n",
        "df[\"square_shape\"] = df.tumor_size.apply(lambda x: np.sqrt(x[0]))\n",
        "df.sample(20)"
      ],
      "execution_count": 9,
      "outputs": [
        {
          "output_type": "stream",
          "text": [
            "Shape of the image :  (256, 256)\n",
            "Shape of the tumor image :  (256, 256)\n",
            "Shape of the image :  (256, 256)\n",
            "Shape of the tumor image :  (256, 256)\n",
            "Shape of the image :  (256, 256)\n",
            "Shape of the tumor image :  (256, 256)\n",
            "Shape of the image :  (256, 256)\n",
            "Shape of the tumor image :  (256, 256)\n",
            "Shape of the image :  (256, 256)\n",
            "Shape of the tumor image :  (256, 256)\n",
            "Shape of the image :  (256, 256)\n",
            "Shape of the tumor image :  (256, 256)\n",
            "Shape of the image :  (256, 256)\n",
            "Shape of the tumor image :  (256, 256)\n",
            "Shape of the image :  (256, 256)\n",
            "Shape of the tumor image :  (256, 256)\n",
            "Shape of the image :  (256, 256)\n",
            "Shape of the tumor image :  (256, 256)\n",
            "Shape of the image :  (256, 256)\n",
            "Shape of the tumor image :  (256, 256)\n",
            "Shape of the image :  (256, 256)\n",
            "Shape of the tumor image :  (256, 256)\n",
            "Shape of the image :  (256, 256)\n",
            "Shape of the tumor image :  (256, 256)\n",
            "Shape of the image :  (256, 256)\n",
            "Shape of the tumor image :  (256, 256)\n",
            "Shape of the image :  (256, 256)\n",
            "Shape of the tumor image :  (256, 256)\n",
            "Shape of the image :  (256, 256)\n",
            "Shape of the tumor image :  (256, 256)\n"
          ],
          "name": "stdout"
        },
        {
          "output_type": "execute_result",
          "data": {
            "text/html": [
              "<div>\n",
              "<style scoped>\n",
              "    .dataframe tbody tr th:only-of-type {\n",
              "        vertical-align: middle;\n",
              "    }\n",
              "\n",
              "    .dataframe tbody tr th {\n",
              "        vertical-align: top;\n",
              "    }\n",
              "\n",
              "    .dataframe thead th {\n",
              "        text-align: right;\n",
              "    }\n",
              "</style>\n",
              "<table border=\"1\" class=\"dataframe\">\n",
              "  <thead>\n",
              "    <tr style=\"text-align: right;\">\n",
              "      <th></th>\n",
              "      <th>pid</th>\n",
              "      <th>mri_min</th>\n",
              "      <th>mri_max</th>\n",
              "      <th>mri_median</th>\n",
              "      <th>mri_1q</th>\n",
              "      <th>mri_3q</th>\n",
              "      <th>t_min</th>\n",
              "      <th>t_max</th>\n",
              "      <th>t_median</th>\n",
              "      <th>t_1q</th>\n",
              "      <th>t_3q</th>\n",
              "      <th>tumor_size</th>\n",
              "      <th>file_name</th>\n",
              "      <th>label</th>\n",
              "      <th>square_shape</th>\n",
              "    </tr>\n",
              "  </thead>\n",
              "  <tbody>\n",
              "    <tr>\n",
              "      <th>3020</th>\n",
              "      <td>49</td>\n",
              "      <td>0.0</td>\n",
              "      <td>1.0</td>\n",
              "      <td>0.220077</td>\n",
              "      <td>0.061776</td>\n",
              "      <td>0.266409</td>\n",
              "      <td>0.011583</td>\n",
              "      <td>0.872587</td>\n",
              "      <td>0.388031</td>\n",
              "      <td>0.339768</td>\n",
              "      <td>0.460425</td>\n",
              "      <td>(492,)</td>\n",
              "      <td>956.mat</td>\n",
              "      <td>3</td>\n",
              "      <td>22.181073</td>\n",
              "    </tr>\n",
              "    <tr>\n",
              "      <th>1211</th>\n",
              "      <td>77</td>\n",
              "      <td>0.0</td>\n",
              "      <td>1.0</td>\n",
              "      <td>0.114815</td>\n",
              "      <td>0.020044</td>\n",
              "      <td>0.273203</td>\n",
              "      <td>0.087146</td>\n",
              "      <td>0.630937</td>\n",
              "      <td>0.242702</td>\n",
              "      <td>0.205011</td>\n",
              "      <td>0.290795</td>\n",
              "      <td>(6302,)</td>\n",
              "      <td>1978.mat</td>\n",
              "      <td>2</td>\n",
              "      <td>79.385137</td>\n",
              "    </tr>\n",
              "    <tr>\n",
              "      <th>1656</th>\n",
              "      <td>77</td>\n",
              "      <td>0.0</td>\n",
              "      <td>1.0</td>\n",
              "      <td>0.176808</td>\n",
              "      <td>0.017222</td>\n",
              "      <td>0.277612</td>\n",
              "      <td>0.023881</td>\n",
              "      <td>0.829392</td>\n",
              "      <td>0.197245</td>\n",
              "      <td>0.159357</td>\n",
              "      <td>0.249598</td>\n",
              "      <td>(7558,)</td>\n",
              "      <td>2423.mat</td>\n",
              "      <td>2</td>\n",
              "      <td>86.936759</td>\n",
              "    </tr>\n",
              "    <tr>\n",
              "      <th>2678</th>\n",
              "      <td>49</td>\n",
              "      <td>0.0</td>\n",
              "      <td>1.0</td>\n",
              "      <td>0.165008</td>\n",
              "      <td>0.018100</td>\n",
              "      <td>0.313725</td>\n",
              "      <td>0.025943</td>\n",
              "      <td>0.819910</td>\n",
              "      <td>0.472097</td>\n",
              "      <td>0.401508</td>\n",
              "      <td>0.530317</td>\n",
              "      <td>(2729,)</td>\n",
              "      <td>1380.mat</td>\n",
              "      <td>3</td>\n",
              "      <td>52.239832</td>\n",
              "    </tr>\n",
              "    <tr>\n",
              "      <th>2972</th>\n",
              "      <td>57</td>\n",
              "      <td>0.0</td>\n",
              "      <td>1.0</td>\n",
              "      <td>0.041253</td>\n",
              "      <td>0.014621</td>\n",
              "      <td>0.291906</td>\n",
              "      <td>0.127415</td>\n",
              "      <td>0.730026</td>\n",
              "      <td>0.266841</td>\n",
              "      <td>0.222454</td>\n",
              "      <td>0.315405</td>\n",
              "      <td>(16052,)</td>\n",
              "      <td>908.mat</td>\n",
              "      <td>2</td>\n",
              "      <td>126.696488</td>\n",
              "    </tr>\n",
              "    <tr>\n",
              "      <th>2064</th>\n",
              "      <td>77</td>\n",
              "      <td>0.0</td>\n",
              "      <td>1.0</td>\n",
              "      <td>0.030889</td>\n",
              "      <td>0.017161</td>\n",
              "      <td>0.335101</td>\n",
              "      <td>0.127613</td>\n",
              "      <td>0.610608</td>\n",
              "      <td>0.387832</td>\n",
              "      <td>0.326053</td>\n",
              "      <td>0.454056</td>\n",
              "      <td>(4608,)</td>\n",
              "      <td>2831.mat</td>\n",
              "      <td>2</td>\n",
              "      <td>67.882251</td>\n",
              "    </tr>\n",
              "    <tr>\n",
              "      <th>893</th>\n",
              "      <td>49</td>\n",
              "      <td>0.0</td>\n",
              "      <td>1.0</td>\n",
              "      <td>0.213896</td>\n",
              "      <td>0.034060</td>\n",
              "      <td>0.291553</td>\n",
              "      <td>0.171662</td>\n",
              "      <td>0.663488</td>\n",
              "      <td>0.472752</td>\n",
              "      <td>0.423706</td>\n",
              "      <td>0.513624</td>\n",
              "      <td>(638,)</td>\n",
              "      <td>1660.mat</td>\n",
              "      <td>3</td>\n",
              "      <td>25.258662</td>\n",
              "    </tr>\n",
              "    <tr>\n",
              "      <th>1335</th>\n",
              "      <td>77</td>\n",
              "      <td>0.0</td>\n",
              "      <td>1.0</td>\n",
              "      <td>0.186538</td>\n",
              "      <td>0.016653</td>\n",
              "      <td>0.249930</td>\n",
              "      <td>0.055416</td>\n",
              "      <td>0.780996</td>\n",
              "      <td>0.269591</td>\n",
              "      <td>0.197278</td>\n",
              "      <td>0.415022</td>\n",
              "      <td>(1096,)</td>\n",
              "      <td>2102.mat</td>\n",
              "      <td>2</td>\n",
              "      <td>33.105891</td>\n",
              "    </tr>\n",
              "    <tr>\n",
              "      <th>1276</th>\n",
              "      <td>77</td>\n",
              "      <td>0.0</td>\n",
              "      <td>1.0</td>\n",
              "      <td>0.013386</td>\n",
              "      <td>0.009816</td>\n",
              "      <td>0.254150</td>\n",
              "      <td>0.158665</td>\n",
              "      <td>0.587185</td>\n",
              "      <td>0.219525</td>\n",
              "      <td>0.202258</td>\n",
              "      <td>0.248617</td>\n",
              "      <td>(4514,)</td>\n",
              "      <td>2043.mat</td>\n",
              "      <td>2</td>\n",
              "      <td>67.186308</td>\n",
              "    </tr>\n",
              "    <tr>\n",
              "      <th>2026</th>\n",
              "      <td>77</td>\n",
              "      <td>0.0</td>\n",
              "      <td>1.0</td>\n",
              "      <td>0.140826</td>\n",
              "      <td>0.026361</td>\n",
              "      <td>0.284079</td>\n",
              "      <td>0.093306</td>\n",
              "      <td>0.827957</td>\n",
              "      <td>0.342005</td>\n",
              "      <td>0.216094</td>\n",
              "      <td>0.466354</td>\n",
              "      <td>(4083,)</td>\n",
              "      <td>2793.mat</td>\n",
              "      <td>2</td>\n",
              "      <td>63.898357</td>\n",
              "    </tr>\n",
              "    <tr>\n",
              "      <th>2650</th>\n",
              "      <td>49</td>\n",
              "      <td>0.0</td>\n",
              "      <td>1.0</td>\n",
              "      <td>0.212111</td>\n",
              "      <td>0.035129</td>\n",
              "      <td>0.308632</td>\n",
              "      <td>0.090164</td>\n",
              "      <td>0.483272</td>\n",
              "      <td>0.324858</td>\n",
              "      <td>0.290565</td>\n",
              "      <td>0.352543</td>\n",
              "      <td>(3143,)</td>\n",
              "      <td>1352.mat</td>\n",
              "      <td>3</td>\n",
              "      <td>56.062465</td>\n",
              "    </tr>\n",
              "    <tr>\n",
              "      <th>2725</th>\n",
              "      <td>57</td>\n",
              "      <td>0.0</td>\n",
              "      <td>1.0</td>\n",
              "      <td>0.245370</td>\n",
              "      <td>0.043771</td>\n",
              "      <td>0.299453</td>\n",
              "      <td>0.308502</td>\n",
              "      <td>0.763468</td>\n",
              "      <td>0.455808</td>\n",
              "      <td>0.429924</td>\n",
              "      <td>0.497527</td>\n",
              "      <td>(1864,)</td>\n",
              "      <td>1427.mat</td>\n",
              "      <td>3</td>\n",
              "      <td>43.174066</td>\n",
              "    </tr>\n",
              "    <tr>\n",
              "      <th>2558</th>\n",
              "      <td>49</td>\n",
              "      <td>0.0</td>\n",
              "      <td>1.0</td>\n",
              "      <td>0.220641</td>\n",
              "      <td>0.091103</td>\n",
              "      <td>0.271886</td>\n",
              "      <td>0.092883</td>\n",
              "      <td>0.540925</td>\n",
              "      <td>0.408185</td>\n",
              "      <td>0.351957</td>\n",
              "      <td>0.455872</td>\n",
              "      <td>(1261,)</td>\n",
              "      <td>1260.mat</td>\n",
              "      <td>3</td>\n",
              "      <td>35.510562</td>\n",
              "    </tr>\n",
              "    <tr>\n",
              "      <th>1619</th>\n",
              "      <td>77</td>\n",
              "      <td>0.0</td>\n",
              "      <td>1.0</td>\n",
              "      <td>0.139235</td>\n",
              "      <td>0.009221</td>\n",
              "      <td>0.200323</td>\n",
              "      <td>0.019364</td>\n",
              "      <td>0.551060</td>\n",
              "      <td>0.155486</td>\n",
              "      <td>0.143154</td>\n",
              "      <td>0.171162</td>\n",
              "      <td>(8953,)</td>\n",
              "      <td>2386.mat</td>\n",
              "      <td>2</td>\n",
              "      <td>94.620294</td>\n",
              "    </tr>\n",
              "    <tr>\n",
              "      <th>1532</th>\n",
              "      <td>77</td>\n",
              "      <td>0.0</td>\n",
              "      <td>1.0</td>\n",
              "      <td>0.168510</td>\n",
              "      <td>0.018431</td>\n",
              "      <td>0.244690</td>\n",
              "      <td>0.045287</td>\n",
              "      <td>0.633491</td>\n",
              "      <td>0.181850</td>\n",
              "      <td>0.152185</td>\n",
              "      <td>0.206337</td>\n",
              "      <td>(12915,)</td>\n",
              "      <td>2299.mat</td>\n",
              "      <td>2</td>\n",
              "      <td>113.644182</td>\n",
              "    </tr>\n",
              "    <tr>\n",
              "      <th>491</th>\n",
              "      <td>49</td>\n",
              "      <td>0.0</td>\n",
              "      <td>1.0</td>\n",
              "      <td>0.019756</td>\n",
              "      <td>0.013451</td>\n",
              "      <td>0.272804</td>\n",
              "      <td>0.076503</td>\n",
              "      <td>0.744851</td>\n",
              "      <td>0.455233</td>\n",
              "      <td>0.385876</td>\n",
              "      <td>0.513241</td>\n",
              "      <td>(14097,)</td>\n",
              "      <td>541.mat</td>\n",
              "      <td>1</td>\n",
              "      <td>118.730788</td>\n",
              "    </tr>\n",
              "    <tr>\n",
              "      <th>1307</th>\n",
              "      <td>77</td>\n",
              "      <td>0.0</td>\n",
              "      <td>1.0</td>\n",
              "      <td>0.147766</td>\n",
              "      <td>0.011905</td>\n",
              "      <td>0.210113</td>\n",
              "      <td>0.074374</td>\n",
              "      <td>0.515464</td>\n",
              "      <td>0.184094</td>\n",
              "      <td>0.163844</td>\n",
              "      <td>0.203731</td>\n",
              "      <td>(14849,)</td>\n",
              "      <td>2074.mat</td>\n",
              "      <td>2</td>\n",
              "      <td>121.856473</td>\n",
              "    </tr>\n",
              "    <tr>\n",
              "      <th>653</th>\n",
              "      <td>57</td>\n",
              "      <td>0.0</td>\n",
              "      <td>1.0</td>\n",
              "      <td>0.110161</td>\n",
              "      <td>0.028169</td>\n",
              "      <td>0.277666</td>\n",
              "      <td>0.014588</td>\n",
              "      <td>0.501509</td>\n",
              "      <td>0.390845</td>\n",
              "      <td>0.368209</td>\n",
              "      <td>0.411972</td>\n",
              "      <td>(2254,)</td>\n",
              "      <td>688.mat</td>\n",
              "      <td>1</td>\n",
              "      <td>47.476310</td>\n",
              "    </tr>\n",
              "    <tr>\n",
              "      <th>496</th>\n",
              "      <td>49</td>\n",
              "      <td>0.0</td>\n",
              "      <td>1.0</td>\n",
              "      <td>0.164213</td>\n",
              "      <td>0.017926</td>\n",
              "      <td>0.312740</td>\n",
              "      <td>0.121319</td>\n",
              "      <td>0.571063</td>\n",
              "      <td>0.462548</td>\n",
              "      <td>0.420294</td>\n",
              "      <td>0.487836</td>\n",
              "      <td>(4993,)</td>\n",
              "      <td>546.mat</td>\n",
              "      <td>1</td>\n",
              "      <td>70.661163</td>\n",
              "    </tr>\n",
              "    <tr>\n",
              "      <th>244</th>\n",
              "      <td>49</td>\n",
              "      <td>0.0</td>\n",
              "      <td>1.0</td>\n",
              "      <td>0.207259</td>\n",
              "      <td>0.019989</td>\n",
              "      <td>0.285639</td>\n",
              "      <td>0.053656</td>\n",
              "      <td>0.616518</td>\n",
              "      <td>0.475539</td>\n",
              "      <td>0.438190</td>\n",
              "      <td>0.497107</td>\n",
              "      <td>(2371,)</td>\n",
              "      <td>319.mat</td>\n",
              "      <td>1</td>\n",
              "      <td>48.692915</td>\n",
              "    </tr>\n",
              "  </tbody>\n",
              "</table>\n",
              "</div>"
            ],
            "text/plain": [
              "      pid  mri_min  mri_max  ...  file_name  label  square_shape\n",
              "3020   49      0.0      1.0  ...    956.mat      3     22.181073\n",
              "1211   77      0.0      1.0  ...   1978.mat      2     79.385137\n",
              "1656   77      0.0      1.0  ...   2423.mat      2     86.936759\n",
              "2678   49      0.0      1.0  ...   1380.mat      3     52.239832\n",
              "2972   57      0.0      1.0  ...    908.mat      2    126.696488\n",
              "2064   77      0.0      1.0  ...   2831.mat      2     67.882251\n",
              "893    49      0.0      1.0  ...   1660.mat      3     25.258662\n",
              "1335   77      0.0      1.0  ...   2102.mat      2     33.105891\n",
              "1276   77      0.0      1.0  ...   2043.mat      2     67.186308\n",
              "2026   77      0.0      1.0  ...   2793.mat      2     63.898357\n",
              "2650   49      0.0      1.0  ...   1352.mat      3     56.062465\n",
              "2725   57      0.0      1.0  ...   1427.mat      3     43.174066\n",
              "2558   49      0.0      1.0  ...   1260.mat      3     35.510562\n",
              "1619   77      0.0      1.0  ...   2386.mat      2     94.620294\n",
              "1532   77      0.0      1.0  ...   2299.mat      2    113.644182\n",
              "491    49      0.0      1.0  ...    541.mat      1    118.730788\n",
              "1307   77      0.0      1.0  ...   2074.mat      2    121.856473\n",
              "653    57      0.0      1.0  ...    688.mat      1     47.476310\n",
              "496    49      0.0      1.0  ...    546.mat      1     70.661163\n",
              "244    49      0.0      1.0  ...    319.mat      1     48.692915\n",
              "\n",
              "[20 rows x 15 columns]"
            ]
          },
          "metadata": {
            "tags": []
          },
          "execution_count": 9
        }
      ]
    },
    {
      "cell_type": "markdown",
      "metadata": {
        "id": "c0KYEepMovPx",
        "colab_type": "text"
      },
      "source": [
        "# Analysis\n"
      ]
    },
    {
      "cell_type": "markdown",
      "metadata": {
        "id": "2tqRGoUK5APW",
        "colab_type": "text"
      },
      "source": [
        "## Statistical Analysis"
      ]
    },
    {
      "cell_type": "markdown",
      "metadata": {
        "id": "vrE_Vh1O5ZdQ",
        "colab_type": "text"
      },
      "source": [
        "### MRI Image Analysis"
      ]
    },
    {
      "cell_type": "code",
      "metadata": {
        "id": "aumAqfm3VymM",
        "colab_type": "code",
        "outputId": "3ae73c1f-782c-45f9-f94e-c289e0410800",
        "colab": {
          "base_uri": "https://localhost:8080/",
          "height": 34
        }
      },
      "source": [
        "df.pid.unique()"
      ],
      "execution_count": 10,
      "outputs": [
        {
          "output_type": "execute_result",
          "data": {
            "text/plain": [
              "array([49, 57, 53, 77, 56])"
            ]
          },
          "metadata": {
            "tags": []
          },
          "execution_count": 10
        }
      ]
    },
    {
      "cell_type": "markdown",
      "metadata": {
        "id": "eXwJqH_jnfor",
        "colab_type": "text"
      },
      "source": [
        "There are only 5 patients info present !!!!"
      ]
    },
    {
      "cell_type": "code",
      "metadata": {
        "id": "CvBti1CInkCG",
        "colab_type": "code",
        "outputId": "e5378ceb-c7ff-41d1-d944-3338177046fd",
        "colab": {
          "base_uri": "https://localhost:8080/",
          "height": 195
        }
      },
      "source": [
        "df.groupby(\"pid\").agg(\"count\").reset_index()[['pid','mri_min']]"
      ],
      "execution_count": 11,
      "outputs": [
        {
          "output_type": "execute_result",
          "data": {
            "text/html": [
              "<div>\n",
              "<style scoped>\n",
              "    .dataframe tbody tr th:only-of-type {\n",
              "        vertical-align: middle;\n",
              "    }\n",
              "\n",
              "    .dataframe tbody tr th {\n",
              "        vertical-align: top;\n",
              "    }\n",
              "\n",
              "    .dataframe thead th {\n",
              "        text-align: right;\n",
              "    }\n",
              "</style>\n",
              "<table border=\"1\" class=\"dataframe\">\n",
              "  <thead>\n",
              "    <tr style=\"text-align: right;\">\n",
              "      <th></th>\n",
              "      <th>pid</th>\n",
              "      <th>mri_min</th>\n",
              "    </tr>\n",
              "  </thead>\n",
              "  <tbody>\n",
              "    <tr>\n",
              "      <th>0</th>\n",
              "      <td>49</td>\n",
              "      <td>1427</td>\n",
              "    </tr>\n",
              "    <tr>\n",
              "      <th>1</th>\n",
              "      <td>53</td>\n",
              "      <td>2</td>\n",
              "    </tr>\n",
              "    <tr>\n",
              "      <th>2</th>\n",
              "      <td>56</td>\n",
              "      <td>13</td>\n",
              "    </tr>\n",
              "    <tr>\n",
              "      <th>3</th>\n",
              "      <td>57</td>\n",
              "      <td>401</td>\n",
              "    </tr>\n",
              "    <tr>\n",
              "      <th>4</th>\n",
              "      <td>77</td>\n",
              "      <td>1221</td>\n",
              "    </tr>\n",
              "  </tbody>\n",
              "</table>\n",
              "</div>"
            ],
            "text/plain": [
              "   pid  mri_min\n",
              "0   49     1427\n",
              "1   53        2\n",
              "2   56       13\n",
              "3   57      401\n",
              "4   77     1221"
            ]
          },
          "metadata": {
            "tags": []
          },
          "execution_count": 11
        }
      ]
    },
    {
      "cell_type": "code",
      "metadata": {
        "id": "6d-95548oIsq",
        "colab_type": "code",
        "outputId": "939ad659-d97b-474e-c56f-dde81b1c0e02",
        "colab": {
          "base_uri": "https://localhost:8080/",
          "height": 373
        }
      },
      "source": [
        "df.groupby([\"pid\",\"label\"]).agg(\"count\").reset_index()[['pid','label','mri_min']]"
      ],
      "execution_count": 12,
      "outputs": [
        {
          "output_type": "execute_result",
          "data": {
            "text/html": [
              "<div>\n",
              "<style scoped>\n",
              "    .dataframe tbody tr th:only-of-type {\n",
              "        vertical-align: middle;\n",
              "    }\n",
              "\n",
              "    .dataframe tbody tr th {\n",
              "        vertical-align: top;\n",
              "    }\n",
              "\n",
              "    .dataframe thead th {\n",
              "        text-align: right;\n",
              "    }\n",
              "</style>\n",
              "<table border=\"1\" class=\"dataframe\">\n",
              "  <thead>\n",
              "    <tr style=\"text-align: right;\">\n",
              "      <th></th>\n",
              "      <th>pid</th>\n",
              "      <th>label</th>\n",
              "      <th>mri_min</th>\n",
              "    </tr>\n",
              "  </thead>\n",
              "  <tbody>\n",
              "    <tr>\n",
              "      <th>0</th>\n",
              "      <td>49</td>\n",
              "      <td>1</td>\n",
              "      <td>584</td>\n",
              "    </tr>\n",
              "    <tr>\n",
              "      <th>1</th>\n",
              "      <td>49</td>\n",
              "      <td>2</td>\n",
              "      <td>126</td>\n",
              "    </tr>\n",
              "    <tr>\n",
              "      <th>2</th>\n",
              "      <td>49</td>\n",
              "      <td>3</td>\n",
              "      <td>717</td>\n",
              "    </tr>\n",
              "    <tr>\n",
              "      <th>3</th>\n",
              "      <td>53</td>\n",
              "      <td>1</td>\n",
              "      <td>1</td>\n",
              "    </tr>\n",
              "    <tr>\n",
              "      <th>4</th>\n",
              "      <td>53</td>\n",
              "      <td>3</td>\n",
              "      <td>1</td>\n",
              "    </tr>\n",
              "    <tr>\n",
              "      <th>5</th>\n",
              "      <td>56</td>\n",
              "      <td>1</td>\n",
              "      <td>1</td>\n",
              "    </tr>\n",
              "    <tr>\n",
              "      <th>6</th>\n",
              "      <td>56</td>\n",
              "      <td>2</td>\n",
              "      <td>12</td>\n",
              "    </tr>\n",
              "    <tr>\n",
              "      <th>7</th>\n",
              "      <td>57</td>\n",
              "      <td>1</td>\n",
              "      <td>122</td>\n",
              "    </tr>\n",
              "    <tr>\n",
              "      <th>8</th>\n",
              "      <td>57</td>\n",
              "      <td>2</td>\n",
              "      <td>67</td>\n",
              "    </tr>\n",
              "    <tr>\n",
              "      <th>9</th>\n",
              "      <td>57</td>\n",
              "      <td>3</td>\n",
              "      <td>212</td>\n",
              "    </tr>\n",
              "    <tr>\n",
              "      <th>10</th>\n",
              "      <td>77</td>\n",
              "      <td>2</td>\n",
              "      <td>1221</td>\n",
              "    </tr>\n",
              "  </tbody>\n",
              "</table>\n",
              "</div>"
            ],
            "text/plain": [
              "    pid  label  mri_min\n",
              "0    49      1      584\n",
              "1    49      2      126\n",
              "2    49      3      717\n",
              "3    53      1        1\n",
              "4    53      3        1\n",
              "5    56      1        1\n",
              "6    56      2       12\n",
              "7    57      1      122\n",
              "8    57      2       67\n",
              "9    57      3      212\n",
              "10   77      2     1221"
            ]
          },
          "metadata": {
            "tags": []
          },
          "execution_count": 12
        }
      ]
    },
    {
      "cell_type": "code",
      "metadata": {
        "id": "2Z0gzrC-qPjs",
        "colab_type": "code",
        "outputId": "6dc5efc5-e177-4957-d299-21064e162155",
        "colab": {
          "base_uri": "https://localhost:8080/",
          "height": 136
        }
      },
      "source": [
        "df.groupby(\"label\").agg(\"count\").reset_index()[['label','pid']]"
      ],
      "execution_count": 13,
      "outputs": [
        {
          "output_type": "execute_result",
          "data": {
            "text/html": [
              "<div>\n",
              "<style scoped>\n",
              "    .dataframe tbody tr th:only-of-type {\n",
              "        vertical-align: middle;\n",
              "    }\n",
              "\n",
              "    .dataframe tbody tr th {\n",
              "        vertical-align: top;\n",
              "    }\n",
              "\n",
              "    .dataframe thead th {\n",
              "        text-align: right;\n",
              "    }\n",
              "</style>\n",
              "<table border=\"1\" class=\"dataframe\">\n",
              "  <thead>\n",
              "    <tr style=\"text-align: right;\">\n",
              "      <th></th>\n",
              "      <th>label</th>\n",
              "      <th>pid</th>\n",
              "    </tr>\n",
              "  </thead>\n",
              "  <tbody>\n",
              "    <tr>\n",
              "      <th>0</th>\n",
              "      <td>1</td>\n",
              "      <td>708</td>\n",
              "    </tr>\n",
              "    <tr>\n",
              "      <th>1</th>\n",
              "      <td>2</td>\n",
              "      <td>1426</td>\n",
              "    </tr>\n",
              "    <tr>\n",
              "      <th>2</th>\n",
              "      <td>3</td>\n",
              "      <td>930</td>\n",
              "    </tr>\n",
              "  </tbody>\n",
              "</table>\n",
              "</div>"
            ],
            "text/plain": [
              "   label   pid\n",
              "0      1   708\n",
              "1      2  1426\n",
              "2      3   930"
            ]
          },
          "metadata": {
            "tags": []
          },
          "execution_count": 13
        }
      ]
    },
    {
      "cell_type": "code",
      "metadata": {
        "id": "0hb_arZXI2_R",
        "colab_type": "code",
        "outputId": "f5f78ad4-f068-4d8a-c1b8-994e6713611c",
        "colab": {
          "base_uri": "https://localhost:8080/",
          "height": 314
        }
      },
      "source": [
        "df.hist(\"mri_median\")"
      ],
      "execution_count": 14,
      "outputs": [
        {
          "output_type": "execute_result",
          "data": {
            "text/plain": [
              "array([[<matplotlib.axes._subplots.AxesSubplot object at 0x7fbb83268240>]],\n",
              "      dtype=object)"
            ]
          },
          "metadata": {
            "tags": []
          },
          "execution_count": 14
        },
        {
          "output_type": "display_data",
          "data": {
            "image/png": "[encoded data removed]",
            "text/plain": [
              "<Figure size 432x288 with 1 Axes>"
            ]
          },
          "metadata": {
            "tags": []
          }
        }
      ]
    },
    {
      "cell_type": "code",
      "metadata": {
        "id": "XJUUN3EzJT-J",
        "colab_type": "code",
        "outputId": "51808213-215b-4684-daf9-f10320a14f88",
        "colab": {
          "base_uri": "https://localhost:8080/",
          "height": 314
        }
      },
      "source": [
        "df.hist('mri_1q')"
      ],
      "execution_count": 15,
      "outputs": [
        {
          "output_type": "execute_result",
          "data": {
            "text/plain": [
              "array([[<matplotlib.axes._subplots.AxesSubplot object at 0x7fbb830275c0>]],\n",
              "      dtype=object)"
            ]
          },
          "metadata": {
            "tags": []
          },
          "execution_count": 15
        },
        {
          "output_type": "display_data",
          "data": {
            "image/png": "[encoded data removed]",
            "text/plain": [
              "<Figure size 432x288 with 1 Axes>"
            ]
          },
          "metadata": {
            "tags": []
          }
        }
      ]
    },
    {
      "cell_type": "code",
      "metadata": {
        "id": "c-TyEwkcJz1C",
        "colab_type": "code",
        "outputId": "465e2c54-fdef-4de9-b0c9-60cb9f91d690",
        "colab": {
          "base_uri": "https://localhost:8080/",
          "height": 314
        }
      },
      "source": [
        "df.hist('mri_3q')"
      ],
      "execution_count": 16,
      "outputs": [
        {
          "output_type": "execute_result",
          "data": {
            "text/plain": [
              "array([[<matplotlib.axes._subplots.AxesSubplot object at 0x7fbb82f59d68>]],\n",
              "      dtype=object)"
            ]
          },
          "metadata": {
            "tags": []
          },
          "execution_count": 16
        },
        {
          "output_type": "display_data",
          "data": {
            "image/png": "[encoded data removed]",
            "text/plain": [
              "<Figure size 432x288 with 1 Axes>"
            ]
          },
          "metadata": {
            "tags": []
          }
        }
      ]
    },
    {
      "cell_type": "markdown",
      "metadata": {
        "id": "V3Cmc4id4mto",
        "colab_type": "text"
      },
      "source": [
        "### Tumor Region Analysis"
      ]
    },
    {
      "cell_type": "code",
      "metadata": {
        "id": "lfvYBJWBLDto",
        "colab_type": "code",
        "outputId": "f25f7b4f-a9af-47c2-ad03-69547ffd9e68",
        "colab": {
          "base_uri": "https://localhost:8080/",
          "height": 314
        }
      },
      "source": [
        "df.hist('t_max')"
      ],
      "execution_count": 17,
      "outputs": [
        {
          "output_type": "execute_result",
          "data": {
            "text/plain": [
              "array([[<matplotlib.axes._subplots.AxesSubplot object at 0x7fbb80730470>]],\n",
              "      dtype=object)"
            ]
          },
          "metadata": {
            "tags": []
          },
          "execution_count": 17
        },
        {
          "output_type": "display_data",
          "data": {
            "image/png": "[encoded data removed]",
            "text/plain": [
              "<Figure size 432x288 with 1 Axes>"
            ]
          },
          "metadata": {
            "tags": []
          }
        }
      ]
    },
    {
      "cell_type": "code",
      "metadata": {
        "id": "D6i687UbMtGt",
        "colab_type": "code",
        "outputId": "1504ec32-7d6c-4930-e7ce-f4112f872a5f",
        "colab": {
          "base_uri": "https://localhost:8080/",
          "height": 314
        }
      },
      "source": [
        "df.hist('t_1q')"
      ],
      "execution_count": 18,
      "outputs": [
        {
          "output_type": "execute_result",
          "data": {
            "text/plain": [
              "array([[<matplotlib.axes._subplots.AxesSubplot object at 0x7fbb8067e3c8>]],\n",
              "      dtype=object)"
            ]
          },
          "metadata": {
            "tags": []
          },
          "execution_count": 18
        },
        {
          "output_type": "display_data",
          "data": {
            "image/png": "[encoded data removed]",
            "text/plain": [
              "<Figure size 432x288 with 1 Axes>"
            ]
          },
          "metadata": {
            "tags": []
          }
        }
      ]
    },
    {
      "cell_type": "code",
      "metadata": {
        "id": "zonjHlab0ZcB",
        "colab_type": "code",
        "outputId": "2b63a644-a182-4642-83df-b87796d61697",
        "colab": {
          "base_uri": "https://localhost:8080/",
          "height": 314
        }
      },
      "source": [
        "\n",
        "df.hist('t_min')"
      ],
      "execution_count": 19,
      "outputs": [
        {
          "output_type": "execute_result",
          "data": {
            "text/plain": [
              "array([[<matplotlib.axes._subplots.AxesSubplot object at 0x7fbb80666ef0>]],\n",
              "      dtype=object)"
            ]
          },
          "metadata": {
            "tags": []
          },
          "execution_count": 19
        },
        {
          "output_type": "display_data",
          "data": {
            "image/png": "[encoded data removed]",
            "text/plain": [
              "<Figure size 432x288 with 1 Axes>"
            ]
          },
          "metadata": {
            "tags": []
          }
        }
      ]
    },
    {
      "cell_type": "code",
      "metadata": {
        "id": "Nqnw_vcD0g78",
        "colab_type": "code",
        "outputId": "5bf4f735-3b74-4686-8510-90c21109b767",
        "colab": {
          "base_uri": "https://localhost:8080/",
          "height": 314
        }
      },
      "source": [
        "df.hist('t_3q')"
      ],
      "execution_count": 20,
      "outputs": [
        {
          "output_type": "execute_result",
          "data": {
            "text/plain": [
              "array([[<matplotlib.axes._subplots.AxesSubplot object at 0x7fbb80613588>]],\n",
              "      dtype=object)"
            ]
          },
          "metadata": {
            "tags": []
          },
          "execution_count": 20
        },
        {
          "output_type": "display_data",
          "data": {
            "image/png": "[encoded data removed]",
            "text/plain": [
              "<Figure size 432x288 with 1 Axes>"
            ]
          },
          "metadata": {
            "tags": []
          }
        }
      ]
    },
    {
      "cell_type": "code",
      "metadata": {
        "id": "a_vtE1YHd9s7",
        "colab_type": "code",
        "outputId": "38c2178e-bfb5-4449-e374-84a941b0b63e",
        "colab": {
          "base_uri": "https://localhost:8080/",
          "height": 286
        }
      },
      "source": [
        "df.square_shape.hist()"
      ],
      "execution_count": 21,
      "outputs": [
        {
          "output_type": "execute_result",
          "data": {
            "text/plain": [
              "<matplotlib.axes._subplots.AxesSubplot at 0x7fbb8056b6d8>"
            ]
          },
          "metadata": {
            "tags": []
          },
          "execution_count": 21
        },
        {
          "output_type": "display_data",
          "data": {
            "image/png": "[encoded data removed]",
            "text/plain": [
              "<Figure size 432x288 with 1 Axes>"
            ]
          },
          "metadata": {
            "tags": []
          }
        }
      ]
    },
    {
      "cell_type": "markdown",
      "metadata": {
        "id": "6NZjperm5HpZ",
        "colab_type": "text"
      },
      "source": [
        "## Visual Analysis"
      ]
    },
    {
      "cell_type": "markdown",
      "metadata": {
        "id": "IYCnbIgH360L",
        "colab_type": "text"
      },
      "source": [
        "### Smallest Tumor Sample"
      ]
    },
    {
      "cell_type": "code",
      "metadata": {
        "id": "wH9v4orNwTFk",
        "colab_type": "code",
        "outputId": "c332f58d-d49c-4b70-9ad5-f00986a3fd55",
        "colab": {
          "base_uri": "https://localhost:8080/",
          "height": 336
        }
      },
      "source": [
        "plt.imshow(retrieveImage(list(df[df.tumor_size == df.tumor_size.min()]['file_name'])[0]));\n",
        "plt.imshow(retrieveTumorImage(list(df[df.tumor_size == df.tumor_size.min()]['file_name'])[0]),alpha=0.5);\n",
        "plt.show()\n"
      ],
      "execution_count": 27,
      "outputs": [
        {
          "output_type": "stream",
          "text": [
            "Shape of the image :  (256, 256)\n",
            "Shape of the image :  (256, 256)\n"
          ],
          "name": "stdout"
        },
        {
          "output_type": "stream",
          "text": [
            "/usr/local/lib/python3.6/dist-packages/matplotlib/image.py:369: UserWarning: Casting input data from 'float128' to 'float64'for imshow\n",
            "  \"for imshow\".format(A.dtype))\n"
          ],
          "name": "stderr"
        },
        {
          "output_type": "display_data",
          "data": {
            "image/png": "[encoded data removed]",
            "text/plain": [
              "<Figure size 432x288 with 1 Axes>"
            ]
          },
          "metadata": {
            "tags": []
          }
        }
      ]
    },
    {
      "cell_type": "markdown",
      "metadata": {
        "id": "bj_utuj44fUp",
        "colab_type": "text"
      },
      "source": [
        "### Biggest Tumor in the Dataset"
      ]
    },
    {
      "cell_type": "code",
      "metadata": {
        "id": "0btsuHfkxfty",
        "colab_type": "code",
        "outputId": "963bf002-faf4-4d02-c326-477615308b1b",
        "colab": {
          "base_uri": "https://localhost:8080/",
          "height": 302
        }
      },
      "source": [
        "plt.imshow(retrieveImage(list(df[df.tumor_size == df.tumor_size.max()]['file_name'])[0]));\n",
        "plt.imshow(retrieveTumorImage(list(df[df.tumor_size == df.tumor_size.max()]['file_name'])[0]),alpha=0.5);\n",
        "plt.show()\n"
      ],
      "execution_count": 29,
      "outputs": [
        {
          "output_type": "stream",
          "text": [
            "/usr/local/lib/python3.6/dist-packages/matplotlib/image.py:369: UserWarning: Casting input data from 'float128' to 'float64'for imshow\n",
            "  \"for imshow\".format(A.dtype))\n"
          ],
          "name": "stderr"
        },
        {
          "output_type": "display_data",
          "data": {
            "image/png": "[encoded data removed]",
            "text/plain": [
              "<Figure size 432x288 with 1 Axes>"
            ]
          },
          "metadata": {
            "tags": []
          }
        }
      ]
    },
    {
      "cell_type": "markdown",
      "metadata": {
        "id": "Q6Jgv6oj30uI",
        "colab_type": "text"
      },
      "source": [
        "### Numpy Resize failed"
      ]
    },
    {
      "cell_type": "code",
      "metadata": {
        "id": "8aYJNq38zCRL",
        "colab_type": "code",
        "outputId": "60e8a42f-e4b6-47b4-97c6-2c116b276f68",
        "colab": {
          "base_uri": "https://localhost:8080/",
          "height": 302
        }
      },
      "source": [
        "plt.imshow(np.resize(retrieveImage(list(df[df.tumor_size == df.tumor_size.max()]['file_name'])[0]),(256,256)));\n",
        "plt.show()"
      ],
      "execution_count": 24,
      "outputs": [
        {
          "output_type": "stream",
          "text": [
            "/usr/local/lib/python3.6/dist-packages/matplotlib/image.py:369: UserWarning: Casting input data from 'float128' to 'float64'for imshow\n",
            "  \"for imshow\".format(A.dtype))\n"
          ],
          "name": "stderr"
        },
        {
          "output_type": "display_data",
          "data": {
            "image/png": "[encoded data removed]",
            "text/plain": [
              "<Figure size 432x288 with 1 Axes>"
            ]
          },
          "metadata": {
            "tags": []
          }
        }
      ]
    },
    {
      "cell_type": "markdown",
      "metadata": {
        "id": "-RdvYCpyo2vC",
        "colab_type": "text"
      },
      "source": [
        "# Preprocessing\n"
      ]
    },
    {
      "cell_type": "markdown",
      "metadata": {
        "id": "V6QgmzMKv6Hw",
        "colab_type": "text"
      },
      "source": [
        "Preprocessing ideas:\n",
        "\n",
        "1.  Dataset has tumor region indicator which would allow us to get the average brightness of the area.\n",
        "\n",
        "2. It is said that brightest region is skull and skull is not important for the tumor detection. It is only brain position determines the tumor class. If we remove skull remaining image is brain ?\n",
        "\n",
        "3. if we start with a window of image which would maximize the presence of tumor and expand to include some brain region around the tumor then i guess it is the best data for training(and predicting). Because tumor position in brain is THE factor that decides the tumor class.\n",
        "\n",
        "4. \n",
        "\n"
      ]
    },
    {
      "cell_type": "code",
      "metadata": {
        "id": "Iuw9KQ19zz9p",
        "colab_type": "code",
        "outputId": "ce13da54-4705-4c86-c35c-2a41defc3a7c",
        "colab": {
          "base_uri": "https://localhost:8080/",
          "height": 34
        }
      },
      "source": [
        "np.int(2.2)"
      ],
      "execution_count": 25,
      "outputs": [
        {
          "output_type": "execute_result",
          "data": {
            "text/plain": [
              "2"
            ]
          },
          "metadata": {
            "tags": []
          },
          "execution_count": 25
        }
      ]
    }
  ]
}